{
  "nbformat": 4,
  "nbformat_minor": 0,
  "metadata": {
    "colab": {
      "provenance": [],
      "include_colab_link": true
    },
    "kernelspec": {
      "name": "python3",
      "display_name": "Python 3"
    },
    "language_info": {
      "name": "python"
    }
  },
  "cells": [
    {
      "cell_type": "markdown",
      "metadata": {
        "id": "view-in-github",
        "colab_type": "text"
      },
      "source": [
        "<a href=\"https://colab.research.google.com/github/arpanastanley24/Detection-of-austism-spectrum-disorder-ASD-/blob/main/Detection_of_Autism_Spectrum_Disorder(ASD).ipynb\" target=\"_parent\"><img src=\"https://colab.research.google.com/assets/colab-badge.svg\" alt=\"Open In Colab\"/></a>"
      ]
    },
    {
      "cell_type": "markdown",
      "source": [
        "# **DETECTION OF AUTISM SPECTRUM DISORDER(ASD)**"
      ],
      "metadata": {
        "id": "s5JV3kvJzfz2"
      }
    },
    {
      "cell_type": "markdown",
      "source": [
        "## **ASD - MUTATED HUMAN GENE**\n",
        "\n",
        "Autism, or autism spectrum disorder (ASD), refers to a broad range of conditions characterized by challenges with social skills, repetitive behaviors, speech and nonverbal communication.\n",
        "\n",
        "### **Causes and Challenges**\n",
        "\n",
        "* It is mostly influenced by a combination of genetic and environmental factors. Because autism is a spectrum disorder, each person with autism has a distinct set of strengths and challenges.\n",
        "\n",
        "* The ways in which people with autism learn, think and problem-solve can range from highly skilled to severely challenged.\n",
        "\n",
        "* Research has made clear that high quality early intervention can improve learning, communication and social skills, as well as underlying brain development. Yet the diagnostic process can take several years.\n",
        "\n",
        "\n",
        "### **ACKNOWLEDGEMENT**\n",
        "\n",
        "This dataset is taken from Kaggle.\n",
        "\n",
        "Autism Specturm Disorder (ASD) patient's Mutated human Gene Dataset.\n",
        "\n",
        "Site: https://gene.sfari.org/database/human-gene/\n"
      ],
      "metadata": {
        "id": "9e9wuW7eXVVL"
      }
    },
    {
      "cell_type": "code",
      "execution_count": null,
      "metadata": {
        "id": "Fv5Kfccb1KsK"
      },
      "outputs": [],
      "source": [
        "#import the required libraries\n",
        "import pandas as pd\n",
        "import numpy as np\n",
        "import matplotlib.pyplot as plt\n",
        "import seaborn as sns\n",
        "\n",
        "# Supress Warnings\n",
        "import warnings\n",
        "warnings.filterwarnings(\"ignore\")"
      ]
    },
    {
      "cell_type": "code",
      "source": [
        "from google.colab import drive\n",
        "drive.mount('/content/drive')"
      ],
      "metadata": {
        "colab": {
          "base_uri": "https://localhost:8080/"
        },
        "id": "osE_YN1a1Rcm",
        "outputId": "bc0c8bc0-d7d1-466b-cef7-ba15b0731754"
      },
      "execution_count": null,
      "outputs": [
        {
          "output_type": "stream",
          "name": "stdout",
          "text": [
            "Drive already mounted at /content/drive; to attempt to forcibly remount, call drive.mount(\"/content/drive\", force_remount=True).\n"
          ]
        }
      ]
    },
    {
      "cell_type": "code",
      "source": [
        "#Read the dataset\n",
        "df=pd.read_csv('/content/drive/MyDrive/SFARI-Gene_genes_09-02-2021release_12-11-2021export.csv')\n",
        "df"
      ],
      "metadata": {
        "colab": {
          "base_uri": "https://localhost:8080/",
          "height": 571
        },
        "id": "qNWyM2dN1elv",
        "outputId": "25de4daa-4030-462a-9e8b-5015bac358bf"
      },
      "execution_count": null,
      "outputs": [
        {
          "output_type": "execute_result",
          "data": {
            "text/plain": [
              "      status gene-symbol                                          gene-name  \\\n",
              "0          9        ABAT                   4-aminobutyrate aminotransferase   \n",
              "1          9      ABCA10  ATP-binding cassette, sub-family A (ABC1), mem...   \n",
              "2          9      ABCA13         ATP binding cassette subfamily A member 13   \n",
              "3          9       ABCA7  ATP-binding cassette, sub-family A (ABC1), mem...   \n",
              "4          9         ACE                    angiotensin I converting enzyme   \n",
              "...      ...         ...                                                ...   \n",
              "1018       9       ZMYM2                  zinc finger MYM-type containing 2   \n",
              "1019       9      ZMYND8                 zinc finger MYND-type containing 8   \n",
              "1020       9      ZNF827                            Zinc finger protein 827   \n",
              "1021       9      ZSWIM6                 zinc finger SWIM-type containing 6   \n",
              "1022       9      ZWILCH                          zwilchkinetochore protein   \n",
              "\n",
              "           ensembl-id chromosome  \\\n",
              "0     ENSG00000183044         16   \n",
              "1     ENSG00000154263         17   \n",
              "2     ENSG00000179869          7   \n",
              "3     ENSG00000064687         19   \n",
              "4     ENSG00000159640         17   \n",
              "...               ...        ...   \n",
              "1018  ENSG00000121741         13   \n",
              "1019  ENSG00000101040         20   \n",
              "1020  ENSG00000151612          4   \n",
              "1021  ENSG00000130449          5   \n",
              "1022  ENSG00000174442         15   \n",
              "\n",
              "                                    genetic-category  gene-score  syndromic  \\\n",
              "0     Rare Single Gene Mutation, Genetic Association         3.0          0   \n",
              "1                          Rare Single Gene Mutation         3.0          0   \n",
              "2              Rare Single Gene Mutation, Functional         3.0          0   \n",
              "3                          Rare Single Gene Mutation         3.0          0   \n",
              "4     Rare Single Gene Mutation, Genetic Association         3.0          0   \n",
              "...                                              ...         ...        ...   \n",
              "1018            Rare Single Gene Mutation, Syndromic         2.0          1   \n",
              "1019                       Rare Single Gene Mutation         1.0          0   \n",
              "1020                             Genetic Association         3.0          0   \n",
              "1021                  Syndromic, Genetic Association         NaN          1   \n",
              "1022                       Rare Single Gene Mutation         3.0          0   \n",
              "\n",
              "      number-of-reports  \n",
              "0                     5  \n",
              "1                     1  \n",
              "2                     6  \n",
              "3                     4  \n",
              "4                     3  \n",
              "...                 ...  \n",
              "1018                  6  \n",
              "1019                  4  \n",
              "1020                  1  \n",
              "1021                  3  \n",
              "1022                  4  \n",
              "\n",
              "[1023 rows x 9 columns]"
            ],
            "text/html": [
              "\n",
              "  <div id=\"df-dcf6a33d-7e5f-4fe1-9f46-21a7d76abdc6\">\n",
              "    <div class=\"colab-df-container\">\n",
              "      <div>\n",
              "<style scoped>\n",
              "    .dataframe tbody tr th:only-of-type {\n",
              "        vertical-align: middle;\n",
              "    }\n",
              "\n",
              "    .dataframe tbody tr th {\n",
              "        vertical-align: top;\n",
              "    }\n",
              "\n",
              "    .dataframe thead th {\n",
              "        text-align: right;\n",
              "    }\n",
              "</style>\n",
              "<table border=\"1\" class=\"dataframe\">\n",
              "  <thead>\n",
              "    <tr style=\"text-align: right;\">\n",
              "      <th></th>\n",
              "      <th>status</th>\n",
              "      <th>gene-symbol</th>\n",
              "      <th>gene-name</th>\n",
              "      <th>ensembl-id</th>\n",
              "      <th>chromosome</th>\n",
              "      <th>genetic-category</th>\n",
              "      <th>gene-score</th>\n",
              "      <th>syndromic</th>\n",
              "      <th>number-of-reports</th>\n",
              "    </tr>\n",
              "  </thead>\n",
              "  <tbody>\n",
              "    <tr>\n",
              "      <th>0</th>\n",
              "      <td>9</td>\n",
              "      <td>ABAT</td>\n",
              "      <td>4-aminobutyrate aminotransferase</td>\n",
              "      <td>ENSG00000183044</td>\n",
              "      <td>16</td>\n",
              "      <td>Rare Single Gene Mutation, Genetic Association</td>\n",
              "      <td>3.0</td>\n",
              "      <td>0</td>\n",
              "      <td>5</td>\n",
              "    </tr>\n",
              "    <tr>\n",
              "      <th>1</th>\n",
              "      <td>9</td>\n",
              "      <td>ABCA10</td>\n",
              "      <td>ATP-binding cassette, sub-family A (ABC1), mem...</td>\n",
              "      <td>ENSG00000154263</td>\n",
              "      <td>17</td>\n",
              "      <td>Rare Single Gene Mutation</td>\n",
              "      <td>3.0</td>\n",
              "      <td>0</td>\n",
              "      <td>1</td>\n",
              "    </tr>\n",
              "    <tr>\n",
              "      <th>2</th>\n",
              "      <td>9</td>\n",
              "      <td>ABCA13</td>\n",
              "      <td>ATP binding cassette subfamily A member 13</td>\n",
              "      <td>ENSG00000179869</td>\n",
              "      <td>7</td>\n",
              "      <td>Rare Single Gene Mutation, Functional</td>\n",
              "      <td>3.0</td>\n",
              "      <td>0</td>\n",
              "      <td>6</td>\n",
              "    </tr>\n",
              "    <tr>\n",
              "      <th>3</th>\n",
              "      <td>9</td>\n",
              "      <td>ABCA7</td>\n",
              "      <td>ATP-binding cassette, sub-family A (ABC1), mem...</td>\n",
              "      <td>ENSG00000064687</td>\n",
              "      <td>19</td>\n",
              "      <td>Rare Single Gene Mutation</td>\n",
              "      <td>3.0</td>\n",
              "      <td>0</td>\n",
              "      <td>4</td>\n",
              "    </tr>\n",
              "    <tr>\n",
              "      <th>4</th>\n",
              "      <td>9</td>\n",
              "      <td>ACE</td>\n",
              "      <td>angiotensin I converting enzyme</td>\n",
              "      <td>ENSG00000159640</td>\n",
              "      <td>17</td>\n",
              "      <td>Rare Single Gene Mutation, Genetic Association</td>\n",
              "      <td>3.0</td>\n",
              "      <td>0</td>\n",
              "      <td>3</td>\n",
              "    </tr>\n",
              "    <tr>\n",
              "      <th>...</th>\n",
              "      <td>...</td>\n",
              "      <td>...</td>\n",
              "      <td>...</td>\n",
              "      <td>...</td>\n",
              "      <td>...</td>\n",
              "      <td>...</td>\n",
              "      <td>...</td>\n",
              "      <td>...</td>\n",
              "      <td>...</td>\n",
              "    </tr>\n",
              "    <tr>\n",
              "      <th>1018</th>\n",
              "      <td>9</td>\n",
              "      <td>ZMYM2</td>\n",
              "      <td>zinc finger MYM-type containing 2</td>\n",
              "      <td>ENSG00000121741</td>\n",
              "      <td>13</td>\n",
              "      <td>Rare Single Gene Mutation, Syndromic</td>\n",
              "      <td>2.0</td>\n",
              "      <td>1</td>\n",
              "      <td>6</td>\n",
              "    </tr>\n",
              "    <tr>\n",
              "      <th>1019</th>\n",
              "      <td>9</td>\n",
              "      <td>ZMYND8</td>\n",
              "      <td>zinc finger MYND-type containing 8</td>\n",
              "      <td>ENSG00000101040</td>\n",
              "      <td>20</td>\n",
              "      <td>Rare Single Gene Mutation</td>\n",
              "      <td>1.0</td>\n",
              "      <td>0</td>\n",
              "      <td>4</td>\n",
              "    </tr>\n",
              "    <tr>\n",
              "      <th>1020</th>\n",
              "      <td>9</td>\n",
              "      <td>ZNF827</td>\n",
              "      <td>Zinc finger protein 827</td>\n",
              "      <td>ENSG00000151612</td>\n",
              "      <td>4</td>\n",
              "      <td>Genetic Association</td>\n",
              "      <td>3.0</td>\n",
              "      <td>0</td>\n",
              "      <td>1</td>\n",
              "    </tr>\n",
              "    <tr>\n",
              "      <th>1021</th>\n",
              "      <td>9</td>\n",
              "      <td>ZSWIM6</td>\n",
              "      <td>zinc finger SWIM-type containing 6</td>\n",
              "      <td>ENSG00000130449</td>\n",
              "      <td>5</td>\n",
              "      <td>Syndromic, Genetic Association</td>\n",
              "      <td>NaN</td>\n",
              "      <td>1</td>\n",
              "      <td>3</td>\n",
              "    </tr>\n",
              "    <tr>\n",
              "      <th>1022</th>\n",
              "      <td>9</td>\n",
              "      <td>ZWILCH</td>\n",
              "      <td>zwilchkinetochore protein</td>\n",
              "      <td>ENSG00000174442</td>\n",
              "      <td>15</td>\n",
              "      <td>Rare Single Gene Mutation</td>\n",
              "      <td>3.0</td>\n",
              "      <td>0</td>\n",
              "      <td>4</td>\n",
              "    </tr>\n",
              "  </tbody>\n",
              "</table>\n",
              "<p>1023 rows × 9 columns</p>\n",
              "</div>\n",
              "      <button class=\"colab-df-convert\" onclick=\"convertToInteractive('df-dcf6a33d-7e5f-4fe1-9f46-21a7d76abdc6')\"\n",
              "              title=\"Convert this dataframe to an interactive table.\"\n",
              "              style=\"display:none;\">\n",
              "        \n",
              "  <svg xmlns=\"http://www.w3.org/2000/svg\" height=\"24px\"viewBox=\"0 0 24 24\"\n",
              "       width=\"24px\">\n",
              "    <path d=\"M0 0h24v24H0V0z\" fill=\"none\"/>\n",
              "    <path d=\"M18.56 5.44l.94 2.06.94-2.06 2.06-.94-2.06-.94-.94-2.06-.94 2.06-2.06.94zm-11 1L8.5 8.5l.94-2.06 2.06-.94-2.06-.94L8.5 2.5l-.94 2.06-2.06.94zm10 10l.94 2.06.94-2.06 2.06-.94-2.06-.94-.94-2.06-.94 2.06-2.06.94z\"/><path d=\"M17.41 7.96l-1.37-1.37c-.4-.4-.92-.59-1.43-.59-.52 0-1.04.2-1.43.59L10.3 9.45l-7.72 7.72c-.78.78-.78 2.05 0 2.83L4 21.41c.39.39.9.59 1.41.59.51 0 1.02-.2 1.41-.59l7.78-7.78 2.81-2.81c.8-.78.8-2.07 0-2.86zM5.41 20L4 18.59l7.72-7.72 1.47 1.35L5.41 20z\"/>\n",
              "  </svg>\n",
              "      </button>\n",
              "      \n",
              "  <style>\n",
              "    .colab-df-container {\n",
              "      display:flex;\n",
              "      flex-wrap:wrap;\n",
              "      gap: 12px;\n",
              "    }\n",
              "\n",
              "    .colab-df-convert {\n",
              "      background-color: #E8F0FE;\n",
              "      border: none;\n",
              "      border-radius: 50%;\n",
              "      cursor: pointer;\n",
              "      display: none;\n",
              "      fill: #1967D2;\n",
              "      height: 32px;\n",
              "      padding: 0 0 0 0;\n",
              "      width: 32px;\n",
              "    }\n",
              "\n",
              "    .colab-df-convert:hover {\n",
              "      background-color: #E2EBFA;\n",
              "      box-shadow: 0px 1px 2px rgba(60, 64, 67, 0.3), 0px 1px 3px 1px rgba(60, 64, 67, 0.15);\n",
              "      fill: #174EA6;\n",
              "    }\n",
              "\n",
              "    [theme=dark] .colab-df-convert {\n",
              "      background-color: #3B4455;\n",
              "      fill: #D2E3FC;\n",
              "    }\n",
              "\n",
              "    [theme=dark] .colab-df-convert:hover {\n",
              "      background-color: #434B5C;\n",
              "      box-shadow: 0px 1px 3px 1px rgba(0, 0, 0, 0.15);\n",
              "      filter: drop-shadow(0px 1px 2px rgba(0, 0, 0, 0.3));\n",
              "      fill: #FFFFFF;\n",
              "    }\n",
              "  </style>\n",
              "\n",
              "      <script>\n",
              "        const buttonEl =\n",
              "          document.querySelector('#df-dcf6a33d-7e5f-4fe1-9f46-21a7d76abdc6 button.colab-df-convert');\n",
              "        buttonEl.style.display =\n",
              "          google.colab.kernel.accessAllowed ? 'block' : 'none';\n",
              "\n",
              "        async function convertToInteractive(key) {\n",
              "          const element = document.querySelector('#df-dcf6a33d-7e5f-4fe1-9f46-21a7d76abdc6');\n",
              "          const dataTable =\n",
              "            await google.colab.kernel.invokeFunction('convertToInteractive',\n",
              "                                                     [key], {});\n",
              "          if (!dataTable) return;\n",
              "\n",
              "          const docLinkHtml = 'Like what you see? Visit the ' +\n",
              "            '<a target=\"_blank\" href=https://colab.research.google.com/notebooks/data_table.ipynb>data table notebook</a>'\n",
              "            + ' to learn more about interactive tables.';\n",
              "          element.innerHTML = '';\n",
              "          dataTable['output_type'] = 'display_data';\n",
              "          await google.colab.output.renderOutput(dataTable, element);\n",
              "          const docLink = document.createElement('div');\n",
              "          docLink.innerHTML = docLinkHtml;\n",
              "          element.appendChild(docLink);\n",
              "        }\n",
              "      </script>\n",
              "    </div>\n",
              "  </div>\n",
              "  "
            ]
          },
          "metadata": {},
          "execution_count": 81
        }
      ]
    },
    {
      "cell_type": "markdown",
      "source": [
        "# **EXPLORATORY DATA ANALYSIS**"
      ],
      "metadata": {
        "id": "zXqw6-HKqdZ5"
      }
    },
    {
      "cell_type": "code",
      "source": [
        "#Retrieves the first 5 rows\n",
        "df.head()"
      ],
      "metadata": {
        "id": "m7cp-TsNOvqR",
        "colab": {
          "base_uri": "https://localhost:8080/",
          "height": 337
        },
        "outputId": "32c56371-8bca-4392-fd3f-c31e39c331ff"
      },
      "execution_count": null,
      "outputs": [
        {
          "output_type": "execute_result",
          "data": {
            "text/plain": [
              "   status gene-symbol                                          gene-name  \\\n",
              "0       9        ABAT                   4-aminobutyrate aminotransferase   \n",
              "1       9      ABCA10  ATP-binding cassette, sub-family A (ABC1), mem...   \n",
              "2       9      ABCA13         ATP binding cassette subfamily A member 13   \n",
              "3       9       ABCA7  ATP-binding cassette, sub-family A (ABC1), mem...   \n",
              "4       9         ACE                    angiotensin I converting enzyme   \n",
              "\n",
              "        ensembl-id chromosome                                genetic-category  \\\n",
              "0  ENSG00000183044         16  Rare Single Gene Mutation, Genetic Association   \n",
              "1  ENSG00000154263         17                       Rare Single Gene Mutation   \n",
              "2  ENSG00000179869          7           Rare Single Gene Mutation, Functional   \n",
              "3  ENSG00000064687         19                       Rare Single Gene Mutation   \n",
              "4  ENSG00000159640         17  Rare Single Gene Mutation, Genetic Association   \n",
              "\n",
              "   gene-score  syndromic  number-of-reports  \n",
              "0         3.0          0                  5  \n",
              "1         3.0          0                  1  \n",
              "2         3.0          0                  6  \n",
              "3         3.0          0                  4  \n",
              "4         3.0          0                  3  "
            ],
            "text/html": [
              "\n",
              "  <div id=\"df-6cf91263-ce79-464a-b9f7-646039d81bf6\">\n",
              "    <div class=\"colab-df-container\">\n",
              "      <div>\n",
              "<style scoped>\n",
              "    .dataframe tbody tr th:only-of-type {\n",
              "        vertical-align: middle;\n",
              "    }\n",
              "\n",
              "    .dataframe tbody tr th {\n",
              "        vertical-align: top;\n",
              "    }\n",
              "\n",
              "    .dataframe thead th {\n",
              "        text-align: right;\n",
              "    }\n",
              "</style>\n",
              "<table border=\"1\" class=\"dataframe\">\n",
              "  <thead>\n",
              "    <tr style=\"text-align: right;\">\n",
              "      <th></th>\n",
              "      <th>status</th>\n",
              "      <th>gene-symbol</th>\n",
              "      <th>gene-name</th>\n",
              "      <th>ensembl-id</th>\n",
              "      <th>chromosome</th>\n",
              "      <th>genetic-category</th>\n",
              "      <th>gene-score</th>\n",
              "      <th>syndromic</th>\n",
              "      <th>number-of-reports</th>\n",
              "    </tr>\n",
              "  </thead>\n",
              "  <tbody>\n",
              "    <tr>\n",
              "      <th>0</th>\n",
              "      <td>9</td>\n",
              "      <td>ABAT</td>\n",
              "      <td>4-aminobutyrate aminotransferase</td>\n",
              "      <td>ENSG00000183044</td>\n",
              "      <td>16</td>\n",
              "      <td>Rare Single Gene Mutation, Genetic Association</td>\n",
              "      <td>3.0</td>\n",
              "      <td>0</td>\n",
              "      <td>5</td>\n",
              "    </tr>\n",
              "    <tr>\n",
              "      <th>1</th>\n",
              "      <td>9</td>\n",
              "      <td>ABCA10</td>\n",
              "      <td>ATP-binding cassette, sub-family A (ABC1), mem...</td>\n",
              "      <td>ENSG00000154263</td>\n",
              "      <td>17</td>\n",
              "      <td>Rare Single Gene Mutation</td>\n",
              "      <td>3.0</td>\n",
              "      <td>0</td>\n",
              "      <td>1</td>\n",
              "    </tr>\n",
              "    <tr>\n",
              "      <th>2</th>\n",
              "      <td>9</td>\n",
              "      <td>ABCA13</td>\n",
              "      <td>ATP binding cassette subfamily A member 13</td>\n",
              "      <td>ENSG00000179869</td>\n",
              "      <td>7</td>\n",
              "      <td>Rare Single Gene Mutation, Functional</td>\n",
              "      <td>3.0</td>\n",
              "      <td>0</td>\n",
              "      <td>6</td>\n",
              "    </tr>\n",
              "    <tr>\n",
              "      <th>3</th>\n",
              "      <td>9</td>\n",
              "      <td>ABCA7</td>\n",
              "      <td>ATP-binding cassette, sub-family A (ABC1), mem...</td>\n",
              "      <td>ENSG00000064687</td>\n",
              "      <td>19</td>\n",
              "      <td>Rare Single Gene Mutation</td>\n",
              "      <td>3.0</td>\n",
              "      <td>0</td>\n",
              "      <td>4</td>\n",
              "    </tr>\n",
              "    <tr>\n",
              "      <th>4</th>\n",
              "      <td>9</td>\n",
              "      <td>ACE</td>\n",
              "      <td>angiotensin I converting enzyme</td>\n",
              "      <td>ENSG00000159640</td>\n",
              "      <td>17</td>\n",
              "      <td>Rare Single Gene Mutation, Genetic Association</td>\n",
              "      <td>3.0</td>\n",
              "      <td>0</td>\n",
              "      <td>3</td>\n",
              "    </tr>\n",
              "  </tbody>\n",
              "</table>\n",
              "</div>\n",
              "      <button class=\"colab-df-convert\" onclick=\"convertToInteractive('df-6cf91263-ce79-464a-b9f7-646039d81bf6')\"\n",
              "              title=\"Convert this dataframe to an interactive table.\"\n",
              "              style=\"display:none;\">\n",
              "        \n",
              "  <svg xmlns=\"http://www.w3.org/2000/svg\" height=\"24px\"viewBox=\"0 0 24 24\"\n",
              "       width=\"24px\">\n",
              "    <path d=\"M0 0h24v24H0V0z\" fill=\"none\"/>\n",
              "    <path d=\"M18.56 5.44l.94 2.06.94-2.06 2.06-.94-2.06-.94-.94-2.06-.94 2.06-2.06.94zm-11 1L8.5 8.5l.94-2.06 2.06-.94-2.06-.94L8.5 2.5l-.94 2.06-2.06.94zm10 10l.94 2.06.94-2.06 2.06-.94-2.06-.94-.94-2.06-.94 2.06-2.06.94z\"/><path d=\"M17.41 7.96l-1.37-1.37c-.4-.4-.92-.59-1.43-.59-.52 0-1.04.2-1.43.59L10.3 9.45l-7.72 7.72c-.78.78-.78 2.05 0 2.83L4 21.41c.39.39.9.59 1.41.59.51 0 1.02-.2 1.41-.59l7.78-7.78 2.81-2.81c.8-.78.8-2.07 0-2.86zM5.41 20L4 18.59l7.72-7.72 1.47 1.35L5.41 20z\"/>\n",
              "  </svg>\n",
              "      </button>\n",
              "      \n",
              "  <style>\n",
              "    .colab-df-container {\n",
              "      display:flex;\n",
              "      flex-wrap:wrap;\n",
              "      gap: 12px;\n",
              "    }\n",
              "\n",
              "    .colab-df-convert {\n",
              "      background-color: #E8F0FE;\n",
              "      border: none;\n",
              "      border-radius: 50%;\n",
              "      cursor: pointer;\n",
              "      display: none;\n",
              "      fill: #1967D2;\n",
              "      height: 32px;\n",
              "      padding: 0 0 0 0;\n",
              "      width: 32px;\n",
              "    }\n",
              "\n",
              "    .colab-df-convert:hover {\n",
              "      background-color: #E2EBFA;\n",
              "      box-shadow: 0px 1px 2px rgba(60, 64, 67, 0.3), 0px 1px 3px 1px rgba(60, 64, 67, 0.15);\n",
              "      fill: #174EA6;\n",
              "    }\n",
              "\n",
              "    [theme=dark] .colab-df-convert {\n",
              "      background-color: #3B4455;\n",
              "      fill: #D2E3FC;\n",
              "    }\n",
              "\n",
              "    [theme=dark] .colab-df-convert:hover {\n",
              "      background-color: #434B5C;\n",
              "      box-shadow: 0px 1px 3px 1px rgba(0, 0, 0, 0.15);\n",
              "      filter: drop-shadow(0px 1px 2px rgba(0, 0, 0, 0.3));\n",
              "      fill: #FFFFFF;\n",
              "    }\n",
              "  </style>\n",
              "\n",
              "      <script>\n",
              "        const buttonEl =\n",
              "          document.querySelector('#df-6cf91263-ce79-464a-b9f7-646039d81bf6 button.colab-df-convert');\n",
              "        buttonEl.style.display =\n",
              "          google.colab.kernel.accessAllowed ? 'block' : 'none';\n",
              "\n",
              "        async function convertToInteractive(key) {\n",
              "          const element = document.querySelector('#df-6cf91263-ce79-464a-b9f7-646039d81bf6');\n",
              "          const dataTable =\n",
              "            await google.colab.kernel.invokeFunction('convertToInteractive',\n",
              "                                                     [key], {});\n",
              "          if (!dataTable) return;\n",
              "\n",
              "          const docLinkHtml = 'Like what you see? Visit the ' +\n",
              "            '<a target=\"_blank\" href=https://colab.research.google.com/notebooks/data_table.ipynb>data table notebook</a>'\n",
              "            + ' to learn more about interactive tables.';\n",
              "          element.innerHTML = '';\n",
              "          dataTable['output_type'] = 'display_data';\n",
              "          await google.colab.output.renderOutput(dataTable, element);\n",
              "          const docLink = document.createElement('div');\n",
              "          docLink.innerHTML = docLinkHtml;\n",
              "          element.appendChild(docLink);\n",
              "        }\n",
              "      </script>\n",
              "    </div>\n",
              "  </div>\n",
              "  "
            ]
          },
          "metadata": {},
          "execution_count": 82
        }
      ]
    },
    {
      "cell_type": "code",
      "source": [
        "#Rerieves the last 7 rows\n",
        "df.tail(7)"
      ],
      "metadata": {
        "id": "Y96iBZj_OxjC",
        "colab": {
          "base_uri": "https://localhost:8080/",
          "height": 382
        },
        "outputId": "f10b1b94-7d85-4cb3-82f9-b8f61f94607c"
      },
      "execution_count": null,
      "outputs": [
        {
          "output_type": "execute_result",
          "data": {
            "text/plain": [
              "      status gene-symbol                                          gene-name  \\\n",
              "1016       9       YWHAG  tyrosine 3-monooxygenase/tryptophan 5-monooxyg...   \n",
              "1017       9       ZMIZ1                  zinc finger MIZ-type containing 1   \n",
              "1018       9       ZMYM2                  zinc finger MYM-type containing 2   \n",
              "1019       9      ZMYND8                 zinc finger MYND-type containing 8   \n",
              "1020       9      ZNF827                            Zinc finger protein 827   \n",
              "1021       9      ZSWIM6                 zinc finger SWIM-type containing 6   \n",
              "1022       9      ZWILCH                          zwilchkinetochore protein   \n",
              "\n",
              "           ensembl-id chromosome                      genetic-category  \\\n",
              "1016  ENSG00000170027          7  Rare Single Gene Mutation, Syndromic   \n",
              "1017  ENSG00000108175         10  Rare Single Gene Mutation, Syndromic   \n",
              "1018  ENSG00000121741         13  Rare Single Gene Mutation, Syndromic   \n",
              "1019  ENSG00000101040         20             Rare Single Gene Mutation   \n",
              "1020  ENSG00000151612          4                   Genetic Association   \n",
              "1021  ENSG00000130449          5        Syndromic, Genetic Association   \n",
              "1022  ENSG00000174442         15             Rare Single Gene Mutation   \n",
              "\n",
              "      gene-score  syndromic  number-of-reports  \n",
              "1016         3.0          1                  7  \n",
              "1017         2.0          1                  4  \n",
              "1018         2.0          1                  6  \n",
              "1019         1.0          0                  4  \n",
              "1020         3.0          0                  1  \n",
              "1021         NaN          1                  3  \n",
              "1022         3.0          0                  4  "
            ],
            "text/html": [
              "\n",
              "  <div id=\"df-b4589ac5-3efc-4294-825e-45c945aa402d\">\n",
              "    <div class=\"colab-df-container\">\n",
              "      <div>\n",
              "<style scoped>\n",
              "    .dataframe tbody tr th:only-of-type {\n",
              "        vertical-align: middle;\n",
              "    }\n",
              "\n",
              "    .dataframe tbody tr th {\n",
              "        vertical-align: top;\n",
              "    }\n",
              "\n",
              "    .dataframe thead th {\n",
              "        text-align: right;\n",
              "    }\n",
              "</style>\n",
              "<table border=\"1\" class=\"dataframe\">\n",
              "  <thead>\n",
              "    <tr style=\"text-align: right;\">\n",
              "      <th></th>\n",
              "      <th>status</th>\n",
              "      <th>gene-symbol</th>\n",
              "      <th>gene-name</th>\n",
              "      <th>ensembl-id</th>\n",
              "      <th>chromosome</th>\n",
              "      <th>genetic-category</th>\n",
              "      <th>gene-score</th>\n",
              "      <th>syndromic</th>\n",
              "      <th>number-of-reports</th>\n",
              "    </tr>\n",
              "  </thead>\n",
              "  <tbody>\n",
              "    <tr>\n",
              "      <th>1016</th>\n",
              "      <td>9</td>\n",
              "      <td>YWHAG</td>\n",
              "      <td>tyrosine 3-monooxygenase/tryptophan 5-monooxyg...</td>\n",
              "      <td>ENSG00000170027</td>\n",
              "      <td>7</td>\n",
              "      <td>Rare Single Gene Mutation, Syndromic</td>\n",
              "      <td>3.0</td>\n",
              "      <td>1</td>\n",
              "      <td>7</td>\n",
              "    </tr>\n",
              "    <tr>\n",
              "      <th>1017</th>\n",
              "      <td>9</td>\n",
              "      <td>ZMIZ1</td>\n",
              "      <td>zinc finger MIZ-type containing 1</td>\n",
              "      <td>ENSG00000108175</td>\n",
              "      <td>10</td>\n",
              "      <td>Rare Single Gene Mutation, Syndromic</td>\n",
              "      <td>2.0</td>\n",
              "      <td>1</td>\n",
              "      <td>4</td>\n",
              "    </tr>\n",
              "    <tr>\n",
              "      <th>1018</th>\n",
              "      <td>9</td>\n",
              "      <td>ZMYM2</td>\n",
              "      <td>zinc finger MYM-type containing 2</td>\n",
              "      <td>ENSG00000121741</td>\n",
              "      <td>13</td>\n",
              "      <td>Rare Single Gene Mutation, Syndromic</td>\n",
              "      <td>2.0</td>\n",
              "      <td>1</td>\n",
              "      <td>6</td>\n",
              "    </tr>\n",
              "    <tr>\n",
              "      <th>1019</th>\n",
              "      <td>9</td>\n",
              "      <td>ZMYND8</td>\n",
              "      <td>zinc finger MYND-type containing 8</td>\n",
              "      <td>ENSG00000101040</td>\n",
              "      <td>20</td>\n",
              "      <td>Rare Single Gene Mutation</td>\n",
              "      <td>1.0</td>\n",
              "      <td>0</td>\n",
              "      <td>4</td>\n",
              "    </tr>\n",
              "    <tr>\n",
              "      <th>1020</th>\n",
              "      <td>9</td>\n",
              "      <td>ZNF827</td>\n",
              "      <td>Zinc finger protein 827</td>\n",
              "      <td>ENSG00000151612</td>\n",
              "      <td>4</td>\n",
              "      <td>Genetic Association</td>\n",
              "      <td>3.0</td>\n",
              "      <td>0</td>\n",
              "      <td>1</td>\n",
              "    </tr>\n",
              "    <tr>\n",
              "      <th>1021</th>\n",
              "      <td>9</td>\n",
              "      <td>ZSWIM6</td>\n",
              "      <td>zinc finger SWIM-type containing 6</td>\n",
              "      <td>ENSG00000130449</td>\n",
              "      <td>5</td>\n",
              "      <td>Syndromic, Genetic Association</td>\n",
              "      <td>NaN</td>\n",
              "      <td>1</td>\n",
              "      <td>3</td>\n",
              "    </tr>\n",
              "    <tr>\n",
              "      <th>1022</th>\n",
              "      <td>9</td>\n",
              "      <td>ZWILCH</td>\n",
              "      <td>zwilchkinetochore protein</td>\n",
              "      <td>ENSG00000174442</td>\n",
              "      <td>15</td>\n",
              "      <td>Rare Single Gene Mutation</td>\n",
              "      <td>3.0</td>\n",
              "      <td>0</td>\n",
              "      <td>4</td>\n",
              "    </tr>\n",
              "  </tbody>\n",
              "</table>\n",
              "</div>\n",
              "      <button class=\"colab-df-convert\" onclick=\"convertToInteractive('df-b4589ac5-3efc-4294-825e-45c945aa402d')\"\n",
              "              title=\"Convert this dataframe to an interactive table.\"\n",
              "              style=\"display:none;\">\n",
              "        \n",
              "  <svg xmlns=\"http://www.w3.org/2000/svg\" height=\"24px\"viewBox=\"0 0 24 24\"\n",
              "       width=\"24px\">\n",
              "    <path d=\"M0 0h24v24H0V0z\" fill=\"none\"/>\n",
              "    <path d=\"M18.56 5.44l.94 2.06.94-2.06 2.06-.94-2.06-.94-.94-2.06-.94 2.06-2.06.94zm-11 1L8.5 8.5l.94-2.06 2.06-.94-2.06-.94L8.5 2.5l-.94 2.06-2.06.94zm10 10l.94 2.06.94-2.06 2.06-.94-2.06-.94-.94-2.06-.94 2.06-2.06.94z\"/><path d=\"M17.41 7.96l-1.37-1.37c-.4-.4-.92-.59-1.43-.59-.52 0-1.04.2-1.43.59L10.3 9.45l-7.72 7.72c-.78.78-.78 2.05 0 2.83L4 21.41c.39.39.9.59 1.41.59.51 0 1.02-.2 1.41-.59l7.78-7.78 2.81-2.81c.8-.78.8-2.07 0-2.86zM5.41 20L4 18.59l7.72-7.72 1.47 1.35L5.41 20z\"/>\n",
              "  </svg>\n",
              "      </button>\n",
              "      \n",
              "  <style>\n",
              "    .colab-df-container {\n",
              "      display:flex;\n",
              "      flex-wrap:wrap;\n",
              "      gap: 12px;\n",
              "    }\n",
              "\n",
              "    .colab-df-convert {\n",
              "      background-color: #E8F0FE;\n",
              "      border: none;\n",
              "      border-radius: 50%;\n",
              "      cursor: pointer;\n",
              "      display: none;\n",
              "      fill: #1967D2;\n",
              "      height: 32px;\n",
              "      padding: 0 0 0 0;\n",
              "      width: 32px;\n",
              "    }\n",
              "\n",
              "    .colab-df-convert:hover {\n",
              "      background-color: #E2EBFA;\n",
              "      box-shadow: 0px 1px 2px rgba(60, 64, 67, 0.3), 0px 1px 3px 1px rgba(60, 64, 67, 0.15);\n",
              "      fill: #174EA6;\n",
              "    }\n",
              "\n",
              "    [theme=dark] .colab-df-convert {\n",
              "      background-color: #3B4455;\n",
              "      fill: #D2E3FC;\n",
              "    }\n",
              "\n",
              "    [theme=dark] .colab-df-convert:hover {\n",
              "      background-color: #434B5C;\n",
              "      box-shadow: 0px 1px 3px 1px rgba(0, 0, 0, 0.15);\n",
              "      filter: drop-shadow(0px 1px 2px rgba(0, 0, 0, 0.3));\n",
              "      fill: #FFFFFF;\n",
              "    }\n",
              "  </style>\n",
              "\n",
              "      <script>\n",
              "        const buttonEl =\n",
              "          document.querySelector('#df-b4589ac5-3efc-4294-825e-45c945aa402d button.colab-df-convert');\n",
              "        buttonEl.style.display =\n",
              "          google.colab.kernel.accessAllowed ? 'block' : 'none';\n",
              "\n",
              "        async function convertToInteractive(key) {\n",
              "          const element = document.querySelector('#df-b4589ac5-3efc-4294-825e-45c945aa402d');\n",
              "          const dataTable =\n",
              "            await google.colab.kernel.invokeFunction('convertToInteractive',\n",
              "                                                     [key], {});\n",
              "          if (!dataTable) return;\n",
              "\n",
              "          const docLinkHtml = 'Like what you see? Visit the ' +\n",
              "            '<a target=\"_blank\" href=https://colab.research.google.com/notebooks/data_table.ipynb>data table notebook</a>'\n",
              "            + ' to learn more about interactive tables.';\n",
              "          element.innerHTML = '';\n",
              "          dataTable['output_type'] = 'display_data';\n",
              "          await google.colab.output.renderOutput(dataTable, element);\n",
              "          const docLink = document.createElement('div');\n",
              "          docLink.innerHTML = docLinkHtml;\n",
              "          element.appendChild(docLink);\n",
              "        }\n",
              "      </script>\n",
              "    </div>\n",
              "  </div>\n",
              "  "
            ]
          },
          "metadata": {},
          "execution_count": 83
        }
      ]
    },
    {
      "cell_type": "code",
      "source": [
        "#Size of the dataset\n",
        "print(\"Size of Dataset: {} rows , {} columns\".format(df.shape[0],df.shape[1]))"
      ],
      "metadata": {
        "colab": {
          "base_uri": "https://localhost:8080/"
        },
        "id": "eeXY2-Bq1rqp",
        "outputId": "d9bed9b1-1383-4e06-b72b-3d61519df3d5"
      },
      "execution_count": null,
      "outputs": [
        {
          "output_type": "stream",
          "name": "stdout",
          "text": [
            "Size of Dataset: 1023 rows , 9 columns\n"
          ]
        }
      ]
    },
    {
      "cell_type": "code",
      "source": [
        "#Summary measures\n",
        "df.describe().T.style.background_gradient(cmap='Oranges')"
      ],
      "metadata": {
        "colab": {
          "base_uri": "https://localhost:8080/",
          "height": 174
        },
        "id": "1oqsihGt1uih",
        "outputId": "635f5c1b-4bb8-43ff-91ab-50a99abf832c"
      },
      "execution_count": null,
      "outputs": [
        {
          "output_type": "execute_result",
          "data": {
            "text/plain": [
              "<pandas.io.formats.style.Styler at 0x7f98c0f48220>"
            ],
            "text/html": [
              "<style type=\"text/css\">\n",
              "#T_188c1_row0_col0, #T_188c1_row0_col1, #T_188c1_row0_col3, #T_188c1_row0_col4, #T_188c1_row0_col5, #T_188c1_row0_col6, #T_188c1_row2_col0, #T_188c1_row3_col0, #T_188c1_row3_col2, #T_188c1_row3_col6, #T_188c1_row3_col7 {\n",
              "  background-color: #7f2704;\n",
              "  color: #f1f1f1;\n",
              "}\n",
              "#T_188c1_row0_col2, #T_188c1_row1_col0, #T_188c1_row2_col1, #T_188c1_row2_col3, #T_188c1_row2_col4, #T_188c1_row2_col5, #T_188c1_row2_col6, #T_188c1_row2_col7 {\n",
              "  background-color: #fff5eb;\n",
              "  color: #000000;\n",
              "}\n",
              "#T_188c1_row0_col7 {\n",
              "  background-color: #feebd7;\n",
              "  color: #000000;\n",
              "}\n",
              "#T_188c1_row1_col1 {\n",
              "  background-color: #fdd2a6;\n",
              "  color: #000000;\n",
              "}\n",
              "#T_188c1_row1_col2 {\n",
              "  background-color: #feecda;\n",
              "  color: #000000;\n",
              "}\n",
              "#T_188c1_row1_col3, #T_188c1_row3_col3 {\n",
              "  background-color: #fee8d2;\n",
              "  color: #000000;\n",
              "}\n",
              "#T_188c1_row1_col4 {\n",
              "  background-color: #fdd5ad;\n",
              "  color: #000000;\n",
              "}\n",
              "#T_188c1_row1_col5, #T_188c1_row1_col6, #T_188c1_row3_col4 {\n",
              "  background-color: #fdb97d;\n",
              "  color: #000000;\n",
              "}\n",
              "#T_188c1_row1_col7 {\n",
              "  background-color: #fff3e6;\n",
              "  color: #000000;\n",
              "}\n",
              "#T_188c1_row2_col2 {\n",
              "  background-color: #fff1e3;\n",
              "  color: #000000;\n",
              "}\n",
              "#T_188c1_row3_col1 {\n",
              "  background-color: #8c2c04;\n",
              "  color: #f1f1f1;\n",
              "}\n",
              "#T_188c1_row3_col5 {\n",
              "  background-color: #f87d29;\n",
              "  color: #f1f1f1;\n",
              "}\n",
              "</style>\n",
              "<table id=\"T_188c1\" class=\"dataframe\">\n",
              "  <thead>\n",
              "    <tr>\n",
              "      <th class=\"blank level0\" >&nbsp;</th>\n",
              "      <th id=\"T_188c1_level0_col0\" class=\"col_heading level0 col0\" >count</th>\n",
              "      <th id=\"T_188c1_level0_col1\" class=\"col_heading level0 col1\" >mean</th>\n",
              "      <th id=\"T_188c1_level0_col2\" class=\"col_heading level0 col2\" >std</th>\n",
              "      <th id=\"T_188c1_level0_col3\" class=\"col_heading level0 col3\" >min</th>\n",
              "      <th id=\"T_188c1_level0_col4\" class=\"col_heading level0 col4\" >25%</th>\n",
              "      <th id=\"T_188c1_level0_col5\" class=\"col_heading level0 col5\" >50%</th>\n",
              "      <th id=\"T_188c1_level0_col6\" class=\"col_heading level0 col6\" >75%</th>\n",
              "      <th id=\"T_188c1_level0_col7\" class=\"col_heading level0 col7\" >max</th>\n",
              "    </tr>\n",
              "  </thead>\n",
              "  <tbody>\n",
              "    <tr>\n",
              "      <th id=\"T_188c1_level0_row0\" class=\"row_heading level0 row0\" >status</th>\n",
              "      <td id=\"T_188c1_row0_col0\" class=\"data row0 col0\" >1023.000000</td>\n",
              "      <td id=\"T_188c1_row0_col1\" class=\"data row0 col1\" >9.000000</td>\n",
              "      <td id=\"T_188c1_row0_col2\" class=\"data row0 col2\" >0.000000</td>\n",
              "      <td id=\"T_188c1_row0_col3\" class=\"data row0 col3\" >9.000000</td>\n",
              "      <td id=\"T_188c1_row0_col4\" class=\"data row0 col4\" >9.000000</td>\n",
              "      <td id=\"T_188c1_row0_col5\" class=\"data row0 col5\" >9.000000</td>\n",
              "      <td id=\"T_188c1_row0_col6\" class=\"data row0 col6\" >9.000000</td>\n",
              "      <td id=\"T_188c1_row0_col7\" class=\"data row0 col7\" >9.000000</td>\n",
              "    </tr>\n",
              "    <tr>\n",
              "      <th id=\"T_188c1_level0_row1\" class=\"row_heading level0 row1\" >gene-score</th>\n",
              "      <td id=\"T_188c1_row1_col0\" class=\"data row1 col0\" >942.000000</td>\n",
              "      <td id=\"T_188c1_row1_col1\" class=\"data row1 col1\" >2.326964</td>\n",
              "      <td id=\"T_188c1_row1_col2\" class=\"data row1 col2\" >0.812558</td>\n",
              "      <td id=\"T_188c1_row1_col3\" class=\"data row1 col3\" >1.000000</td>\n",
              "      <td id=\"T_188c1_row1_col4\" class=\"data row1 col4\" >2.000000</td>\n",
              "      <td id=\"T_188c1_row1_col5\" class=\"data row1 col5\" >3.000000</td>\n",
              "      <td id=\"T_188c1_row1_col6\" class=\"data row1 col6\" >3.000000</td>\n",
              "      <td id=\"T_188c1_row1_col7\" class=\"data row1 col7\" >3.000000</td>\n",
              "    </tr>\n",
              "    <tr>\n",
              "      <th id=\"T_188c1_level0_row2\" class=\"row_heading level0 row2\" >syndromic</th>\n",
              "      <td id=\"T_188c1_row2_col0\" class=\"data row2 col0\" >1023.000000</td>\n",
              "      <td id=\"T_188c1_row2_col1\" class=\"data row2 col1\" >0.224829</td>\n",
              "      <td id=\"T_188c1_row2_col2\" class=\"data row2 col2\" >0.417674</td>\n",
              "      <td id=\"T_188c1_row2_col3\" class=\"data row2 col3\" >0.000000</td>\n",
              "      <td id=\"T_188c1_row2_col4\" class=\"data row2 col4\" >0.000000</td>\n",
              "      <td id=\"T_188c1_row2_col5\" class=\"data row2 col5\" >0.000000</td>\n",
              "      <td id=\"T_188c1_row2_col6\" class=\"data row2 col6\" >0.000000</td>\n",
              "      <td id=\"T_188c1_row2_col7\" class=\"data row2 col7\" >1.000000</td>\n",
              "    </tr>\n",
              "    <tr>\n",
              "      <th id=\"T_188c1_level0_row3\" class=\"row_heading level0 row3\" >number-of-reports</th>\n",
              "      <td id=\"T_188c1_row3_col0\" class=\"data row3 col0\" >1023.000000</td>\n",
              "      <td id=\"T_188c1_row3_col1\" class=\"data row3 col1\" >8.608993</td>\n",
              "      <td id=\"T_188c1_row3_col2\" class=\"data row3 col2\" >10.931901</td>\n",
              "      <td id=\"T_188c1_row3_col3\" class=\"data row3 col3\" >1.000000</td>\n",
              "      <td id=\"T_188c1_row3_col4\" class=\"data row3 col4\" >3.000000</td>\n",
              "      <td id=\"T_188c1_row3_col5\" class=\"data row3 col5\" >5.000000</td>\n",
              "      <td id=\"T_188c1_row3_col6\" class=\"data row3 col6\" >9.000000</td>\n",
              "      <td id=\"T_188c1_row3_col7\" class=\"data row3 col7\" >94.000000</td>\n",
              "    </tr>\n",
              "  </tbody>\n",
              "</table>\n"
            ]
          },
          "metadata": {},
          "execution_count": 85
        }
      ]
    },
    {
      "cell_type": "code",
      "source": [
        "df.info()"
      ],
      "metadata": {
        "id": "FZUTg-xv1zBf",
        "colab": {
          "base_uri": "https://localhost:8080/"
        },
        "outputId": "3d622002-5723-42d5-aade-72ed3aabce26"
      },
      "execution_count": null,
      "outputs": [
        {
          "output_type": "stream",
          "name": "stdout",
          "text": [
            "<class 'pandas.core.frame.DataFrame'>\n",
            "RangeIndex: 1023 entries, 0 to 1022\n",
            "Data columns (total 9 columns):\n",
            " #   Column             Non-Null Count  Dtype  \n",
            "---  ------             --------------  -----  \n",
            " 0   status             1023 non-null   int64  \n",
            " 1   gene-symbol        1023 non-null   object \n",
            " 2   gene-name          1022 non-null   object \n",
            " 3   ensembl-id         1010 non-null   object \n",
            " 4   chromosome         1023 non-null   object \n",
            " 5   genetic-category   1021 non-null   object \n",
            " 6   gene-score         942 non-null    float64\n",
            " 7   syndromic          1023 non-null   int64  \n",
            " 8   number-of-reports  1023 non-null   int64  \n",
            "dtypes: float64(1), int64(3), object(5)\n",
            "memory usage: 72.1+ KB\n"
          ]
        }
      ]
    },
    {
      "cell_type": "code",
      "source": [
        "#Removing the variables 'gene-symbol' and 'ensembl-id'\n",
        "data=df.drop(columns=['gene-symbol','ensembl-id'])\n",
        "data"
      ],
      "metadata": {
        "colab": {
          "base_uri": "https://localhost:8080/",
          "height": 423
        },
        "id": "BhC6NZif4DDL",
        "outputId": "b65353c9-e29d-4c2b-d93c-c1b4cb8cf3b2"
      },
      "execution_count": null,
      "outputs": [
        {
          "output_type": "execute_result",
          "data": {
            "text/plain": [
              "      status                                          gene-name chromosome  \\\n",
              "0          9                   4-aminobutyrate aminotransferase         16   \n",
              "1          9  ATP-binding cassette, sub-family A (ABC1), mem...         17   \n",
              "2          9         ATP binding cassette subfamily A member 13          7   \n",
              "3          9  ATP-binding cassette, sub-family A (ABC1), mem...         19   \n",
              "4          9                    angiotensin I converting enzyme         17   \n",
              "...      ...                                                ...        ...   \n",
              "1018       9                  zinc finger MYM-type containing 2         13   \n",
              "1019       9                 zinc finger MYND-type containing 8         20   \n",
              "1020       9                            Zinc finger protein 827          4   \n",
              "1021       9                 zinc finger SWIM-type containing 6          5   \n",
              "1022       9                          zwilchkinetochore protein         15   \n",
              "\n",
              "                                    genetic-category  gene-score  syndromic  \\\n",
              "0     Rare Single Gene Mutation, Genetic Association         3.0          0   \n",
              "1                          Rare Single Gene Mutation         3.0          0   \n",
              "2              Rare Single Gene Mutation, Functional         3.0          0   \n",
              "3                          Rare Single Gene Mutation         3.0          0   \n",
              "4     Rare Single Gene Mutation, Genetic Association         3.0          0   \n",
              "...                                              ...         ...        ...   \n",
              "1018            Rare Single Gene Mutation, Syndromic         2.0          1   \n",
              "1019                       Rare Single Gene Mutation         1.0          0   \n",
              "1020                             Genetic Association         3.0          0   \n",
              "1021                  Syndromic, Genetic Association         NaN          1   \n",
              "1022                       Rare Single Gene Mutation         3.0          0   \n",
              "\n",
              "      number-of-reports  \n",
              "0                     5  \n",
              "1                     1  \n",
              "2                     6  \n",
              "3                     4  \n",
              "4                     3  \n",
              "...                 ...  \n",
              "1018                  6  \n",
              "1019                  4  \n",
              "1020                  1  \n",
              "1021                  3  \n",
              "1022                  4  \n",
              "\n",
              "[1023 rows x 7 columns]"
            ],
            "text/html": [
              "\n",
              "  <div id=\"df-c7a281af-ed16-4009-b05a-08bea1256013\">\n",
              "    <div class=\"colab-df-container\">\n",
              "      <div>\n",
              "<style scoped>\n",
              "    .dataframe tbody tr th:only-of-type {\n",
              "        vertical-align: middle;\n",
              "    }\n",
              "\n",
              "    .dataframe tbody tr th {\n",
              "        vertical-align: top;\n",
              "    }\n",
              "\n",
              "    .dataframe thead th {\n",
              "        text-align: right;\n",
              "    }\n",
              "</style>\n",
              "<table border=\"1\" class=\"dataframe\">\n",
              "  <thead>\n",
              "    <tr style=\"text-align: right;\">\n",
              "      <th></th>\n",
              "      <th>status</th>\n",
              "      <th>gene-name</th>\n",
              "      <th>chromosome</th>\n",
              "      <th>genetic-category</th>\n",
              "      <th>gene-score</th>\n",
              "      <th>syndromic</th>\n",
              "      <th>number-of-reports</th>\n",
              "    </tr>\n",
              "  </thead>\n",
              "  <tbody>\n",
              "    <tr>\n",
              "      <th>0</th>\n",
              "      <td>9</td>\n",
              "      <td>4-aminobutyrate aminotransferase</td>\n",
              "      <td>16</td>\n",
              "      <td>Rare Single Gene Mutation, Genetic Association</td>\n",
              "      <td>3.0</td>\n",
              "      <td>0</td>\n",
              "      <td>5</td>\n",
              "    </tr>\n",
              "    <tr>\n",
              "      <th>1</th>\n",
              "      <td>9</td>\n",
              "      <td>ATP-binding cassette, sub-family A (ABC1), mem...</td>\n",
              "      <td>17</td>\n",
              "      <td>Rare Single Gene Mutation</td>\n",
              "      <td>3.0</td>\n",
              "      <td>0</td>\n",
              "      <td>1</td>\n",
              "    </tr>\n",
              "    <tr>\n",
              "      <th>2</th>\n",
              "      <td>9</td>\n",
              "      <td>ATP binding cassette subfamily A member 13</td>\n",
              "      <td>7</td>\n",
              "      <td>Rare Single Gene Mutation, Functional</td>\n",
              "      <td>3.0</td>\n",
              "      <td>0</td>\n",
              "      <td>6</td>\n",
              "    </tr>\n",
              "    <tr>\n",
              "      <th>3</th>\n",
              "      <td>9</td>\n",
              "      <td>ATP-binding cassette, sub-family A (ABC1), mem...</td>\n",
              "      <td>19</td>\n",
              "      <td>Rare Single Gene Mutation</td>\n",
              "      <td>3.0</td>\n",
              "      <td>0</td>\n",
              "      <td>4</td>\n",
              "    </tr>\n",
              "    <tr>\n",
              "      <th>4</th>\n",
              "      <td>9</td>\n",
              "      <td>angiotensin I converting enzyme</td>\n",
              "      <td>17</td>\n",
              "      <td>Rare Single Gene Mutation, Genetic Association</td>\n",
              "      <td>3.0</td>\n",
              "      <td>0</td>\n",
              "      <td>3</td>\n",
              "    </tr>\n",
              "    <tr>\n",
              "      <th>...</th>\n",
              "      <td>...</td>\n",
              "      <td>...</td>\n",
              "      <td>...</td>\n",
              "      <td>...</td>\n",
              "      <td>...</td>\n",
              "      <td>...</td>\n",
              "      <td>...</td>\n",
              "    </tr>\n",
              "    <tr>\n",
              "      <th>1018</th>\n",
              "      <td>9</td>\n",
              "      <td>zinc finger MYM-type containing 2</td>\n",
              "      <td>13</td>\n",
              "      <td>Rare Single Gene Mutation, Syndromic</td>\n",
              "      <td>2.0</td>\n",
              "      <td>1</td>\n",
              "      <td>6</td>\n",
              "    </tr>\n",
              "    <tr>\n",
              "      <th>1019</th>\n",
              "      <td>9</td>\n",
              "      <td>zinc finger MYND-type containing 8</td>\n",
              "      <td>20</td>\n",
              "      <td>Rare Single Gene Mutation</td>\n",
              "      <td>1.0</td>\n",
              "      <td>0</td>\n",
              "      <td>4</td>\n",
              "    </tr>\n",
              "    <tr>\n",
              "      <th>1020</th>\n",
              "      <td>9</td>\n",
              "      <td>Zinc finger protein 827</td>\n",
              "      <td>4</td>\n",
              "      <td>Genetic Association</td>\n",
              "      <td>3.0</td>\n",
              "      <td>0</td>\n",
              "      <td>1</td>\n",
              "    </tr>\n",
              "    <tr>\n",
              "      <th>1021</th>\n",
              "      <td>9</td>\n",
              "      <td>zinc finger SWIM-type containing 6</td>\n",
              "      <td>5</td>\n",
              "      <td>Syndromic, Genetic Association</td>\n",
              "      <td>NaN</td>\n",
              "      <td>1</td>\n",
              "      <td>3</td>\n",
              "    </tr>\n",
              "    <tr>\n",
              "      <th>1022</th>\n",
              "      <td>9</td>\n",
              "      <td>zwilchkinetochore protein</td>\n",
              "      <td>15</td>\n",
              "      <td>Rare Single Gene Mutation</td>\n",
              "      <td>3.0</td>\n",
              "      <td>0</td>\n",
              "      <td>4</td>\n",
              "    </tr>\n",
              "  </tbody>\n",
              "</table>\n",
              "<p>1023 rows × 7 columns</p>\n",
              "</div>\n",
              "      <button class=\"colab-df-convert\" onclick=\"convertToInteractive('df-c7a281af-ed16-4009-b05a-08bea1256013')\"\n",
              "              title=\"Convert this dataframe to an interactive table.\"\n",
              "              style=\"display:none;\">\n",
              "        \n",
              "  <svg xmlns=\"http://www.w3.org/2000/svg\" height=\"24px\"viewBox=\"0 0 24 24\"\n",
              "       width=\"24px\">\n",
              "    <path d=\"M0 0h24v24H0V0z\" fill=\"none\"/>\n",
              "    <path d=\"M18.56 5.44l.94 2.06.94-2.06 2.06-.94-2.06-.94-.94-2.06-.94 2.06-2.06.94zm-11 1L8.5 8.5l.94-2.06 2.06-.94-2.06-.94L8.5 2.5l-.94 2.06-2.06.94zm10 10l.94 2.06.94-2.06 2.06-.94-2.06-.94-.94-2.06-.94 2.06-2.06.94z\"/><path d=\"M17.41 7.96l-1.37-1.37c-.4-.4-.92-.59-1.43-.59-.52 0-1.04.2-1.43.59L10.3 9.45l-7.72 7.72c-.78.78-.78 2.05 0 2.83L4 21.41c.39.39.9.59 1.41.59.51 0 1.02-.2 1.41-.59l7.78-7.78 2.81-2.81c.8-.78.8-2.07 0-2.86zM5.41 20L4 18.59l7.72-7.72 1.47 1.35L5.41 20z\"/>\n",
              "  </svg>\n",
              "      </button>\n",
              "      \n",
              "  <style>\n",
              "    .colab-df-container {\n",
              "      display:flex;\n",
              "      flex-wrap:wrap;\n",
              "      gap: 12px;\n",
              "    }\n",
              "\n",
              "    .colab-df-convert {\n",
              "      background-color: #E8F0FE;\n",
              "      border: none;\n",
              "      border-radius: 50%;\n",
              "      cursor: pointer;\n",
              "      display: none;\n",
              "      fill: #1967D2;\n",
              "      height: 32px;\n",
              "      padding: 0 0 0 0;\n",
              "      width: 32px;\n",
              "    }\n",
              "\n",
              "    .colab-df-convert:hover {\n",
              "      background-color: #E2EBFA;\n",
              "      box-shadow: 0px 1px 2px rgba(60, 64, 67, 0.3), 0px 1px 3px 1px rgba(60, 64, 67, 0.15);\n",
              "      fill: #174EA6;\n",
              "    }\n",
              "\n",
              "    [theme=dark] .colab-df-convert {\n",
              "      background-color: #3B4455;\n",
              "      fill: #D2E3FC;\n",
              "    }\n",
              "\n",
              "    [theme=dark] .colab-df-convert:hover {\n",
              "      background-color: #434B5C;\n",
              "      box-shadow: 0px 1px 3px 1px rgba(0, 0, 0, 0.15);\n",
              "      filter: drop-shadow(0px 1px 2px rgba(0, 0, 0, 0.3));\n",
              "      fill: #FFFFFF;\n",
              "    }\n",
              "  </style>\n",
              "\n",
              "      <script>\n",
              "        const buttonEl =\n",
              "          document.querySelector('#df-c7a281af-ed16-4009-b05a-08bea1256013 button.colab-df-convert');\n",
              "        buttonEl.style.display =\n",
              "          google.colab.kernel.accessAllowed ? 'block' : 'none';\n",
              "\n",
              "        async function convertToInteractive(key) {\n",
              "          const element = document.querySelector('#df-c7a281af-ed16-4009-b05a-08bea1256013');\n",
              "          const dataTable =\n",
              "            await google.colab.kernel.invokeFunction('convertToInteractive',\n",
              "                                                     [key], {});\n",
              "          if (!dataTable) return;\n",
              "\n",
              "          const docLinkHtml = 'Like what you see? Visit the ' +\n",
              "            '<a target=\"_blank\" href=https://colab.research.google.com/notebooks/data_table.ipynb>data table notebook</a>'\n",
              "            + ' to learn more about interactive tables.';\n",
              "          element.innerHTML = '';\n",
              "          dataTable['output_type'] = 'display_data';\n",
              "          await google.colab.output.renderOutput(dataTable, element);\n",
              "          const docLink = document.createElement('div');\n",
              "          docLink.innerHTML = docLinkHtml;\n",
              "          element.appendChild(docLink);\n",
              "        }\n",
              "      </script>\n",
              "    </div>\n",
              "  </div>\n",
              "  "
            ]
          },
          "metadata": {},
          "execution_count": 87
        }
      ]
    },
    {
      "cell_type": "code",
      "source": [
        "#Placing the target variable to the last column\n",
        "data=data.assign(syndromic=data.pop('syndromic'))\n",
        "data"
      ],
      "metadata": {
        "colab": {
          "base_uri": "https://localhost:8080/",
          "height": 423
        },
        "id": "5DO9mHfO6zoP",
        "outputId": "7eaf3627-a1da-4d91-a9d1-d152822eca3d"
      },
      "execution_count": null,
      "outputs": [
        {
          "output_type": "execute_result",
          "data": {
            "text/plain": [
              "      status                                          gene-name chromosome  \\\n",
              "0          9                   4-aminobutyrate aminotransferase         16   \n",
              "1          9  ATP-binding cassette, sub-family A (ABC1), mem...         17   \n",
              "2          9         ATP binding cassette subfamily A member 13          7   \n",
              "3          9  ATP-binding cassette, sub-family A (ABC1), mem...         19   \n",
              "4          9                    angiotensin I converting enzyme         17   \n",
              "...      ...                                                ...        ...   \n",
              "1018       9                  zinc finger MYM-type containing 2         13   \n",
              "1019       9                 zinc finger MYND-type containing 8         20   \n",
              "1020       9                            Zinc finger protein 827          4   \n",
              "1021       9                 zinc finger SWIM-type containing 6          5   \n",
              "1022       9                          zwilchkinetochore protein         15   \n",
              "\n",
              "                                    genetic-category  gene-score  \\\n",
              "0     Rare Single Gene Mutation, Genetic Association         3.0   \n",
              "1                          Rare Single Gene Mutation         3.0   \n",
              "2              Rare Single Gene Mutation, Functional         3.0   \n",
              "3                          Rare Single Gene Mutation         3.0   \n",
              "4     Rare Single Gene Mutation, Genetic Association         3.0   \n",
              "...                                              ...         ...   \n",
              "1018            Rare Single Gene Mutation, Syndromic         2.0   \n",
              "1019                       Rare Single Gene Mutation         1.0   \n",
              "1020                             Genetic Association         3.0   \n",
              "1021                  Syndromic, Genetic Association         NaN   \n",
              "1022                       Rare Single Gene Mutation         3.0   \n",
              "\n",
              "      number-of-reports  syndromic  \n",
              "0                     5          0  \n",
              "1                     1          0  \n",
              "2                     6          0  \n",
              "3                     4          0  \n",
              "4                     3          0  \n",
              "...                 ...        ...  \n",
              "1018                  6          1  \n",
              "1019                  4          0  \n",
              "1020                  1          0  \n",
              "1021                  3          1  \n",
              "1022                  4          0  \n",
              "\n",
              "[1023 rows x 7 columns]"
            ],
            "text/html": [
              "\n",
              "  <div id=\"df-b7c4db1a-cd21-4f7f-8e8e-0574e04c9615\">\n",
              "    <div class=\"colab-df-container\">\n",
              "      <div>\n",
              "<style scoped>\n",
              "    .dataframe tbody tr th:only-of-type {\n",
              "        vertical-align: middle;\n",
              "    }\n",
              "\n",
              "    .dataframe tbody tr th {\n",
              "        vertical-align: top;\n",
              "    }\n",
              "\n",
              "    .dataframe thead th {\n",
              "        text-align: right;\n",
              "    }\n",
              "</style>\n",
              "<table border=\"1\" class=\"dataframe\">\n",
              "  <thead>\n",
              "    <tr style=\"text-align: right;\">\n",
              "      <th></th>\n",
              "      <th>status</th>\n",
              "      <th>gene-name</th>\n",
              "      <th>chromosome</th>\n",
              "      <th>genetic-category</th>\n",
              "      <th>gene-score</th>\n",
              "      <th>number-of-reports</th>\n",
              "      <th>syndromic</th>\n",
              "    </tr>\n",
              "  </thead>\n",
              "  <tbody>\n",
              "    <tr>\n",
              "      <th>0</th>\n",
              "      <td>9</td>\n",
              "      <td>4-aminobutyrate aminotransferase</td>\n",
              "      <td>16</td>\n",
              "      <td>Rare Single Gene Mutation, Genetic Association</td>\n",
              "      <td>3.0</td>\n",
              "      <td>5</td>\n",
              "      <td>0</td>\n",
              "    </tr>\n",
              "    <tr>\n",
              "      <th>1</th>\n",
              "      <td>9</td>\n",
              "      <td>ATP-binding cassette, sub-family A (ABC1), mem...</td>\n",
              "      <td>17</td>\n",
              "      <td>Rare Single Gene Mutation</td>\n",
              "      <td>3.0</td>\n",
              "      <td>1</td>\n",
              "      <td>0</td>\n",
              "    </tr>\n",
              "    <tr>\n",
              "      <th>2</th>\n",
              "      <td>9</td>\n",
              "      <td>ATP binding cassette subfamily A member 13</td>\n",
              "      <td>7</td>\n",
              "      <td>Rare Single Gene Mutation, Functional</td>\n",
              "      <td>3.0</td>\n",
              "      <td>6</td>\n",
              "      <td>0</td>\n",
              "    </tr>\n",
              "    <tr>\n",
              "      <th>3</th>\n",
              "      <td>9</td>\n",
              "      <td>ATP-binding cassette, sub-family A (ABC1), mem...</td>\n",
              "      <td>19</td>\n",
              "      <td>Rare Single Gene Mutation</td>\n",
              "      <td>3.0</td>\n",
              "      <td>4</td>\n",
              "      <td>0</td>\n",
              "    </tr>\n",
              "    <tr>\n",
              "      <th>4</th>\n",
              "      <td>9</td>\n",
              "      <td>angiotensin I converting enzyme</td>\n",
              "      <td>17</td>\n",
              "      <td>Rare Single Gene Mutation, Genetic Association</td>\n",
              "      <td>3.0</td>\n",
              "      <td>3</td>\n",
              "      <td>0</td>\n",
              "    </tr>\n",
              "    <tr>\n",
              "      <th>...</th>\n",
              "      <td>...</td>\n",
              "      <td>...</td>\n",
              "      <td>...</td>\n",
              "      <td>...</td>\n",
              "      <td>...</td>\n",
              "      <td>...</td>\n",
              "      <td>...</td>\n",
              "    </tr>\n",
              "    <tr>\n",
              "      <th>1018</th>\n",
              "      <td>9</td>\n",
              "      <td>zinc finger MYM-type containing 2</td>\n",
              "      <td>13</td>\n",
              "      <td>Rare Single Gene Mutation, Syndromic</td>\n",
              "      <td>2.0</td>\n",
              "      <td>6</td>\n",
              "      <td>1</td>\n",
              "    </tr>\n",
              "    <tr>\n",
              "      <th>1019</th>\n",
              "      <td>9</td>\n",
              "      <td>zinc finger MYND-type containing 8</td>\n",
              "      <td>20</td>\n",
              "      <td>Rare Single Gene Mutation</td>\n",
              "      <td>1.0</td>\n",
              "      <td>4</td>\n",
              "      <td>0</td>\n",
              "    </tr>\n",
              "    <tr>\n",
              "      <th>1020</th>\n",
              "      <td>9</td>\n",
              "      <td>Zinc finger protein 827</td>\n",
              "      <td>4</td>\n",
              "      <td>Genetic Association</td>\n",
              "      <td>3.0</td>\n",
              "      <td>1</td>\n",
              "      <td>0</td>\n",
              "    </tr>\n",
              "    <tr>\n",
              "      <th>1021</th>\n",
              "      <td>9</td>\n",
              "      <td>zinc finger SWIM-type containing 6</td>\n",
              "      <td>5</td>\n",
              "      <td>Syndromic, Genetic Association</td>\n",
              "      <td>NaN</td>\n",
              "      <td>3</td>\n",
              "      <td>1</td>\n",
              "    </tr>\n",
              "    <tr>\n",
              "      <th>1022</th>\n",
              "      <td>9</td>\n",
              "      <td>zwilchkinetochore protein</td>\n",
              "      <td>15</td>\n",
              "      <td>Rare Single Gene Mutation</td>\n",
              "      <td>3.0</td>\n",
              "      <td>4</td>\n",
              "      <td>0</td>\n",
              "    </tr>\n",
              "  </tbody>\n",
              "</table>\n",
              "<p>1023 rows × 7 columns</p>\n",
              "</div>\n",
              "      <button class=\"colab-df-convert\" onclick=\"convertToInteractive('df-b7c4db1a-cd21-4f7f-8e8e-0574e04c9615')\"\n",
              "              title=\"Convert this dataframe to an interactive table.\"\n",
              "              style=\"display:none;\">\n",
              "        \n",
              "  <svg xmlns=\"http://www.w3.org/2000/svg\" height=\"24px\"viewBox=\"0 0 24 24\"\n",
              "       width=\"24px\">\n",
              "    <path d=\"M0 0h24v24H0V0z\" fill=\"none\"/>\n",
              "    <path d=\"M18.56 5.44l.94 2.06.94-2.06 2.06-.94-2.06-.94-.94-2.06-.94 2.06-2.06.94zm-11 1L8.5 8.5l.94-2.06 2.06-.94-2.06-.94L8.5 2.5l-.94 2.06-2.06.94zm10 10l.94 2.06.94-2.06 2.06-.94-2.06-.94-.94-2.06-.94 2.06-2.06.94z\"/><path d=\"M17.41 7.96l-1.37-1.37c-.4-.4-.92-.59-1.43-.59-.52 0-1.04.2-1.43.59L10.3 9.45l-7.72 7.72c-.78.78-.78 2.05 0 2.83L4 21.41c.39.39.9.59 1.41.59.51 0 1.02-.2 1.41-.59l7.78-7.78 2.81-2.81c.8-.78.8-2.07 0-2.86zM5.41 20L4 18.59l7.72-7.72 1.47 1.35L5.41 20z\"/>\n",
              "  </svg>\n",
              "      </button>\n",
              "      \n",
              "  <style>\n",
              "    .colab-df-container {\n",
              "      display:flex;\n",
              "      flex-wrap:wrap;\n",
              "      gap: 12px;\n",
              "    }\n",
              "\n",
              "    .colab-df-convert {\n",
              "      background-color: #E8F0FE;\n",
              "      border: none;\n",
              "      border-radius: 50%;\n",
              "      cursor: pointer;\n",
              "      display: none;\n",
              "      fill: #1967D2;\n",
              "      height: 32px;\n",
              "      padding: 0 0 0 0;\n",
              "      width: 32px;\n",
              "    }\n",
              "\n",
              "    .colab-df-convert:hover {\n",
              "      background-color: #E2EBFA;\n",
              "      box-shadow: 0px 1px 2px rgba(60, 64, 67, 0.3), 0px 1px 3px 1px rgba(60, 64, 67, 0.15);\n",
              "      fill: #174EA6;\n",
              "    }\n",
              "\n",
              "    [theme=dark] .colab-df-convert {\n",
              "      background-color: #3B4455;\n",
              "      fill: #D2E3FC;\n",
              "    }\n",
              "\n",
              "    [theme=dark] .colab-df-convert:hover {\n",
              "      background-color: #434B5C;\n",
              "      box-shadow: 0px 1px 3px 1px rgba(0, 0, 0, 0.15);\n",
              "      filter: drop-shadow(0px 1px 2px rgba(0, 0, 0, 0.3));\n",
              "      fill: #FFFFFF;\n",
              "    }\n",
              "  </style>\n",
              "\n",
              "      <script>\n",
              "        const buttonEl =\n",
              "          document.querySelector('#df-b7c4db1a-cd21-4f7f-8e8e-0574e04c9615 button.colab-df-convert');\n",
              "        buttonEl.style.display =\n",
              "          google.colab.kernel.accessAllowed ? 'block' : 'none';\n",
              "\n",
              "        async function convertToInteractive(key) {\n",
              "          const element = document.querySelector('#df-b7c4db1a-cd21-4f7f-8e8e-0574e04c9615');\n",
              "          const dataTable =\n",
              "            await google.colab.kernel.invokeFunction('convertToInteractive',\n",
              "                                                     [key], {});\n",
              "          if (!dataTable) return;\n",
              "\n",
              "          const docLinkHtml = 'Like what you see? Visit the ' +\n",
              "            '<a target=\"_blank\" href=https://colab.research.google.com/notebooks/data_table.ipynb>data table notebook</a>'\n",
              "            + ' to learn more about interactive tables.';\n",
              "          element.innerHTML = '';\n",
              "          dataTable['output_type'] = 'display_data';\n",
              "          await google.colab.output.renderOutput(dataTable, element);\n",
              "          const docLink = document.createElement('div');\n",
              "          docLink.innerHTML = docLinkHtml;\n",
              "          element.appendChild(docLink);\n",
              "        }\n",
              "      </script>\n",
              "    </div>\n",
              "  </div>\n",
              "  "
            ]
          },
          "metadata": {},
          "execution_count": 88
        }
      ]
    },
    {
      "cell_type": "code",
      "source": [
        "#Checking for null values\n",
        "data.isna().sum()"
      ],
      "metadata": {
        "colab": {
          "base_uri": "https://localhost:8080/"
        },
        "id": "3yIa0Pqj6w7x",
        "outputId": "383ca317-907a-4dbb-b5af-c4cf997267ac"
      },
      "execution_count": null,
      "outputs": [
        {
          "output_type": "execute_result",
          "data": {
            "text/plain": [
              "status                0\n",
              "gene-name             1\n",
              "chromosome            0\n",
              "genetic-category      2\n",
              "gene-score           81\n",
              "number-of-reports     0\n",
              "syndromic             0\n",
              "dtype: int64"
            ]
          },
          "metadata": {},
          "execution_count": 89
        }
      ]
    },
    {
      "cell_type": "code",
      "source": [
        "#Handling null values using SimpleImputer\n",
        "from sklearn.impute import SimpleImputer\n",
        "imputer=SimpleImputer(missing_values=np.nan,strategy='most_frequent')\n",
        "data['gene-score']=imputer.fit_transform(data[['gene-score']])"
      ],
      "metadata": {
        "id": "2RwbFxzj651G"
      },
      "execution_count": null,
      "outputs": []
    },
    {
      "cell_type": "code",
      "source": [
        "#Checking for null values\n",
        "data.isna().sum()"
      ],
      "metadata": {
        "colab": {
          "base_uri": "https://localhost:8080/"
        },
        "id": "d-3LyWXX7yBZ",
        "outputId": "d611640e-07ba-449f-faa1-a1ec1f3617e0"
      },
      "execution_count": null,
      "outputs": [
        {
          "output_type": "execute_result",
          "data": {
            "text/plain": [
              "status               0\n",
              "gene-name            1\n",
              "chromosome           0\n",
              "genetic-category     2\n",
              "gene-score           0\n",
              "number-of-reports    0\n",
              "syndromic            0\n",
              "dtype: int64"
            ]
          },
          "metadata": {},
          "execution_count": 91
        }
      ]
    },
    {
      "cell_type": "code",
      "source": [
        "#Removing the null values\n",
        "df1=data.dropna()"
      ],
      "metadata": {
        "id": "Wrphk6SXASZR"
      },
      "execution_count": null,
      "outputs": []
    },
    {
      "cell_type": "code",
      "source": [
        "#checking for duplicate rows\n",
        "df1.duplicated().sum()"
      ],
      "metadata": {
        "colab": {
          "base_uri": "https://localhost:8080/"
        },
        "id": "JwOICDR5SeOi",
        "outputId": "96f6fb10-61bc-47ec-e829-6fbab59b8f0a"
      },
      "execution_count": null,
      "outputs": [
        {
          "output_type": "execute_result",
          "data": {
            "text/plain": [
              "0"
            ]
          },
          "metadata": {},
          "execution_count": 93
        }
      ]
    },
    {
      "cell_type": "code",
      "source": [
        "#Checking for null values\n",
        "df1.isna().sum()"
      ],
      "metadata": {
        "colab": {
          "base_uri": "https://localhost:8080/"
        },
        "id": "t9kRpGYLAbt8",
        "outputId": "67ffe12d-d445-4f2a-ef32-28ea5d6edc0b"
      },
      "execution_count": null,
      "outputs": [
        {
          "output_type": "execute_result",
          "data": {
            "text/plain": [
              "status               0\n",
              "gene-name            0\n",
              "chromosome           0\n",
              "genetic-category     0\n",
              "gene-score           0\n",
              "number-of-reports    0\n",
              "syndromic            0\n",
              "dtype: int64"
            ]
          },
          "metadata": {},
          "execution_count": 94
        }
      ]
    },
    {
      "cell_type": "code",
      "source": [
        "df1.info()"
      ],
      "metadata": {
        "colab": {
          "base_uri": "https://localhost:8080/"
        },
        "id": "0ABZAKIYToHQ",
        "outputId": "e4375e33-b67f-412c-8815-d37a4fd14cb3"
      },
      "execution_count": null,
      "outputs": [
        {
          "output_type": "stream",
          "name": "stdout",
          "text": [
            "<class 'pandas.core.frame.DataFrame'>\n",
            "Int64Index: 1020 entries, 0 to 1022\n",
            "Data columns (total 7 columns):\n",
            " #   Column             Non-Null Count  Dtype  \n",
            "---  ------             --------------  -----  \n",
            " 0   status             1020 non-null   int64  \n",
            " 1   gene-name          1020 non-null   object \n",
            " 2   chromosome         1020 non-null   object \n",
            " 3   genetic-category   1020 non-null   object \n",
            " 4   gene-score         1020 non-null   float64\n",
            " 5   number-of-reports  1020 non-null   int64  \n",
            " 6   syndromic          1020 non-null   int64  \n",
            "dtypes: float64(1), int64(3), object(3)\n",
            "memory usage: 63.8+ KB\n"
          ]
        }
      ]
    },
    {
      "cell_type": "code",
      "source": [
        "#checking the unique values for each features in the dataset\n",
        "df1.nunique()"
      ],
      "metadata": {
        "colab": {
          "base_uri": "https://localhost:8080/"
        },
        "id": "XVDMLmzzTy1M",
        "outputId": "c251eb68-5641-49e9-e505-822708b2a8a0"
      },
      "execution_count": null,
      "outputs": [
        {
          "output_type": "execute_result",
          "data": {
            "text/plain": [
              "status                  1\n",
              "gene-name            1020\n",
              "chromosome             25\n",
              "genetic-category       14\n",
              "gene-score              3\n",
              "number-of-reports      57\n",
              "syndromic               2\n",
              "dtype: int64"
            ]
          },
          "metadata": {},
          "execution_count": 96
        }
      ]
    },
    {
      "cell_type": "code",
      "source": [
        "#Size of the dataset\n",
        "print(\"Size of Dataset: {} rows , {} columns\".format(df.shape[0],df.shape[1]))"
      ],
      "metadata": {
        "colab": {
          "base_uri": "https://localhost:8080/"
        },
        "id": "Q0FMsW7w8AOA",
        "outputId": "1460dcf0-f988-4a2e-b6e5-8c1ae44321a7"
      },
      "execution_count": null,
      "outputs": [
        {
          "output_type": "stream",
          "name": "stdout",
          "text": [
            "Size of Dataset: 1023 rows , 9 columns\n"
          ]
        }
      ]
    },
    {
      "cell_type": "code",
      "source": [
        "#checking the unique values under 'chromosome'\n",
        "df1['chromosome'].unique()"
      ],
      "metadata": {
        "colab": {
          "base_uri": "https://localhost:8080/"
        },
        "id": "ZZhdrLvqy4mr",
        "outputId": "07cccfc1-92d9-452c-ced6-bc606e1023ea"
      },
      "execution_count": null,
      "outputs": [
        {
          "output_type": "execute_result",
          "data": {
            "text/plain": [
              "array(['16', '17', '7', '19', '3', '20', '2', '10', '1', '22', 'X', '12',\n",
              "       '6', '15', '4', '8', '11', '9', '14', 'X,Y', '18', '5', '13', '21',\n",
              "       'Y'], dtype=object)"
            ]
          },
          "metadata": {},
          "execution_count": 98
        }
      ]
    },
    {
      "cell_type": "code",
      "source": [
        "#count of values under 'syndromic'\n",
        "df1['syndromic'].value_counts()"
      ],
      "metadata": {
        "colab": {
          "base_uri": "https://localhost:8080/"
        },
        "id": "hgdAnr7SCu4t",
        "outputId": "9374251b-3891-487f-e6d1-0644e25dc3f8"
      },
      "execution_count": null,
      "outputs": [
        {
          "output_type": "execute_result",
          "data": {
            "text/plain": [
              "0    790\n",
              "1    230\n",
              "Name: syndromic, dtype: int64"
            ]
          },
          "metadata": {},
          "execution_count": 99
        }
      ]
    },
    {
      "cell_type": "code",
      "source": [
        "# plot heatmap to check the correlation\n",
        "plt.figure(figsize = (10, 5))\n",
        "sns.heatmap(df1.corr(), annot = True, cmap=\"inferno\")\n",
        "plt.show()"
      ],
      "metadata": {
        "colab": {
          "base_uri": "https://localhost:8080/",
          "height": 451
        },
        "id": "reLZ5Q9EJfRa",
        "outputId": "539b7959-1584-483f-8cb3-ee5e274b1e4f"
      },
      "execution_count": null,
      "outputs": [
        {
          "output_type": "display_data",
          "data": {
            "text/plain": [
              "<Figure size 1000x500 with 2 Axes>"
            ],
            "image/png": "[encoded data removed]"
          },
          "metadata": {}
        }
      ]
    },
    {
      "cell_type": "markdown",
      "source": [
        "# **FEATURE ENCODING**"
      ],
      "metadata": {
        "id": "r8Kp50Vf9h9V"
      }
    },
    {
      "cell_type": "code",
      "source": [
        "#Transform categorical data into numerical data\n",
        "from sklearn.preprocessing import LabelEncoder\n",
        "le = LabelEncoder()\n",
        "cat_col = ['gene-name', 'chromosome', 'genetic-category']\n",
        "for col in cat_col:\n",
        "    df1[col] = le.fit_transform(df1[col])\n",
        "print(df1)"
      ],
      "metadata": {
        "colab": {
          "base_uri": "https://localhost:8080/"
        },
        "id": "Sx4SiD7S0xFf",
        "outputId": "225c3434-ed0e-4843-d6fe-6ffb31490d1d"
      },
      "execution_count": null,
      "outputs": [
        {
          "output_type": "stream",
          "name": "stdout",
          "text": [
            "      status  gene-name  chromosome  genetic-category  gene-score  \\\n",
            "0          9          0           7                 5         3.0   \n",
            "1          9         14           8                 3         3.0   \n",
            "2          9         13          19                 4         3.0   \n",
            "3          9         15          10                 3         3.0   \n",
            "4          9        461           8                 5         3.0   \n",
            "...      ...        ...         ...               ...         ...   \n",
            "1018       9       1012           4                 7         2.0   \n",
            "1019       9       1013          12                 3         1.0   \n",
            "1020       9        436          16                 1         3.0   \n",
            "1021       9       1014          17                13         3.0   \n",
            "1022       9       1019           6                 3         3.0   \n",
            "\n",
            "      number-of-reports  syndromic  \n",
            "0                     5          0  \n",
            "1                     1          0  \n",
            "2                     6          0  \n",
            "3                     4          0  \n",
            "4                     3          0  \n",
            "...                 ...        ...  \n",
            "1018                  6          1  \n",
            "1019                  4          0  \n",
            "1020                  1          0  \n",
            "1021                  3          1  \n",
            "1022                  4          0  \n",
            "\n",
            "[1020 rows x 7 columns]\n"
          ]
        }
      ]
    },
    {
      "cell_type": "code",
      "source": [
        "#Choosing the independent variables\n",
        "x=df1.iloc[:,:-1]\n",
        "\n",
        "#Choosing the target variable\n",
        "y=df1.iloc[:,-1].values"
      ],
      "metadata": {
        "id": "McPt6dJ6KWBl"
      },
      "execution_count": null,
      "outputs": []
    },
    {
      "cell_type": "markdown",
      "source": [
        "# **TRAIN VALIDATION AND TEST SETS**"
      ],
      "metadata": {
        "id": "tue1chn2-DyJ"
      }
    },
    {
      "cell_type": "code",
      "source": [
        "from sklearn.model_selection import train_test_split\n",
        "x_train,x_test,y_train,y_test = train_test_split(x, y, test_size = 0.2, random_state = 1)"
      ],
      "metadata": {
        "id": "l5CF7vyj0NB1"
      },
      "execution_count": null,
      "outputs": []
    },
    {
      "cell_type": "markdown",
      "source": [
        "### **HANDLING IMBALANCED DATA**"
      ],
      "metadata": {
        "id": "A8hZv3-1-iLH"
      }
    },
    {
      "cell_type": "code",
      "source": [
        "from imblearn.over_sampling import SMOTE\n",
        "smote = SMOTE()\n",
        "x_train, y_train = smote.fit_resample(x_train, y_train)"
      ],
      "metadata": {
        "id": "nIMzoC6wCkmA"
      },
      "execution_count": null,
      "outputs": []
    },
    {
      "cell_type": "markdown",
      "source": [
        "# **FEATURE SELECTION**\n",
        "\n",
        "Feature selection methods are intended to reduce the number of input variables to those that are believed to be most useful to a model in order to predict the target variable."
      ],
      "metadata": {
        "id": "BpfGKh63_LJW"
      }
    },
    {
      "cell_type": "markdown",
      "source": [
        "### **T-TEST**\n",
        "\n",
        "* T-tests are parametric tests for determining correlations between two samples of data.\n",
        "\n",
        "* It is a type of inferential statistic used to determine if there is a significant difference between the means of two groups, which may be related in certain features."
      ],
      "metadata": {
        "id": "A9iMZdYUmCuE"
      }
    },
    {
      "cell_type": "code",
      "source": [
        "import scipy.stats as stats\n",
        "t_values, p_values = stats.ttest_ind(x, y)\n",
        "results = pd.DataFrame({'feature': data.columns[:-1], 't-value': t_values, 'p-value': p_values})\n",
        "results = results.sort_values(by='t-value', ascending=False)\n",
        "k = 5\n",
        "selected_features = results.head(k)['feature'].tolist()\n",
        "selected_features"
      ],
      "metadata": {
        "colab": {
          "base_uri": "https://localhost:8080/"
        },
        "id": "wip8frp97YH3",
        "outputId": "a33f5b38-2f0f-402e-98cf-7c39ed0e5f64"
      },
      "execution_count": null,
      "outputs": [
        {
          "output_type": "execute_result",
          "data": {
            "text/plain": [
              "['status', 'gene-score', 'genetic-category', 'gene-name', 'chromosome']"
            ]
          },
          "metadata": {},
          "execution_count": 105
        }
      ]
    },
    {
      "cell_type": "markdown",
      "source": [
        "The top five important features that are selected:\n",
        "\n",
        "* status\n",
        "* gene-score\n",
        "* genetic-category\n",
        "* gene-name\n",
        "* chromosome"
      ],
      "metadata": {
        "id": "X7QMyvmXwgnH"
      }
    },
    {
      "cell_type": "markdown",
      "source": [
        "# **MODEL BUILDING**"
      ],
      "metadata": {
        "id": "ubEtsPSBbHpR"
      }
    },
    {
      "cell_type": "markdown",
      "source": [
        "### **LOGISTIC REGRESSION**\n",
        "\n",
        "* Logistic regression is used for solving the classification problems.\n",
        "\n",
        "* It is used for predicting the categorical dependent variable using a given set of independent variables.\n",
        "\n",
        "* Logistic regression predicts the output of a categorical dependent variable. Therefore the outcome must be a categorical or discrete value. It can be either Yes or No, 0 or 1, true or False, etc.."
      ],
      "metadata": {
        "id": "CIJNaxHPlNCj"
      }
    },
    {
      "cell_type": "code",
      "source": [
        "from sklearn.linear_model import LogisticRegression\n",
        "lrModel = LogisticRegression()"
      ],
      "metadata": {
        "id": "PHDGWUaTlHuE"
      },
      "execution_count": null,
      "outputs": []
    },
    {
      "cell_type": "markdown",
      "source": [
        "### **K-NEAREST NEIGHBOR**\n",
        "\n",
        "* K-NN algorithm assumes the similarity between the new case/data and available cases and put the new case into the category that is most similar to the available categories.\n",
        "\n",
        "* K-NN algorithm stores all the available data and classifies a new data point based on the similarity. This means when new data appears then it can be easily classified into a well suite category by using K- NN algorithm.\n",
        "\n",
        "* It is also called a lazy learner algorithm because it does not learn from the training set immediately instead it stores the dataset and at the time of classification, it performs an action on the dataset."
      ],
      "metadata": {
        "id": "ud2vMDAKluF1"
      }
    },
    {
      "cell_type": "code",
      "source": [
        "from sklearn.neighbors import KNeighborsClassifier\n",
        "KnModel = KNeighborsClassifier()"
      ],
      "metadata": {
        "id": "lmffwNgilI4M"
      },
      "execution_count": null,
      "outputs": []
    },
    {
      "cell_type": "markdown",
      "source": [
        "### **RANDOM FOREST CLASSIFIER**\n",
        "\n",
        "* Random Forest is a classifier that contains a number of decision trees on various subsets of the given dataset and takes the average to improve the predictive accuracy of that dataset.\n",
        "\n",
        "* The greater number of trees in the forest leads to higher accuracy and prevents the problem of overfitting."
      ],
      "metadata": {
        "id": "LT07nMsVly3F"
      }
    },
    {
      "cell_type": "code",
      "source": [
        "from sklearn.ensemble import RandomForestClassifier\n",
        "RfModel = RandomForestClassifier()"
      ],
      "metadata": {
        "id": "xdAEaTe7lKI8"
      },
      "execution_count": null,
      "outputs": []
    },
    {
      "cell_type": "markdown",
      "source": [
        "### **DECISION TREE CLASSIFIER**\n",
        "\n",
        "* It is a graphical representation for getting all the possible solutions to a problem/decision based on given conditions.\n",
        "\n",
        "* It is a tree-structured classifier, where internal nodes represent the features of a dataset, branches represent the decision rules and each leaf node represents the outcome."
      ],
      "metadata": {
        "id": "IwjWxdMTl080"
      }
    },
    {
      "cell_type": "code",
      "source": [
        "from sklearn.tree import DecisionTreeClassifier\n",
        "DtModel = DecisionTreeClassifier()"
      ],
      "metadata": {
        "id": "UDb6FrqrlLQc"
      },
      "execution_count": null,
      "outputs": []
    },
    {
      "cell_type": "markdown",
      "source": [
        "### **SUPPORT VECTOR CLASSIFIER**\n",
        "\n",
        "* The goal of the SVM algorithm is to create the best line or decision boundary that can segregate n-dimensional space into classes so that can easily put the new data point in the correct category in the future. This best decision boundary is called a hyperplane.\n",
        "\n",
        "* SVM chooses the extreme points/vectors that help in creating the hyperplane.\n",
        "* These extreme cases are called as support vectors, and hence algorithm is termed as Support Vector Machine."
      ],
      "metadata": {
        "id": "msRhLuw9l2--"
      }
    },
    {
      "cell_type": "code",
      "source": [
        "from sklearn.svm import SVC\n",
        "SvmModel = SVC()"
      ],
      "metadata": {
        "id": "lBSSJh5G-0DR"
      },
      "execution_count": null,
      "outputs": []
    },
    {
      "cell_type": "markdown",
      "source": [
        "## **KFOLD CROSS VALIDATION FOR VARIOUS MACHINE LEARNING MODELS**"
      ],
      "metadata": {
        "id": "2hz_vZ0slA8s"
      }
    },
    {
      "cell_type": "code",
      "source": [
        "from sklearn.model_selection import cross_val_score, KFold\n",
        "cv=KFold(n_splits=5, random_state=0, shuffle=True)\n",
        "\n",
        "scores = cross_val_score(lrModel, x_train, y_train, cv = cv,scoring='accuracy')\n",
        "print(\"Logistics Regression Average CV Score: \",scores.mean())\n",
        "\n",
        "scores = cross_val_score(KnModel, x_train, y_train, cv = cv,scoring='accuracy')\n",
        "print(\"KNeighbors Average CV Score: \",scores.mean())\n",
        "\n",
        "scores = cross_val_score(DtModel, x_train, y_train, cv = cv,scoring='accuracy')\n",
        "print(\"Decision Tree Average CV Score: \",scores.mean())\n",
        "\n",
        "scores = cross_val_score(RfModel, x_train, y_train, cv = cv,scoring='accuracy')\n",
        "print(\"Random Forest Average CV Score: \",scores.mean())\n",
        "\n",
        "scores = cross_val_score(SvmModel, x_train, y_train, cv = cv,scoring='accuracy')\n",
        "print(\"Support Vector Machine Average CV Score: \",scores.mean())"
      ],
      "metadata": {
        "id": "CmVWY-ir_UvT",
        "colab": {
          "base_uri": "https://localhost:8080/"
        },
        "outputId": "60d5ec5a-e83e-4ac9-f786-ffc02959ae19"
      },
      "execution_count": null,
      "outputs": [
        {
          "output_type": "stream",
          "name": "stdout",
          "text": [
            "Logistics Regression Average CV Score:  0.8757889453541626\n",
            "KNeighbors Average CV Score:  0.7523589936633415\n",
            "Decision Tree Average CV Score:  0.8900181943660204\n",
            "Random Forest Average CV Score:  0.9137524311437355\n",
            "Support Vector Machine Average CV Score:  0.5118482966309054\n"
          ]
        }
      ]
    },
    {
      "cell_type": "markdown",
      "source": [
        "### **ACCURACY OF MACHINE LEARNING MODELS**"
      ],
      "metadata": {
        "id": "6K00lf6flj-k"
      }
    },
    {
      "cell_type": "code",
      "source": [
        "models = ['Logistic Regression', 'KNN', 'Decision Tree', 'Random Forest', 'SVM']\n",
        "accuracy = [0.880, 0.761, 0.884, 0.914, 0.502]\n",
        "\n",
        "fig, ax = plt.subplots()\n",
        "ax.bar(models, accuracy)\n",
        "\n",
        "# Set the figure size\n",
        "fig.set_size_inches(8, 5)  # Adjust the width and height as desired\n",
        "\n",
        "for index, value in enumerate(accuracy):\n",
        "    plt.text(index, value,\n",
        "             str(value))\n",
        "\n",
        "# Add labels and titles\n",
        "ax.set_xlabel('Models')\n",
        "ax.set_ylabel('Accuracy')\n",
        "ax.set_title('Accuracy of Machine Learning Models')\n",
        "\n",
        "# Display the plot\n",
        "plt.show()"
      ],
      "metadata": {
        "colab": {
          "base_uri": "https://localhost:8080/",
          "height": 487
        },
        "id": "b3QVeterqmq5",
        "outputId": "10e312e6-9698-4048-d483-2af974a6bbcd"
      },
      "execution_count": null,
      "outputs": [
        {
          "output_type": "display_data",
          "data": {
            "text/plain": [
              "<Figure size 800x500 with 1 Axes>"
            ],
            "image/png": "[encoded data removed]"
          },
          "metadata": {}
        }
      ]
    },
    {
      "cell_type": "markdown",
      "source": [
        "### **Random forest performs with the highest accuracy**"
      ],
      "metadata": {
        "id": "a3PrWDVRKWLb"
      }
    },
    {
      "cell_type": "code",
      "source": [
        "#Building the random forest classifier model\n",
        "from sklearn.ensemble import RandomForestClassifier\n",
        "rfc = RandomForestClassifier()\n",
        "rfc.fit(x_train, y_train)\n",
        "y_pred = rfc.predict(x_test)\n",
        "\n",
        "#Evaluation of the model\n",
        "from sklearn.metrics import confusion_matrix, f1_score, recall_score, precision_score, r2_score, accuracy_score, classification_report\n",
        "print(\"Accuracy score : \",accuracy_score(y_pred,y_test))\n",
        "print(\"r2 score : \",r2_score(y_pred,y_test))\n",
        "print(\"precision score : \",precision_score(y_pred,y_test,average='micro'))\n",
        "print(\"recall score : \",recall_score(y_pred,y_test,average='micro'))\n",
        "print(\"f1 score : \",f1_score(y_pred,y_test,average='micro'))\n",
        "print(\"\\nclassification report \\n\")\n",
        "sns.heatmap(confusion_matrix(y_pred,y_test), annot = True)\n",
        "plt.show()"
      ],
      "metadata": {
        "colab": {
          "base_uri": "https://localhost:8080/",
          "height": 569
        },
        "id": "UfiEKdNXYxKG",
        "outputId": "732bb3b6-00a4-4ee5-b75a-87a53c4ff0bd"
      },
      "execution_count": null,
      "outputs": [
        {
          "output_type": "stream",
          "name": "stdout",
          "text": [
            "Accuracy score :  0.8627450980392157\n",
            "r2 score :  0.35120399818264425\n",
            "precision score :  0.8627450980392157\n",
            "recall score :  0.8627450980392157\n",
            "f1 score :  0.8627450980392157\n",
            "\n",
            "classification report \n",
            "\n"
          ]
        },
        {
          "output_type": "display_data",
          "data": {
            "text/plain": [
              "<Figure size 640x480 with 2 Axes>"
            ],
            "image/png": "[encoded data removed]"
          },
          "metadata": {}
        }
      ]
    },
    {
      "cell_type": "markdown",
      "source": [
        "# **HYPERPARAMETER TUNING**"
      ],
      "metadata": {
        "id": "nelyKydtPHxt"
      }
    },
    {
      "cell_type": "code",
      "source": [
        "#Parameters for random forest classifier\n",
        "param_grid = {'n_estimators': [50, 100, 200],\n",
        "              'max_depth': [None, 5, 10],\n",
        "              'max_features': [None, 'sqrt', 'log2'],\n",
        "              'criterion': ['entropy', 'gini', 'log_loss']}\n",
        "\n",
        "#Import and imitialize GridSearchCV\n",
        "from sklearn.model_selection import GridSearchCV\n",
        "grid_search = GridSearchCV(estimator=RfModel, param_grid=param_grid, cv=5, scoring='accuracy')\n",
        "\n",
        "# Fit GridSearchCV to training data\n",
        "grid_search.fit(x,y)\n",
        "\n",
        "# Print best parameters and score\n",
        "print(\"Best Parameters: \", grid_search.best_params_)\n",
        "print(\"Best Score: \", grid_search.best_score_)"
      ],
      "metadata": {
        "colab": {
          "base_uri": "https://localhost:8080/"
        },
        "id": "G1Q3FIO9A_HC",
        "outputId": "a3afdc2d-aec7-48b9-f682-f5160b4015fa"
      },
      "execution_count": null,
      "outputs": [
        {
          "output_type": "stream",
          "name": "stdout",
          "text": [
            "Best Parameters:  {'criterion': 'log_loss', 'max_depth': 5, 'max_features': 'log2', 'n_estimators': 50}\n",
            "Best Score:  0.8754901960784315\n"
          ]
        }
      ]
    },
    {
      "cell_type": "markdown",
      "source": [
        "# **FINAL MODEL**"
      ],
      "metadata": {
        "id": "b6dlB4MgYuAv"
      }
    },
    {
      "cell_type": "code",
      "source": [
        "from sklearn.ensemble import RandomForestClassifier\n",
        "rfc = RandomForestClassifier(n_estimators=100, criterion='entropy', max_depth=5, max_features='sqrt')\n",
        "rfc.fit(x_train, y_train)"
      ],
      "metadata": {
        "id": "f11-gBNzPzL5",
        "colab": {
          "base_uri": "https://localhost:8080/"
        },
        "outputId": "495b54d1-e982-4677-bc1c-6787e7c03a6f"
      },
      "execution_count": null,
      "outputs": [
        {
          "output_type": "execute_result",
          "data": {
            "text/plain": [
              "RandomForestClassifier(criterion='entropy', max_depth=5)"
            ],
            "text/html": [
              "<style>#sk-container-id-3 {color: black;background-color: white;}#sk-container-id-3 pre{padding: 0;}#sk-container-id-3 div.sk-toggleable {background-color: white;}#sk-container-id-3 label.sk-toggleable__label {cursor: pointer;display: block;width: 100%;margin-bottom: 0;padding: 0.3em;box-sizing: border-box;text-align: center;}#sk-container-id-3 label.sk-toggleable__label-arrow:before {content: \"▸\";float: left;margin-right: 0.25em;color: #696969;}#sk-container-id-3 label.sk-toggleable__label-arrow:hover:before {color: black;}#sk-container-id-3 div.sk-estimator:hover label.sk-toggleable__label-arrow:before {color: black;}#sk-container-id-3 div.sk-toggleable__content {max-height: 0;max-width: 0;overflow: hidden;text-align: left;background-color: #f0f8ff;}#sk-container-id-3 div.sk-toggleable__content pre {margin: 0.2em;color: black;border-radius: 0.25em;background-color: #f0f8ff;}#sk-container-id-3 input.sk-toggleable__control:checked~div.sk-toggleable__content {max-height: 200px;max-width: 100%;overflow: auto;}#sk-container-id-3 input.sk-toggleable__control:checked~label.sk-toggleable__label-arrow:before {content: \"▾\";}#sk-container-id-3 div.sk-estimator input.sk-toggleable__control:checked~label.sk-toggleable__label {background-color: #d4ebff;}#sk-container-id-3 div.sk-label input.sk-toggleable__control:checked~label.sk-toggleable__label {background-color: #d4ebff;}#sk-container-id-3 input.sk-hidden--visually {border: 0;clip: rect(1px 1px 1px 1px);clip: rect(1px, 1px, 1px, 1px);height: 1px;margin: -1px;overflow: hidden;padding: 0;position: absolute;width: 1px;}#sk-container-id-3 div.sk-estimator {font-family: monospace;background-color: #f0f8ff;border: 1px dotted black;border-radius: 0.25em;box-sizing: border-box;margin-bottom: 0.5em;}#sk-container-id-3 div.sk-estimator:hover {background-color: #d4ebff;}#sk-container-id-3 div.sk-parallel-item::after {content: \"\";width: 100%;border-bottom: 1px solid gray;flex-grow: 1;}#sk-container-id-3 div.sk-label:hover label.sk-toggleable__label {background-color: #d4ebff;}#sk-container-id-3 div.sk-serial::before {content: \"\";position: absolute;border-left: 1px solid gray;box-sizing: border-box;top: 0;bottom: 0;left: 50%;z-index: 0;}#sk-container-id-3 div.sk-serial {display: flex;flex-direction: column;align-items: center;background-color: white;padding-right: 0.2em;padding-left: 0.2em;position: relative;}#sk-container-id-3 div.sk-item {position: relative;z-index: 1;}#sk-container-id-3 div.sk-parallel {display: flex;align-items: stretch;justify-content: center;background-color: white;position: relative;}#sk-container-id-3 div.sk-item::before, #sk-container-id-3 div.sk-parallel-item::before {content: \"\";position: absolute;border-left: 1px solid gray;box-sizing: border-box;top: 0;bottom: 0;left: 50%;z-index: -1;}#sk-container-id-3 div.sk-parallel-item {display: flex;flex-direction: column;z-index: 1;position: relative;background-color: white;}#sk-container-id-3 div.sk-parallel-item:first-child::after {align-self: flex-end;width: 50%;}#sk-container-id-3 div.sk-parallel-item:last-child::after {align-self: flex-start;width: 50%;}#sk-container-id-3 div.sk-parallel-item:only-child::after {width: 0;}#sk-container-id-3 div.sk-dashed-wrapped {border: 1px dashed gray;margin: 0 0.4em 0.5em 0.4em;box-sizing: border-box;padding-bottom: 0.4em;background-color: white;}#sk-container-id-3 div.sk-label label {font-family: monospace;font-weight: bold;display: inline-block;line-height: 1.2em;}#sk-container-id-3 div.sk-label-container {text-align: center;}#sk-container-id-3 div.sk-container {/* jupyter's `normalize.less` sets `[hidden] { display: none; }` but bootstrap.min.css set `[hidden] { display: none !important; }` so we also need the `!important` here to be able to override the default hidden behavior on the sphinx rendered scikit-learn.org. See: https://github.com/scikit-learn/scikit-learn/issues/21755 */display: inline-block !important;position: relative;}#sk-container-id-3 div.sk-text-repr-fallback {display: none;}</style><div id=\"sk-container-id-3\" class=\"sk-top-container\"><div class=\"sk-text-repr-fallback\"><pre>RandomForestClassifier(criterion=&#x27;entropy&#x27;, max_depth=5)</pre><b>In a Jupyter environment, please rerun this cell to show the HTML representation or trust the notebook. <br />On GitHub, the HTML representation is unable to render, please try loading this page with nbviewer.org.</b></div><div class=\"sk-container\" hidden><div class=\"sk-item\"><div class=\"sk-estimator sk-toggleable\"><input class=\"sk-toggleable__control sk-hidden--visually\" id=\"sk-estimator-id-3\" type=\"checkbox\" checked><label for=\"sk-estimator-id-3\" class=\"sk-toggleable__label sk-toggleable__label-arrow\">RandomForestClassifier</label><div class=\"sk-toggleable__content\"><pre>RandomForestClassifier(criterion=&#x27;entropy&#x27;, max_depth=5)</pre></div></div></div></div></div>"
            ]
          },
          "metadata": {},
          "execution_count": 115
        }
      ]
    },
    {
      "cell_type": "code",
      "source": [
        "y_pred_rfc = rfc.predict(x_test)"
      ],
      "metadata": {
        "id": "N4j9GBe0QefV"
      },
      "execution_count": null,
      "outputs": []
    },
    {
      "cell_type": "markdown",
      "source": [
        "### **EVALUATION METRICS**"
      ],
      "metadata": {
        "id": "FNIZuIvvZtyn"
      }
    },
    {
      "cell_type": "code",
      "source": [
        "from sklearn.metrics import accuracy_score\n",
        "print('The accuracy of random forest classifier: ', accuracy_score(y_test,y_pred_rfc))"
      ],
      "metadata": {
        "colab": {
          "base_uri": "https://localhost:8080/"
        },
        "id": "meAKcrmiQPtg",
        "outputId": "6b0007d2-6519-4790-f4e3-ef3fc1417445"
      },
      "execution_count": null,
      "outputs": [
        {
          "output_type": "stream",
          "name": "stdout",
          "text": [
            "The accuracy of random forest classifier:  0.8627450980392157\n"
          ]
        }
      ]
    },
    {
      "cell_type": "code",
      "source": [
        "from sklearn.metrics import confusion_matrix, f1_score, recall_score, precision_score\n",
        "print('The confusion matrix of random forest classifier: ', confusion_matrix(y_test,y_pred_rfc))\n",
        "print('The f1 score of random forest classifier: ', f1_score(y_test,y_pred_rfc))\n",
        "print('The recall score of random forest classifier: ', recall_score(y_test,y_pred_rfc))\n",
        "print('The precision score of random forest classifier: ', precision_score(y_test,y_pred_rfc))"
      ],
      "metadata": {
        "id": "o3WVR0_GesZ9",
        "colab": {
          "base_uri": "https://localhost:8080/"
        },
        "outputId": "1bd1626e-f08c-421a-bcb7-59edc027aed8"
      },
      "execution_count": null,
      "outputs": [
        {
          "output_type": "stream",
          "name": "stdout",
          "text": [
            "The confusion matrix of random forest classifier:  [[134  24]\n",
            " [  4  42]]\n",
            "The f1 score of random forest classifier:  0.75\n",
            "The recall score of random forest classifier:  0.9130434782608695\n",
            "The precision score of random forest classifier:  0.6363636363636364\n"
          ]
        }
      ]
    },
    {
      "cell_type": "code",
      "source": [
        "from sklearn.metrics import classification_report\n",
        "print(classification_report(y_test,y_pred_rfc))"
      ],
      "metadata": {
        "colab": {
          "base_uri": "https://localhost:8080/"
        },
        "id": "4Aie4Oymmkoi",
        "outputId": "16f43e32-de46-4420-a86e-8af9f74d7dcc"
      },
      "execution_count": null,
      "outputs": [
        {
          "output_type": "stream",
          "name": "stdout",
          "text": [
            "              precision    recall  f1-score   support\n",
            "\n",
            "           0       0.97      0.85      0.91       158\n",
            "           1       0.64      0.91      0.75        46\n",
            "\n",
            "    accuracy                           0.86       204\n",
            "   macro avg       0.80      0.88      0.83       204\n",
            "weighted avg       0.90      0.86      0.87       204\n",
            "\n"
          ]
        }
      ]
    },
    {
      "cell_type": "markdown",
      "source": [
        "### **MOST INFLUENTIAL FEATURE**"
      ],
      "metadata": {
        "id": "ByMjdeO8wKQ-"
      }
    },
    {
      "cell_type": "code",
      "source": [
        "# Create a random forest classifier\n",
        "rfc = RandomForestClassifier()\n",
        "\n",
        "# Fit the classifier to the data\n",
        "rfc.fit(x, y)\n",
        "\n",
        "# Get feature importances\n",
        "importances = rfc.feature_importances_\n",
        "\n",
        "# Create a DataFrame to store feature importance information\n",
        "feature_importance = pd.DataFrame({'Feature': x.columns, 'Importance': importances})\n",
        "\n",
        "# Sort the features based on their importance\n",
        "sorted_features = feature_importance.sort_values(by='Importance', ascending=False)\n",
        "\n",
        "# Print the important features in order\n",
        "print(sorted_features)\n",
        "\n",
        "# Plot the feature importances using a barplot\n",
        "plt.figure(figsize=(8, 6))\n",
        "plt.bar(sorted_features['Feature'], sorted_features['Importance'])\n",
        "plt.xticks(rotation='vertical')\n",
        "plt.xlabel('Features')\n",
        "plt.ylabel('Importance')\n",
        "plt.title('Feature Importance')\n",
        "plt.tight_layout()\n",
        "plt.show()"
      ],
      "metadata": {
        "colab": {
          "base_uri": "https://localhost:8080/",
          "height": 728
        },
        "id": "chFHYCEpwNz_",
        "outputId": "9da1736d-d7e8-4015-96af-0107091f4414"
      },
      "execution_count": null,
      "outputs": [
        {
          "output_type": "stream",
          "name": "stdout",
          "text": [
            "             Feature  Importance\n",
            "3   genetic-category    0.453329\n",
            "1          gene-name    0.197607\n",
            "5  number-of-reports    0.164602\n",
            "2         chromosome    0.115595\n",
            "4         gene-score    0.068866\n",
            "0             status    0.000000\n"
          ]
        },
        {
          "output_type": "display_data",
          "data": {
            "text/plain": [
              "<Figure size 800x600 with 1 Axes>"
            ],
            "image/png": "[encoded data removed]"
          },
          "metadata": {}
        }
      ]
    },
    {
      "cell_type": "markdown",
      "source": [
        "### **INFERENCE**\n",
        "\n",
        "* Therefore, I infer that the feature 'genetic-category' influences the most to detect the presence of Autism Spectrum Disorder(ASD) in human mutated gene.\n",
        "\n",
        "* Random forest performs the highest accuracy of 86%"
      ],
      "metadata": {
        "id": "Ov5ZeiQy0Eda"
      }
    }
  ]
}