{
  "nbformat": 4,
  "nbformat_minor": 0,
  "metadata": {
    "colab": {
      "provenance": [],
      "include_colab_link": true
    },
    "kernelspec": {
      "name": "python3",
      "display_name": "Python 3"
    },
    "language_info": {
      "name": "python"
    }
  },
  "cells": [
    {
      "cell_type": "markdown",
      "metadata": {
        "id": "view-in-github",
        "colab_type": "text"
      },
      "source": [
        "<a href=\"https://colab.research.google.com/github/arpanastanley24/Detection-of-austism-spectrum-disorder-ASD-/blob/main/Detection_of_Autism_Spectrum_Disorder(ASD).ipynb\" target=\"_parent\"><img src=\"https://colab.research.google.com/assets/colab-badge.svg\" alt=\"Open In Colab\"/></a>"
      ]
    },
    {
      "cell_type": "markdown",
      "source": [
        "# **DETECTION OF AUTISM SPECTRUM DISORDER(ASD)**"
      ],
      "metadata": {
        "id": "s5JV3kvJzfz2"
      }
    },
    {
      "cell_type": "markdown",
      "source": [
        "## **ASD - MUTATED HUMAN GENE**\n",
        "\n",
        "Autism, or autism spectrum disorder (ASD), refers to a broad range of conditions characterized by challenges with social skills, repetitive behaviors, speech and nonverbal communication.\n",
        "\n",
        "### **Causes and Challenges**\n",
        "\n",
        "* It is mostly influenced by a combination of genetic and environmental factors. Because autism is a spectrum disorder, each person with autism has a distinct set of strengths and challenges.\n",
        "\n",
        "* The ways in which people with autism learn, think and problem-solve can range from highly skilled to severely challenged.\n",
        "\n",
        "* Research has made clear that high quality early intervention can improve learning, communication and social skills, as well as underlying brain development. Yet the diagnostic process can take several years.\n",
        "\n",
        "\n",
        "### **ACKNOWLEDGEMENT**\n",
        "\n",
        "This dataset is taken from Kaggle.\n",
        "\n",
        "Autism Specturm Disorder (ASD) patient's Mutated human Gene Dataset.\n",
        "\n",
        "Site: https://gene.sfari.org/database/human-gene/\n"
      ],
      "metadata": {
        "id": "9e9wuW7eXVVL"
      }
    },
    {
      "cell_type": "code",
      "execution_count": 1,
      "metadata": {
        "id": "Fv5Kfccb1KsK"
      },
      "outputs": [],
      "source": [
        "#import the required libraries\n",
        "import pandas as pd\n",
        "import numpy as np\n",
        "import matplotlib.pyplot as plt\n",
        "import seaborn as sns\n",
        "\n",
        "# Supress Warnings\n",
        "import warnings\n",
        "warnings.filterwarnings(\"ignore\")"
      ]
    },
    {
      "cell_type": "code",
      "source": [
        "from google.colab import drive\n",
        "drive.mount('/content/drive')"
      ],
      "metadata": {
        "colab": {
          "base_uri": "https://localhost:8080/"
        },
        "id": "osE_YN1a1Rcm",
        "outputId": "cab7a927-2c6a-4a9a-fea5-361069713f83"
      },
      "execution_count": 2,
      "outputs": [
        {
          "output_type": "stream",
          "name": "stdout",
          "text": [
            "Mounted at /content/drive\n"
          ]
        }
      ]
    },
    {
      "cell_type": "code",
      "source": [
        "#Read the dataset\n",
        "df=pd.read_csv('/content/drive/MyDrive/SFARI-Gene_genes_09-02-2021release_12-11-2021export.csv')\n",
        "df"
      ],
      "metadata": {
        "colab": {
          "base_uri": "https://localhost:8080/",
          "height": 571
        },
        "id": "qNWyM2dN1elv",
        "outputId": "993d2c42-bb78-408c-e038-7b154d437970"
      },
      "execution_count": 3,
      "outputs": [
        {
          "output_type": "execute_result",
          "data": {
            "text/plain": [
              "      status gene-symbol                                          gene-name  \\\n",
              "0          9        ABAT                   4-aminobutyrate aminotransferase   \n",
              "1          9      ABCA10  ATP-binding cassette, sub-family A (ABC1), mem...   \n",
              "2          9      ABCA13         ATP binding cassette subfamily A member 13   \n",
              "3          9       ABCA7  ATP-binding cassette, sub-family A (ABC1), mem...   \n",
              "4          9         ACE                    angiotensin I converting enzyme   \n",
              "...      ...         ...                                                ...   \n",
              "1018       9       ZMYM2                  zinc finger MYM-type containing 2   \n",
              "1019       9      ZMYND8                 zinc finger MYND-type containing 8   \n",
              "1020       9      ZNF827                            Zinc finger protein 827   \n",
              "1021       9      ZSWIM6                 zinc finger SWIM-type containing 6   \n",
              "1022       9      ZWILCH                          zwilchkinetochore protein   \n",
              "\n",
              "           ensembl-id chromosome  \\\n",
              "0     ENSG00000183044         16   \n",
              "1     ENSG00000154263         17   \n",
              "2     ENSG00000179869          7   \n",
              "3     ENSG00000064687         19   \n",
              "4     ENSG00000159640         17   \n",
              "...               ...        ...   \n",
              "1018  ENSG00000121741         13   \n",
              "1019  ENSG00000101040         20   \n",
              "1020  ENSG00000151612          4   \n",
              "1021  ENSG00000130449          5   \n",
              "1022  ENSG00000174442         15   \n",
              "\n",
              "                                    genetic-category  gene-score  syndromic  \\\n",
              "0     Rare Single Gene Mutation, Genetic Association         3.0          0   \n",
              "1                          Rare Single Gene Mutation         3.0          0   \n",
              "2              Rare Single Gene Mutation, Functional         3.0          0   \n",
              "3                          Rare Single Gene Mutation         3.0          0   \n",
              "4     Rare Single Gene Mutation, Genetic Association         3.0          0   \n",
              "...                                              ...         ...        ...   \n",
              "1018            Rare Single Gene Mutation, Syndromic         2.0          1   \n",
              "1019                       Rare Single Gene Mutation         1.0          0   \n",
              "1020                             Genetic Association         3.0          0   \n",
              "1021                  Syndromic, Genetic Association         NaN          1   \n",
              "1022                       Rare Single Gene Mutation         3.0          0   \n",
              "\n",
              "      number-of-reports  \n",
              "0                     5  \n",
              "1                     1  \n",
              "2                     6  \n",
              "3                     4  \n",
              "4                     3  \n",
              "...                 ...  \n",
              "1018                  6  \n",
              "1019                  4  \n",
              "1020                  1  \n",
              "1021                  3  \n",
              "1022                  4  \n",
              "\n",
              "[1023 rows x 9 columns]"
            ],
            "text/html": [
              "\n",
              "  <div id=\"df-bd1e01b6-ce71-4722-8045-9d369e011582\">\n",
              "    <div class=\"colab-df-container\">\n",
              "      <div>\n",
              "<style scoped>\n",
              "    .dataframe tbody tr th:only-of-type {\n",
              "        vertical-align: middle;\n",
              "    }\n",
              "\n",
              "    .dataframe tbody tr th {\n",
              "        vertical-align: top;\n",
              "    }\n",
              "\n",
              "    .dataframe thead th {\n",
              "        text-align: right;\n",
              "    }\n",
              "</style>\n",
              "<table border=\"1\" class=\"dataframe\">\n",
              "  <thead>\n",
              "    <tr style=\"text-align: right;\">\n",
              "      <th></th>\n",
              "      <th>status</th>\n",
              "      <th>gene-symbol</th>\n",
              "      <th>gene-name</th>\n",
              "      <th>ensembl-id</th>\n",
              "      <th>chromosome</th>\n",
              "      <th>genetic-category</th>\n",
              "      <th>gene-score</th>\n",
              "      <th>syndromic</th>\n",
              "      <th>number-of-reports</th>\n",
              "    </tr>\n",
              "  </thead>\n",
              "  <tbody>\n",
              "    <tr>\n",
              "      <th>0</th>\n",
              "      <td>9</td>\n",
              "      <td>ABAT</td>\n",
              "      <td>4-aminobutyrate aminotransferase</td>\n",
              "      <td>ENSG00000183044</td>\n",
              "      <td>16</td>\n",
              "      <td>Rare Single Gene Mutation, Genetic Association</td>\n",
              "      <td>3.0</td>\n",
              "      <td>0</td>\n",
              "      <td>5</td>\n",
              "    </tr>\n",
              "    <tr>\n",
              "      <th>1</th>\n",
              "      <td>9</td>\n",
              "      <td>ABCA10</td>\n",
              "      <td>ATP-binding cassette, sub-family A (ABC1), mem...</td>\n",
              "      <td>ENSG00000154263</td>\n",
              "      <td>17</td>\n",
              "      <td>Rare Single Gene Mutation</td>\n",
              "      <td>3.0</td>\n",
              "      <td>0</td>\n",
              "      <td>1</td>\n",
              "    </tr>\n",
              "    <tr>\n",
              "      <th>2</th>\n",
              "      <td>9</td>\n",
              "      <td>ABCA13</td>\n",
              "      <td>ATP binding cassette subfamily A member 13</td>\n",
              "      <td>ENSG00000179869</td>\n",
              "      <td>7</td>\n",
              "      <td>Rare Single Gene Mutation, Functional</td>\n",
              "      <td>3.0</td>\n",
              "      <td>0</td>\n",
              "      <td>6</td>\n",
              "    </tr>\n",
              "    <tr>\n",
              "      <th>3</th>\n",
              "      <td>9</td>\n",
              "      <td>ABCA7</td>\n",
              "      <td>ATP-binding cassette, sub-family A (ABC1), mem...</td>\n",
              "      <td>ENSG00000064687</td>\n",
              "      <td>19</td>\n",
              "      <td>Rare Single Gene Mutation</td>\n",
              "      <td>3.0</td>\n",
              "      <td>0</td>\n",
              "      <td>4</td>\n",
              "    </tr>\n",
              "    <tr>\n",
              "      <th>4</th>\n",
              "      <td>9</td>\n",
              "      <td>ACE</td>\n",
              "      <td>angiotensin I converting enzyme</td>\n",
              "      <td>ENSG00000159640</td>\n",
              "      <td>17</td>\n",
              "      <td>Rare Single Gene Mutation, Genetic Association</td>\n",
              "      <td>3.0</td>\n",
              "      <td>0</td>\n",
              "      <td>3</td>\n",
              "    </tr>\n",
              "    <tr>\n",
              "      <th>...</th>\n",
              "      <td>...</td>\n",
              "      <td>...</td>\n",
              "      <td>...</td>\n",
              "      <td>...</td>\n",
              "      <td>...</td>\n",
              "      <td>...</td>\n",
              "      <td>...</td>\n",
              "      <td>...</td>\n",
              "      <td>...</td>\n",
              "    </tr>\n",
              "    <tr>\n",
              "      <th>1018</th>\n",
              "      <td>9</td>\n",
              "      <td>ZMYM2</td>\n",
              "      <td>zinc finger MYM-type containing 2</td>\n",
              "      <td>ENSG00000121741</td>\n",
              "      <td>13</td>\n",
              "      <td>Rare Single Gene Mutation, Syndromic</td>\n",
              "      <td>2.0</td>\n",
              "      <td>1</td>\n",
              "      <td>6</td>\n",
              "    </tr>\n",
              "    <tr>\n",
              "      <th>1019</th>\n",
              "      <td>9</td>\n",
              "      <td>ZMYND8</td>\n",
              "      <td>zinc finger MYND-type containing 8</td>\n",
              "      <td>ENSG00000101040</td>\n",
              "      <td>20</td>\n",
              "      <td>Rare Single Gene Mutation</td>\n",
              "      <td>1.0</td>\n",
              "      <td>0</td>\n",
              "      <td>4</td>\n",
              "    </tr>\n",
              "    <tr>\n",
              "      <th>1020</th>\n",
              "      <td>9</td>\n",
              "      <td>ZNF827</td>\n",
              "      <td>Zinc finger protein 827</td>\n",
              "      <td>ENSG00000151612</td>\n",
              "      <td>4</td>\n",
              "      <td>Genetic Association</td>\n",
              "      <td>3.0</td>\n",
              "      <td>0</td>\n",
              "      <td>1</td>\n",
              "    </tr>\n",
              "    <tr>\n",
              "      <th>1021</th>\n",
              "      <td>9</td>\n",
              "      <td>ZSWIM6</td>\n",
              "      <td>zinc finger SWIM-type containing 6</td>\n",
              "      <td>ENSG00000130449</td>\n",
              "      <td>5</td>\n",
              "      <td>Syndromic, Genetic Association</td>\n",
              "      <td>NaN</td>\n",
              "      <td>1</td>\n",
              "      <td>3</td>\n",
              "    </tr>\n",
              "    <tr>\n",
              "      <th>1022</th>\n",
              "      <td>9</td>\n",
              "      <td>ZWILCH</td>\n",
              "      <td>zwilchkinetochore protein</td>\n",
              "      <td>ENSG00000174442</td>\n",
              "      <td>15</td>\n",
              "      <td>Rare Single Gene Mutation</td>\n",
              "      <td>3.0</td>\n",
              "      <td>0</td>\n",
              "      <td>4</td>\n",
              "    </tr>\n",
              "  </tbody>\n",
              "</table>\n",
              "<p>1023 rows × 9 columns</p>\n",
              "</div>\n",
              "      <button class=\"colab-df-convert\" onclick=\"convertToInteractive('df-bd1e01b6-ce71-4722-8045-9d369e011582')\"\n",
              "              title=\"Convert this dataframe to an interactive table.\"\n",
              "              style=\"display:none;\">\n",
              "        \n",
              "  <svg xmlns=\"http://www.w3.org/2000/svg\" height=\"24px\"viewBox=\"0 0 24 24\"\n",
              "       width=\"24px\">\n",
              "    <path d=\"M0 0h24v24H0V0z\" fill=\"none\"/>\n",
              "    <path d=\"M18.56 5.44l.94 2.06.94-2.06 2.06-.94-2.06-.94-.94-2.06-.94 2.06-2.06.94zm-11 1L8.5 8.5l.94-2.06 2.06-.94-2.06-.94L8.5 2.5l-.94 2.06-2.06.94zm10 10l.94 2.06.94-2.06 2.06-.94-2.06-.94-.94-2.06-.94 2.06-2.06.94z\"/><path d=\"M17.41 7.96l-1.37-1.37c-.4-.4-.92-.59-1.43-.59-.52 0-1.04.2-1.43.59L10.3 9.45l-7.72 7.72c-.78.78-.78 2.05 0 2.83L4 21.41c.39.39.9.59 1.41.59.51 0 1.02-.2 1.41-.59l7.78-7.78 2.81-2.81c.8-.78.8-2.07 0-2.86zM5.41 20L4 18.59l7.72-7.72 1.47 1.35L5.41 20z\"/>\n",
              "  </svg>\n",
              "      </button>\n",
              "      \n",
              "  <style>\n",
              "    .colab-df-container {\n",
              "      display:flex;\n",
              "      flex-wrap:wrap;\n",
              "      gap: 12px;\n",
              "    }\n",
              "\n",
              "    .colab-df-convert {\n",
              "      background-color: #E8F0FE;\n",
              "      border: none;\n",
              "      border-radius: 50%;\n",
              "      cursor: pointer;\n",
              "      display: none;\n",
              "      fill: #1967D2;\n",
              "      height: 32px;\n",
              "      padding: 0 0 0 0;\n",
              "      width: 32px;\n",
              "    }\n",
              "\n",
              "    .colab-df-convert:hover {\n",
              "      background-color: #E2EBFA;\n",
              "      box-shadow: 0px 1px 2px rgba(60, 64, 67, 0.3), 0px 1px 3px 1px rgba(60, 64, 67, 0.15);\n",
              "      fill: #174EA6;\n",
              "    }\n",
              "\n",
              "    [theme=dark] .colab-df-convert {\n",
              "      background-color: #3B4455;\n",
              "      fill: #D2E3FC;\n",
              "    }\n",
              "\n",
              "    [theme=dark] .colab-df-convert:hover {\n",
              "      background-color: #434B5C;\n",
              "      box-shadow: 0px 1px 3px 1px rgba(0, 0, 0, 0.15);\n",
              "      filter: drop-shadow(0px 1px 2px rgba(0, 0, 0, 0.3));\n",
              "      fill: #FFFFFF;\n",
              "    }\n",
              "  </style>\n",
              "\n",
              "      <script>\n",
              "        const buttonEl =\n",
              "          document.querySelector('#df-bd1e01b6-ce71-4722-8045-9d369e011582 button.colab-df-convert');\n",
              "        buttonEl.style.display =\n",
              "          google.colab.kernel.accessAllowed ? 'block' : 'none';\n",
              "\n",
              "        async function convertToInteractive(key) {\n",
              "          const element = document.querySelector('#df-bd1e01b6-ce71-4722-8045-9d369e011582');\n",
              "          const dataTable =\n",
              "            await google.colab.kernel.invokeFunction('convertToInteractive',\n",
              "                                                     [key], {});\n",
              "          if (!dataTable) return;\n",
              "\n",
              "          const docLinkHtml = 'Like what you see? Visit the ' +\n",
              "            '<a target=\"_blank\" href=https://colab.research.google.com/notebooks/data_table.ipynb>data table notebook</a>'\n",
              "            + ' to learn more about interactive tables.';\n",
              "          element.innerHTML = '';\n",
              "          dataTable['output_type'] = 'display_data';\n",
              "          await google.colab.output.renderOutput(dataTable, element);\n",
              "          const docLink = document.createElement('div');\n",
              "          docLink.innerHTML = docLinkHtml;\n",
              "          element.appendChild(docLink);\n",
              "        }\n",
              "      </script>\n",
              "    </div>\n",
              "  </div>\n",
              "  "
            ]
          },
          "metadata": {},
          "execution_count": 3
        }
      ]
    },
    {
      "cell_type": "markdown",
      "source": [
        "# **EXPLORATORY DATA ANALYSIS**"
      ],
      "metadata": {
        "id": "zXqw6-HKqdZ5"
      }
    },
    {
      "cell_type": "code",
      "source": [
        "#Retrieves the first 5 rows\n",
        "df.head()"
      ],
      "metadata": {
        "id": "m7cp-TsNOvqR",
        "colab": {
          "base_uri": "https://localhost:8080/",
          "height": 337
        },
        "outputId": "1b9569cb-019e-42fb-ec14-0912b6c36d65"
      },
      "execution_count": 4,
      "outputs": [
        {
          "output_type": "execute_result",
          "data": {
            "text/plain": [
              "   status gene-symbol                                          gene-name  \\\n",
              "0       9        ABAT                   4-aminobutyrate aminotransferase   \n",
              "1       9      ABCA10  ATP-binding cassette, sub-family A (ABC1), mem...   \n",
              "2       9      ABCA13         ATP binding cassette subfamily A member 13   \n",
              "3       9       ABCA7  ATP-binding cassette, sub-family A (ABC1), mem...   \n",
              "4       9         ACE                    angiotensin I converting enzyme   \n",
              "\n",
              "        ensembl-id chromosome                                genetic-category  \\\n",
              "0  ENSG00000183044         16  Rare Single Gene Mutation, Genetic Association   \n",
              "1  ENSG00000154263         17                       Rare Single Gene Mutation   \n",
              "2  ENSG00000179869          7           Rare Single Gene Mutation, Functional   \n",
              "3  ENSG00000064687         19                       Rare Single Gene Mutation   \n",
              "4  ENSG00000159640         17  Rare Single Gene Mutation, Genetic Association   \n",
              "\n",
              "   gene-score  syndromic  number-of-reports  \n",
              "0         3.0          0                  5  \n",
              "1         3.0          0                  1  \n",
              "2         3.0          0                  6  \n",
              "3         3.0          0                  4  \n",
              "4         3.0          0                  3  "
            ],
            "text/html": [
              "\n",
              "  <div id=\"df-4a0b084c-f388-4f3e-8860-3d388c81b5a5\">\n",
              "    <div class=\"colab-df-container\">\n",
              "      <div>\n",
              "<style scoped>\n",
              "    .dataframe tbody tr th:only-of-type {\n",
              "        vertical-align: middle;\n",
              "    }\n",
              "\n",
              "    .dataframe tbody tr th {\n",
              "        vertical-align: top;\n",
              "    }\n",
              "\n",
              "    .dataframe thead th {\n",
              "        text-align: right;\n",
              "    }\n",
              "</style>\n",
              "<table border=\"1\" class=\"dataframe\">\n",
              "  <thead>\n",
              "    <tr style=\"text-align: right;\">\n",
              "      <th></th>\n",
              "      <th>status</th>\n",
              "      <th>gene-symbol</th>\n",
              "      <th>gene-name</th>\n",
              "      <th>ensembl-id</th>\n",
              "      <th>chromosome</th>\n",
              "      <th>genetic-category</th>\n",
              "      <th>gene-score</th>\n",
              "      <th>syndromic</th>\n",
              "      <th>number-of-reports</th>\n",
              "    </tr>\n",
              "  </thead>\n",
              "  <tbody>\n",
              "    <tr>\n",
              "      <th>0</th>\n",
              "      <td>9</td>\n",
              "      <td>ABAT</td>\n",
              "      <td>4-aminobutyrate aminotransferase</td>\n",
              "      <td>ENSG00000183044</td>\n",
              "      <td>16</td>\n",
              "      <td>Rare Single Gene Mutation, Genetic Association</td>\n",
              "      <td>3.0</td>\n",
              "      <td>0</td>\n",
              "      <td>5</td>\n",
              "    </tr>\n",
              "    <tr>\n",
              "      <th>1</th>\n",
              "      <td>9</td>\n",
              "      <td>ABCA10</td>\n",
              "      <td>ATP-binding cassette, sub-family A (ABC1), mem...</td>\n",
              "      <td>ENSG00000154263</td>\n",
              "      <td>17</td>\n",
              "      <td>Rare Single Gene Mutation</td>\n",
              "      <td>3.0</td>\n",
              "      <td>0</td>\n",
              "      <td>1</td>\n",
              "    </tr>\n",
              "    <tr>\n",
              "      <th>2</th>\n",
              "      <td>9</td>\n",
              "      <td>ABCA13</td>\n",
              "      <td>ATP binding cassette subfamily A member 13</td>\n",
              "      <td>ENSG00000179869</td>\n",
              "      <td>7</td>\n",
              "      <td>Rare Single Gene Mutation, Functional</td>\n",
              "      <td>3.0</td>\n",
              "      <td>0</td>\n",
              "      <td>6</td>\n",
              "    </tr>\n",
              "    <tr>\n",
              "      <th>3</th>\n",
              "      <td>9</td>\n",
              "      <td>ABCA7</td>\n",
              "      <td>ATP-binding cassette, sub-family A (ABC1), mem...</td>\n",
              "      <td>ENSG00000064687</td>\n",
              "      <td>19</td>\n",
              "      <td>Rare Single Gene Mutation</td>\n",
              "      <td>3.0</td>\n",
              "      <td>0</td>\n",
              "      <td>4</td>\n",
              "    </tr>\n",
              "    <tr>\n",
              "      <th>4</th>\n",
              "      <td>9</td>\n",
              "      <td>ACE</td>\n",
              "      <td>angiotensin I converting enzyme</td>\n",
              "      <td>ENSG00000159640</td>\n",
              "      <td>17</td>\n",
              "      <td>Rare Single Gene Mutation, Genetic Association</td>\n",
              "      <td>3.0</td>\n",
              "      <td>0</td>\n",
              "      <td>3</td>\n",
              "    </tr>\n",
              "  </tbody>\n",
              "</table>\n",
              "</div>\n",
              "      <button class=\"colab-df-convert\" onclick=\"convertToInteractive('df-4a0b084c-f388-4f3e-8860-3d388c81b5a5')\"\n",
              "              title=\"Convert this dataframe to an interactive table.\"\n",
              "              style=\"display:none;\">\n",
              "        \n",
              "  <svg xmlns=\"http://www.w3.org/2000/svg\" height=\"24px\"viewBox=\"0 0 24 24\"\n",
              "       width=\"24px\">\n",
              "    <path d=\"M0 0h24v24H0V0z\" fill=\"none\"/>\n",
              "    <path d=\"M18.56 5.44l.94 2.06.94-2.06 2.06-.94-2.06-.94-.94-2.06-.94 2.06-2.06.94zm-11 1L8.5 8.5l.94-2.06 2.06-.94-2.06-.94L8.5 2.5l-.94 2.06-2.06.94zm10 10l.94 2.06.94-2.06 2.06-.94-2.06-.94-.94-2.06-.94 2.06-2.06.94z\"/><path d=\"M17.41 7.96l-1.37-1.37c-.4-.4-.92-.59-1.43-.59-.52 0-1.04.2-1.43.59L10.3 9.45l-7.72 7.72c-.78.78-.78 2.05 0 2.83L4 21.41c.39.39.9.59 1.41.59.51 0 1.02-.2 1.41-.59l7.78-7.78 2.81-2.81c.8-.78.8-2.07 0-2.86zM5.41 20L4 18.59l7.72-7.72 1.47 1.35L5.41 20z\"/>\n",
              "  </svg>\n",
              "      </button>\n",
              "      \n",
              "  <style>\n",
              "    .colab-df-container {\n",
              "      display:flex;\n",
              "      flex-wrap:wrap;\n",
              "      gap: 12px;\n",
              "    }\n",
              "\n",
              "    .colab-df-convert {\n",
              "      background-color: #E8F0FE;\n",
              "      border: none;\n",
              "      border-radius: 50%;\n",
              "      cursor: pointer;\n",
              "      display: none;\n",
              "      fill: #1967D2;\n",
              "      height: 32px;\n",
              "      padding: 0 0 0 0;\n",
              "      width: 32px;\n",
              "    }\n",
              "\n",
              "    .colab-df-convert:hover {\n",
              "      background-color: #E2EBFA;\n",
              "      box-shadow: 0px 1px 2px rgba(60, 64, 67, 0.3), 0px 1px 3px 1px rgba(60, 64, 67, 0.15);\n",
              "      fill: #174EA6;\n",
              "    }\n",
              "\n",
              "    [theme=dark] .colab-df-convert {\n",
              "      background-color: #3B4455;\n",
              "      fill: #D2E3FC;\n",
              "    }\n",
              "\n",
              "    [theme=dark] .colab-df-convert:hover {\n",
              "      background-color: #434B5C;\n",
              "      box-shadow: 0px 1px 3px 1px rgba(0, 0, 0, 0.15);\n",
              "      filter: drop-shadow(0px 1px 2px rgba(0, 0, 0, 0.3));\n",
              "      fill: #FFFFFF;\n",
              "    }\n",
              "  </style>\n",
              "\n",
              "      <script>\n",
              "        const buttonEl =\n",
              "          document.querySelector('#df-4a0b084c-f388-4f3e-8860-3d388c81b5a5 button.colab-df-convert');\n",
              "        buttonEl.style.display =\n",
              "          google.colab.kernel.accessAllowed ? 'block' : 'none';\n",
              "\n",
              "        async function convertToInteractive(key) {\n",
              "          const element = document.querySelector('#df-4a0b084c-f388-4f3e-8860-3d388c81b5a5');\n",
              "          const dataTable =\n",
              "            await google.colab.kernel.invokeFunction('convertToInteractive',\n",
              "                                                     [key], {});\n",
              "          if (!dataTable) return;\n",
              "\n",
              "          const docLinkHtml = 'Like what you see? Visit the ' +\n",
              "            '<a target=\"_blank\" href=https://colab.research.google.com/notebooks/data_table.ipynb>data table notebook</a>'\n",
              "            + ' to learn more about interactive tables.';\n",
              "          element.innerHTML = '';\n",
              "          dataTable['output_type'] = 'display_data';\n",
              "          await google.colab.output.renderOutput(dataTable, element);\n",
              "          const docLink = document.createElement('div');\n",
              "          docLink.innerHTML = docLinkHtml;\n",
              "          element.appendChild(docLink);\n",
              "        }\n",
              "      </script>\n",
              "    </div>\n",
              "  </div>\n",
              "  "
            ]
          },
          "metadata": {},
          "execution_count": 4
        }
      ]
    },
    {
      "cell_type": "code",
      "source": [
        "#Rerieves the last 7 rows\n",
        "df.tail(7)"
      ],
      "metadata": {
        "id": "Y96iBZj_OxjC",
        "colab": {
          "base_uri": "https://localhost:8080/",
          "height": 382
        },
        "outputId": "d67745aa-4efd-48df-8f0b-fab879dbd649"
      },
      "execution_count": 5,
      "outputs": [
        {
          "output_type": "execute_result",
          "data": {
            "text/plain": [
              "      status gene-symbol                                          gene-name  \\\n",
              "1016       9       YWHAG  tyrosine 3-monooxygenase/tryptophan 5-monooxyg...   \n",
              "1017       9       ZMIZ1                  zinc finger MIZ-type containing 1   \n",
              "1018       9       ZMYM2                  zinc finger MYM-type containing 2   \n",
              "1019       9      ZMYND8                 zinc finger MYND-type containing 8   \n",
              "1020       9      ZNF827                            Zinc finger protein 827   \n",
              "1021       9      ZSWIM6                 zinc finger SWIM-type containing 6   \n",
              "1022       9      ZWILCH                          zwilchkinetochore protein   \n",
              "\n",
              "           ensembl-id chromosome                      genetic-category  \\\n",
              "1016  ENSG00000170027          7  Rare Single Gene Mutation, Syndromic   \n",
              "1017  ENSG00000108175         10  Rare Single Gene Mutation, Syndromic   \n",
              "1018  ENSG00000121741         13  Rare Single Gene Mutation, Syndromic   \n",
              "1019  ENSG00000101040         20             Rare Single Gene Mutation   \n",
              "1020  ENSG00000151612          4                   Genetic Association   \n",
              "1021  ENSG00000130449          5        Syndromic, Genetic Association   \n",
              "1022  ENSG00000174442         15             Rare Single Gene Mutation   \n",
              "\n",
              "      gene-score  syndromic  number-of-reports  \n",
              "1016         3.0          1                  7  \n",
              "1017         2.0          1                  4  \n",
              "1018         2.0          1                  6  \n",
              "1019         1.0          0                  4  \n",
              "1020         3.0          0                  1  \n",
              "1021         NaN          1                  3  \n",
              "1022         3.0          0                  4  "
            ],
            "text/html": [
              "\n",
              "  <div id=\"df-bf2530a7-b8e3-4521-8cce-a6ca9476b801\">\n",
              "    <div class=\"colab-df-container\">\n",
              "      <div>\n",
              "<style scoped>\n",
              "    .dataframe tbody tr th:only-of-type {\n",
              "        vertical-align: middle;\n",
              "    }\n",
              "\n",
              "    .dataframe tbody tr th {\n",
              "        vertical-align: top;\n",
              "    }\n",
              "\n",
              "    .dataframe thead th {\n",
              "        text-align: right;\n",
              "    }\n",
              "</style>\n",
              "<table border=\"1\" class=\"dataframe\">\n",
              "  <thead>\n",
              "    <tr style=\"text-align: right;\">\n",
              "      <th></th>\n",
              "      <th>status</th>\n",
              "      <th>gene-symbol</th>\n",
              "      <th>gene-name</th>\n",
              "      <th>ensembl-id</th>\n",
              "      <th>chromosome</th>\n",
              "      <th>genetic-category</th>\n",
              "      <th>gene-score</th>\n",
              "      <th>syndromic</th>\n",
              "      <th>number-of-reports</th>\n",
              "    </tr>\n",
              "  </thead>\n",
              "  <tbody>\n",
              "    <tr>\n",
              "      <th>1016</th>\n",
              "      <td>9</td>\n",
              "      <td>YWHAG</td>\n",
              "      <td>tyrosine 3-monooxygenase/tryptophan 5-monooxyg...</td>\n",
              "      <td>ENSG00000170027</td>\n",
              "      <td>7</td>\n",
              "      <td>Rare Single Gene Mutation, Syndromic</td>\n",
              "      <td>3.0</td>\n",
              "      <td>1</td>\n",
              "      <td>7</td>\n",
              "    </tr>\n",
              "    <tr>\n",
              "      <th>1017</th>\n",
              "      <td>9</td>\n",
              "      <td>ZMIZ1</td>\n",
              "      <td>zinc finger MIZ-type containing 1</td>\n",
              "      <td>ENSG00000108175</td>\n",
              "      <td>10</td>\n",
              "      <td>Rare Single Gene Mutation, Syndromic</td>\n",
              "      <td>2.0</td>\n",
              "      <td>1</td>\n",
              "      <td>4</td>\n",
              "    </tr>\n",
              "    <tr>\n",
              "      <th>1018</th>\n",
              "      <td>9</td>\n",
              "      <td>ZMYM2</td>\n",
              "      <td>zinc finger MYM-type containing 2</td>\n",
              "      <td>ENSG00000121741</td>\n",
              "      <td>13</td>\n",
              "      <td>Rare Single Gene Mutation, Syndromic</td>\n",
              "      <td>2.0</td>\n",
              "      <td>1</td>\n",
              "      <td>6</td>\n",
              "    </tr>\n",
              "    <tr>\n",
              "      <th>1019</th>\n",
              "      <td>9</td>\n",
              "      <td>ZMYND8</td>\n",
              "      <td>zinc finger MYND-type containing 8</td>\n",
              "      <td>ENSG00000101040</td>\n",
              "      <td>20</td>\n",
              "      <td>Rare Single Gene Mutation</td>\n",
              "      <td>1.0</td>\n",
              "      <td>0</td>\n",
              "      <td>4</td>\n",
              "    </tr>\n",
              "    <tr>\n",
              "      <th>1020</th>\n",
              "      <td>9</td>\n",
              "      <td>ZNF827</td>\n",
              "      <td>Zinc finger protein 827</td>\n",
              "      <td>ENSG00000151612</td>\n",
              "      <td>4</td>\n",
              "      <td>Genetic Association</td>\n",
              "      <td>3.0</td>\n",
              "      <td>0</td>\n",
              "      <td>1</td>\n",
              "    </tr>\n",
              "    <tr>\n",
              "      <th>1021</th>\n",
              "      <td>9</td>\n",
              "      <td>ZSWIM6</td>\n",
              "      <td>zinc finger SWIM-type containing 6</td>\n",
              "      <td>ENSG00000130449</td>\n",
              "      <td>5</td>\n",
              "      <td>Syndromic, Genetic Association</td>\n",
              "      <td>NaN</td>\n",
              "      <td>1</td>\n",
              "      <td>3</td>\n",
              "    </tr>\n",
              "    <tr>\n",
              "      <th>1022</th>\n",
              "      <td>9</td>\n",
              "      <td>ZWILCH</td>\n",
              "      <td>zwilchkinetochore protein</td>\n",
              "      <td>ENSG00000174442</td>\n",
              "      <td>15</td>\n",
              "      <td>Rare Single Gene Mutation</td>\n",
              "      <td>3.0</td>\n",
              "      <td>0</td>\n",
              "      <td>4</td>\n",
              "    </tr>\n",
              "  </tbody>\n",
              "</table>\n",
              "</div>\n",
              "      <button class=\"colab-df-convert\" onclick=\"convertToInteractive('df-bf2530a7-b8e3-4521-8cce-a6ca9476b801')\"\n",
              "              title=\"Convert this dataframe to an interactive table.\"\n",
              "              style=\"display:none;\">\n",
              "        \n",
              "  <svg xmlns=\"http://www.w3.org/2000/svg\" height=\"24px\"viewBox=\"0 0 24 24\"\n",
              "       width=\"24px\">\n",
              "    <path d=\"M0 0h24v24H0V0z\" fill=\"none\"/>\n",
              "    <path d=\"M18.56 5.44l.94 2.06.94-2.06 2.06-.94-2.06-.94-.94-2.06-.94 2.06-2.06.94zm-11 1L8.5 8.5l.94-2.06 2.06-.94-2.06-.94L8.5 2.5l-.94 2.06-2.06.94zm10 10l.94 2.06.94-2.06 2.06-.94-2.06-.94-.94-2.06-.94 2.06-2.06.94z\"/><path d=\"M17.41 7.96l-1.37-1.37c-.4-.4-.92-.59-1.43-.59-.52 0-1.04.2-1.43.59L10.3 9.45l-7.72 7.72c-.78.78-.78 2.05 0 2.83L4 21.41c.39.39.9.59 1.41.59.51 0 1.02-.2 1.41-.59l7.78-7.78 2.81-2.81c.8-.78.8-2.07 0-2.86zM5.41 20L4 18.59l7.72-7.72 1.47 1.35L5.41 20z\"/>\n",
              "  </svg>\n",
              "      </button>\n",
              "      \n",
              "  <style>\n",
              "    .colab-df-container {\n",
              "      display:flex;\n",
              "      flex-wrap:wrap;\n",
              "      gap: 12px;\n",
              "    }\n",
              "\n",
              "    .colab-df-convert {\n",
              "      background-color: #E8F0FE;\n",
              "      border: none;\n",
              "      border-radius: 50%;\n",
              "      cursor: pointer;\n",
              "      display: none;\n",
              "      fill: #1967D2;\n",
              "      height: 32px;\n",
              "      padding: 0 0 0 0;\n",
              "      width: 32px;\n",
              "    }\n",
              "\n",
              "    .colab-df-convert:hover {\n",
              "      background-color: #E2EBFA;\n",
              "      box-shadow: 0px 1px 2px rgba(60, 64, 67, 0.3), 0px 1px 3px 1px rgba(60, 64, 67, 0.15);\n",
              "      fill: #174EA6;\n",
              "    }\n",
              "\n",
              "    [theme=dark] .colab-df-convert {\n",
              "      background-color: #3B4455;\n",
              "      fill: #D2E3FC;\n",
              "    }\n",
              "\n",
              "    [theme=dark] .colab-df-convert:hover {\n",
              "      background-color: #434B5C;\n",
              "      box-shadow: 0px 1px 3px 1px rgba(0, 0, 0, 0.15);\n",
              "      filter: drop-shadow(0px 1px 2px rgba(0, 0, 0, 0.3));\n",
              "      fill: #FFFFFF;\n",
              "    }\n",
              "  </style>\n",
              "\n",
              "      <script>\n",
              "        const buttonEl =\n",
              "          document.querySelector('#df-bf2530a7-b8e3-4521-8cce-a6ca9476b801 button.colab-df-convert');\n",
              "        buttonEl.style.display =\n",
              "          google.colab.kernel.accessAllowed ? 'block' : 'none';\n",
              "\n",
              "        async function convertToInteractive(key) {\n",
              "          const element = document.querySelector('#df-bf2530a7-b8e3-4521-8cce-a6ca9476b801');\n",
              "          const dataTable =\n",
              "            await google.colab.kernel.invokeFunction('convertToInteractive',\n",
              "                                                     [key], {});\n",
              "          if (!dataTable) return;\n",
              "\n",
              "          const docLinkHtml = 'Like what you see? Visit the ' +\n",
              "            '<a target=\"_blank\" href=https://colab.research.google.com/notebooks/data_table.ipynb>data table notebook</a>'\n",
              "            + ' to learn more about interactive tables.';\n",
              "          element.innerHTML = '';\n",
              "          dataTable['output_type'] = 'display_data';\n",
              "          await google.colab.output.renderOutput(dataTable, element);\n",
              "          const docLink = document.createElement('div');\n",
              "          docLink.innerHTML = docLinkHtml;\n",
              "          element.appendChild(docLink);\n",
              "        }\n",
              "      </script>\n",
              "    </div>\n",
              "  </div>\n",
              "  "
            ]
          },
          "metadata": {},
          "execution_count": 5
        }
      ]
    },
    {
      "cell_type": "code",
      "source": [
        "#Size of the dataset\n",
        "print(\"Size of Dataset: {} rows , {} columns\".format(df.shape[0],df.shape[1]))"
      ],
      "metadata": {
        "colab": {
          "base_uri": "https://localhost:8080/"
        },
        "id": "eeXY2-Bq1rqp",
        "outputId": "1320a4b3-59fa-442c-8b09-7956ccb5780a"
      },
      "execution_count": 6,
      "outputs": [
        {
          "output_type": "stream",
          "name": "stdout",
          "text": [
            "Size of Dataset: 1023 rows , 9 columns\n"
          ]
        }
      ]
    },
    {
      "cell_type": "code",
      "source": [
        "#Summary measures\n",
        "df.describe().T.style.background_gradient(cmap='Oranges')"
      ],
      "metadata": {
        "colab": {
          "base_uri": "https://localhost:8080/",
          "height": 174
        },
        "id": "1oqsihGt1uih",
        "outputId": "6910b836-9435-448d-d50a-0f1ef4c48045"
      },
      "execution_count": 7,
      "outputs": [
        {
          "output_type": "execute_result",
          "data": {
            "text/plain": [
              "<pandas.io.formats.style.Styler at 0x7f5e24d68f40>"
            ],
            "text/html": [
              "<style type=\"text/css\">\n",
              "#T_f3944_row0_col0, #T_f3944_row0_col1, #T_f3944_row0_col3, #T_f3944_row0_col4, #T_f3944_row0_col5, #T_f3944_row0_col6, #T_f3944_row2_col0, #T_f3944_row3_col0, #T_f3944_row3_col2, #T_f3944_row3_col6, #T_f3944_row3_col7 {\n",
              "  background-color: #7f2704;\n",
              "  color: #f1f1f1;\n",
              "}\n",
              "#T_f3944_row0_col2, #T_f3944_row1_col0, #T_f3944_row2_col1, #T_f3944_row2_col3, #T_f3944_row2_col4, #T_f3944_row2_col5, #T_f3944_row2_col6, #T_f3944_row2_col7 {\n",
              "  background-color: #fff5eb;\n",
              "  color: #000000;\n",
              "}\n",
              "#T_f3944_row0_col7 {\n",
              "  background-color: #feebd7;\n",
              "  color: #000000;\n",
              "}\n",
              "#T_f3944_row1_col1 {\n",
              "  background-color: #fdd2a6;\n",
              "  color: #000000;\n",
              "}\n",
              "#T_f3944_row1_col2 {\n",
              "  background-color: #feecda;\n",
              "  color: #000000;\n",
              "}\n",
              "#T_f3944_row1_col3, #T_f3944_row3_col3 {\n",
              "  background-color: #fee8d2;\n",
              "  color: #000000;\n",
              "}\n",
              "#T_f3944_row1_col4 {\n",
              "  background-color: #fdd5ad;\n",
              "  color: #000000;\n",
              "}\n",
              "#T_f3944_row1_col5, #T_f3944_row1_col6, #T_f3944_row3_col4 {\n",
              "  background-color: #fdb97d;\n",
              "  color: #000000;\n",
              "}\n",
              "#T_f3944_row1_col7 {\n",
              "  background-color: #fff3e6;\n",
              "  color: #000000;\n",
              "}\n",
              "#T_f3944_row2_col2 {\n",
              "  background-color: #fff1e3;\n",
              "  color: #000000;\n",
              "}\n",
              "#T_f3944_row3_col1 {\n",
              "  background-color: #8c2c04;\n",
              "  color: #f1f1f1;\n",
              "}\n",
              "#T_f3944_row3_col5 {\n",
              "  background-color: #f87d29;\n",
              "  color: #f1f1f1;\n",
              "}\n",
              "</style>\n",
              "<table id=\"T_f3944\" class=\"dataframe\">\n",
              "  <thead>\n",
              "    <tr>\n",
              "      <th class=\"blank level0\" >&nbsp;</th>\n",
              "      <th id=\"T_f3944_level0_col0\" class=\"col_heading level0 col0\" >count</th>\n",
              "      <th id=\"T_f3944_level0_col1\" class=\"col_heading level0 col1\" >mean</th>\n",
              "      <th id=\"T_f3944_level0_col2\" class=\"col_heading level0 col2\" >std</th>\n",
              "      <th id=\"T_f3944_level0_col3\" class=\"col_heading level0 col3\" >min</th>\n",
              "      <th id=\"T_f3944_level0_col4\" class=\"col_heading level0 col4\" >25%</th>\n",
              "      <th id=\"T_f3944_level0_col5\" class=\"col_heading level0 col5\" >50%</th>\n",
              "      <th id=\"T_f3944_level0_col6\" class=\"col_heading level0 col6\" >75%</th>\n",
              "      <th id=\"T_f3944_level0_col7\" class=\"col_heading level0 col7\" >max</th>\n",
              "    </tr>\n",
              "  </thead>\n",
              "  <tbody>\n",
              "    <tr>\n",
              "      <th id=\"T_f3944_level0_row0\" class=\"row_heading level0 row0\" >status</th>\n",
              "      <td id=\"T_f3944_row0_col0\" class=\"data row0 col0\" >1023.000000</td>\n",
              "      <td id=\"T_f3944_row0_col1\" class=\"data row0 col1\" >9.000000</td>\n",
              "      <td id=\"T_f3944_row0_col2\" class=\"data row0 col2\" >0.000000</td>\n",
              "      <td id=\"T_f3944_row0_col3\" class=\"data row0 col3\" >9.000000</td>\n",
              "      <td id=\"T_f3944_row0_col4\" class=\"data row0 col4\" >9.000000</td>\n",
              "      <td id=\"T_f3944_row0_col5\" class=\"data row0 col5\" >9.000000</td>\n",
              "      <td id=\"T_f3944_row0_col6\" class=\"data row0 col6\" >9.000000</td>\n",
              "      <td id=\"T_f3944_row0_col7\" class=\"data row0 col7\" >9.000000</td>\n",
              "    </tr>\n",
              "    <tr>\n",
              "      <th id=\"T_f3944_level0_row1\" class=\"row_heading level0 row1\" >gene-score</th>\n",
              "      <td id=\"T_f3944_row1_col0\" class=\"data row1 col0\" >942.000000</td>\n",
              "      <td id=\"T_f3944_row1_col1\" class=\"data row1 col1\" >2.326964</td>\n",
              "      <td id=\"T_f3944_row1_col2\" class=\"data row1 col2\" >0.812558</td>\n",
              "      <td id=\"T_f3944_row1_col3\" class=\"data row1 col3\" >1.000000</td>\n",
              "      <td id=\"T_f3944_row1_col4\" class=\"data row1 col4\" >2.000000</td>\n",
              "      <td id=\"T_f3944_row1_col5\" class=\"data row1 col5\" >3.000000</td>\n",
              "      <td id=\"T_f3944_row1_col6\" class=\"data row1 col6\" >3.000000</td>\n",
              "      <td id=\"T_f3944_row1_col7\" class=\"data row1 col7\" >3.000000</td>\n",
              "    </tr>\n",
              "    <tr>\n",
              "      <th id=\"T_f3944_level0_row2\" class=\"row_heading level0 row2\" >syndromic</th>\n",
              "      <td id=\"T_f3944_row2_col0\" class=\"data row2 col0\" >1023.000000</td>\n",
              "      <td id=\"T_f3944_row2_col1\" class=\"data row2 col1\" >0.224829</td>\n",
              "      <td id=\"T_f3944_row2_col2\" class=\"data row2 col2\" >0.417674</td>\n",
              "      <td id=\"T_f3944_row2_col3\" class=\"data row2 col3\" >0.000000</td>\n",
              "      <td id=\"T_f3944_row2_col4\" class=\"data row2 col4\" >0.000000</td>\n",
              "      <td id=\"T_f3944_row2_col5\" class=\"data row2 col5\" >0.000000</td>\n",
              "      <td id=\"T_f3944_row2_col6\" class=\"data row2 col6\" >0.000000</td>\n",
              "      <td id=\"T_f3944_row2_col7\" class=\"data row2 col7\" >1.000000</td>\n",
              "    </tr>\n",
              "    <tr>\n",
              "      <th id=\"T_f3944_level0_row3\" class=\"row_heading level0 row3\" >number-of-reports</th>\n",
              "      <td id=\"T_f3944_row3_col0\" class=\"data row3 col0\" >1023.000000</td>\n",
              "      <td id=\"T_f3944_row3_col1\" class=\"data row3 col1\" >8.608993</td>\n",
              "      <td id=\"T_f3944_row3_col2\" class=\"data row3 col2\" >10.931901</td>\n",
              "      <td id=\"T_f3944_row3_col3\" class=\"data row3 col3\" >1.000000</td>\n",
              "      <td id=\"T_f3944_row3_col4\" class=\"data row3 col4\" >3.000000</td>\n",
              "      <td id=\"T_f3944_row3_col5\" class=\"data row3 col5\" >5.000000</td>\n",
              "      <td id=\"T_f3944_row3_col6\" class=\"data row3 col6\" >9.000000</td>\n",
              "      <td id=\"T_f3944_row3_col7\" class=\"data row3 col7\" >94.000000</td>\n",
              "    </tr>\n",
              "  </tbody>\n",
              "</table>\n"
            ]
          },
          "metadata": {},
          "execution_count": 7
        }
      ]
    },
    {
      "cell_type": "code",
      "source": [
        "df.info()"
      ],
      "metadata": {
        "id": "FZUTg-xv1zBf",
        "colab": {
          "base_uri": "https://localhost:8080/"
        },
        "outputId": "17d6a02d-afff-44d8-b475-33e42eda8792"
      },
      "execution_count": 8,
      "outputs": [
        {
          "output_type": "stream",
          "name": "stdout",
          "text": [
            "<class 'pandas.core.frame.DataFrame'>\n",
            "RangeIndex: 1023 entries, 0 to 1022\n",
            "Data columns (total 9 columns):\n",
            " #   Column             Non-Null Count  Dtype  \n",
            "---  ------             --------------  -----  \n",
            " 0   status             1023 non-null   int64  \n",
            " 1   gene-symbol        1023 non-null   object \n",
            " 2   gene-name          1022 non-null   object \n",
            " 3   ensembl-id         1010 non-null   object \n",
            " 4   chromosome         1023 non-null   object \n",
            " 5   genetic-category   1021 non-null   object \n",
            " 6   gene-score         942 non-null    float64\n",
            " 7   syndromic          1023 non-null   int64  \n",
            " 8   number-of-reports  1023 non-null   int64  \n",
            "dtypes: float64(1), int64(3), object(5)\n",
            "memory usage: 72.1+ KB\n"
          ]
        }
      ]
    },
    {
      "cell_type": "code",
      "source": [
        "#Removing the variables 'gene-symbol' and 'ensembl-id'\n",
        "data=df.drop(columns=['gene-symbol','ensembl-id'])\n",
        "data"
      ],
      "metadata": {
        "colab": {
          "base_uri": "https://localhost:8080/",
          "height": 423
        },
        "id": "BhC6NZif4DDL",
        "outputId": "00e0c6d9-e343-43c4-d586-17ffe994cd31"
      },
      "execution_count": 9,
      "outputs": [
        {
          "output_type": "execute_result",
          "data": {
            "text/plain": [
              "      status                                          gene-name chromosome  \\\n",
              "0          9                   4-aminobutyrate aminotransferase         16   \n",
              "1          9  ATP-binding cassette, sub-family A (ABC1), mem...         17   \n",
              "2          9         ATP binding cassette subfamily A member 13          7   \n",
              "3          9  ATP-binding cassette, sub-family A (ABC1), mem...         19   \n",
              "4          9                    angiotensin I converting enzyme         17   \n",
              "...      ...                                                ...        ...   \n",
              "1018       9                  zinc finger MYM-type containing 2         13   \n",
              "1019       9                 zinc finger MYND-type containing 8         20   \n",
              "1020       9                            Zinc finger protein 827          4   \n",
              "1021       9                 zinc finger SWIM-type containing 6          5   \n",
              "1022       9                          zwilchkinetochore protein         15   \n",
              "\n",
              "                                    genetic-category  gene-score  syndromic  \\\n",
              "0     Rare Single Gene Mutation, Genetic Association         3.0          0   \n",
              "1                          Rare Single Gene Mutation         3.0          0   \n",
              "2              Rare Single Gene Mutation, Functional         3.0          0   \n",
              "3                          Rare Single Gene Mutation         3.0          0   \n",
              "4     Rare Single Gene Mutation, Genetic Association         3.0          0   \n",
              "...                                              ...         ...        ...   \n",
              "1018            Rare Single Gene Mutation, Syndromic         2.0          1   \n",
              "1019                       Rare Single Gene Mutation         1.0          0   \n",
              "1020                             Genetic Association         3.0          0   \n",
              "1021                  Syndromic, Genetic Association         NaN          1   \n",
              "1022                       Rare Single Gene Mutation         3.0          0   \n",
              "\n",
              "      number-of-reports  \n",
              "0                     5  \n",
              "1                     1  \n",
              "2                     6  \n",
              "3                     4  \n",
              "4                     3  \n",
              "...                 ...  \n",
              "1018                  6  \n",
              "1019                  4  \n",
              "1020                  1  \n",
              "1021                  3  \n",
              "1022                  4  \n",
              "\n",
              "[1023 rows x 7 columns]"
            ],
            "text/html": [
              "\n",
              "  <div id=\"df-ef751d98-5650-4eb4-b769-e1b16b279931\">\n",
              "    <div class=\"colab-df-container\">\n",
              "      <div>\n",
              "<style scoped>\n",
              "    .dataframe tbody tr th:only-of-type {\n",
              "        vertical-align: middle;\n",
              "    }\n",
              "\n",
              "    .dataframe tbody tr th {\n",
              "        vertical-align: top;\n",
              "    }\n",
              "\n",
              "    .dataframe thead th {\n",
              "        text-align: right;\n",
              "    }\n",
              "</style>\n",
              "<table border=\"1\" class=\"dataframe\">\n",
              "  <thead>\n",
              "    <tr style=\"text-align: right;\">\n",
              "      <th></th>\n",
              "      <th>status</th>\n",
              "      <th>gene-name</th>\n",
              "      <th>chromosome</th>\n",
              "      <th>genetic-category</th>\n",
              "      <th>gene-score</th>\n",
              "      <th>syndromic</th>\n",
              "      <th>number-of-reports</th>\n",
              "    </tr>\n",
              "  </thead>\n",
              "  <tbody>\n",
              "    <tr>\n",
              "      <th>0</th>\n",
              "      <td>9</td>\n",
              "      <td>4-aminobutyrate aminotransferase</td>\n",
              "      <td>16</td>\n",
              "      <td>Rare Single Gene Mutation, Genetic Association</td>\n",
              "      <td>3.0</td>\n",
              "      <td>0</td>\n",
              "      <td>5</td>\n",
              "    </tr>\n",
              "    <tr>\n",
              "      <th>1</th>\n",
              "      <td>9</td>\n",
              "      <td>ATP-binding cassette, sub-family A (ABC1), mem...</td>\n",
              "      <td>17</td>\n",
              "      <td>Rare Single Gene Mutation</td>\n",
              "      <td>3.0</td>\n",
              "      <td>0</td>\n",
              "      <td>1</td>\n",
              "    </tr>\n",
              "    <tr>\n",
              "      <th>2</th>\n",
              "      <td>9</td>\n",
              "      <td>ATP binding cassette subfamily A member 13</td>\n",
              "      <td>7</td>\n",
              "      <td>Rare Single Gene Mutation, Functional</td>\n",
              "      <td>3.0</td>\n",
              "      <td>0</td>\n",
              "      <td>6</td>\n",
              "    </tr>\n",
              "    <tr>\n",
              "      <th>3</th>\n",
              "      <td>9</td>\n",
              "      <td>ATP-binding cassette, sub-family A (ABC1), mem...</td>\n",
              "      <td>19</td>\n",
              "      <td>Rare Single Gene Mutation</td>\n",
              "      <td>3.0</td>\n",
              "      <td>0</td>\n",
              "      <td>4</td>\n",
              "    </tr>\n",
              "    <tr>\n",
              "      <th>4</th>\n",
              "      <td>9</td>\n",
              "      <td>angiotensin I converting enzyme</td>\n",
              "      <td>17</td>\n",
              "      <td>Rare Single Gene Mutation, Genetic Association</td>\n",
              "      <td>3.0</td>\n",
              "      <td>0</td>\n",
              "      <td>3</td>\n",
              "    </tr>\n",
              "    <tr>\n",
              "      <th>...</th>\n",
              "      <td>...</td>\n",
              "      <td>...</td>\n",
              "      <td>...</td>\n",
              "      <td>...</td>\n",
              "      <td>...</td>\n",
              "      <td>...</td>\n",
              "      <td>...</td>\n",
              "    </tr>\n",
              "    <tr>\n",
              "      <th>1018</th>\n",
              "      <td>9</td>\n",
              "      <td>zinc finger MYM-type containing 2</td>\n",
              "      <td>13</td>\n",
              "      <td>Rare Single Gene Mutation, Syndromic</td>\n",
              "      <td>2.0</td>\n",
              "      <td>1</td>\n",
              "      <td>6</td>\n",
              "    </tr>\n",
              "    <tr>\n",
              "      <th>1019</th>\n",
              "      <td>9</td>\n",
              "      <td>zinc finger MYND-type containing 8</td>\n",
              "      <td>20</td>\n",
              "      <td>Rare Single Gene Mutation</td>\n",
              "      <td>1.0</td>\n",
              "      <td>0</td>\n",
              "      <td>4</td>\n",
              "    </tr>\n",
              "    <tr>\n",
              "      <th>1020</th>\n",
              "      <td>9</td>\n",
              "      <td>Zinc finger protein 827</td>\n",
              "      <td>4</td>\n",
              "      <td>Genetic Association</td>\n",
              "      <td>3.0</td>\n",
              "      <td>0</td>\n",
              "      <td>1</td>\n",
              "    </tr>\n",
              "    <tr>\n",
              "      <th>1021</th>\n",
              "      <td>9</td>\n",
              "      <td>zinc finger SWIM-type containing 6</td>\n",
              "      <td>5</td>\n",
              "      <td>Syndromic, Genetic Association</td>\n",
              "      <td>NaN</td>\n",
              "      <td>1</td>\n",
              "      <td>3</td>\n",
              "    </tr>\n",
              "    <tr>\n",
              "      <th>1022</th>\n",
              "      <td>9</td>\n",
              "      <td>zwilchkinetochore protein</td>\n",
              "      <td>15</td>\n",
              "      <td>Rare Single Gene Mutation</td>\n",
              "      <td>3.0</td>\n",
              "      <td>0</td>\n",
              "      <td>4</td>\n",
              "    </tr>\n",
              "  </tbody>\n",
              "</table>\n",
              "<p>1023 rows × 7 columns</p>\n",
              "</div>\n",
              "      <button class=\"colab-df-convert\" onclick=\"convertToInteractive('df-ef751d98-5650-4eb4-b769-e1b16b279931')\"\n",
              "              title=\"Convert this dataframe to an interactive table.\"\n",
              "              style=\"display:none;\">\n",
              "        \n",
              "  <svg xmlns=\"http://www.w3.org/2000/svg\" height=\"24px\"viewBox=\"0 0 24 24\"\n",
              "       width=\"24px\">\n",
              "    <path d=\"M0 0h24v24H0V0z\" fill=\"none\"/>\n",
              "    <path d=\"M18.56 5.44l.94 2.06.94-2.06 2.06-.94-2.06-.94-.94-2.06-.94 2.06-2.06.94zm-11 1L8.5 8.5l.94-2.06 2.06-.94-2.06-.94L8.5 2.5l-.94 2.06-2.06.94zm10 10l.94 2.06.94-2.06 2.06-.94-2.06-.94-.94-2.06-.94 2.06-2.06.94z\"/><path d=\"M17.41 7.96l-1.37-1.37c-.4-.4-.92-.59-1.43-.59-.52 0-1.04.2-1.43.59L10.3 9.45l-7.72 7.72c-.78.78-.78 2.05 0 2.83L4 21.41c.39.39.9.59 1.41.59.51 0 1.02-.2 1.41-.59l7.78-7.78 2.81-2.81c.8-.78.8-2.07 0-2.86zM5.41 20L4 18.59l7.72-7.72 1.47 1.35L5.41 20z\"/>\n",
              "  </svg>\n",
              "      </button>\n",
              "      \n",
              "  <style>\n",
              "    .colab-df-container {\n",
              "      display:flex;\n",
              "      flex-wrap:wrap;\n",
              "      gap: 12px;\n",
              "    }\n",
              "\n",
              "    .colab-df-convert {\n",
              "      background-color: #E8F0FE;\n",
              "      border: none;\n",
              "      border-radius: 50%;\n",
              "      cursor: pointer;\n",
              "      display: none;\n",
              "      fill: #1967D2;\n",
              "      height: 32px;\n",
              "      padding: 0 0 0 0;\n",
              "      width: 32px;\n",
              "    }\n",
              "\n",
              "    .colab-df-convert:hover {\n",
              "      background-color: #E2EBFA;\n",
              "      box-shadow: 0px 1px 2px rgba(60, 64, 67, 0.3), 0px 1px 3px 1px rgba(60, 64, 67, 0.15);\n",
              "      fill: #174EA6;\n",
              "    }\n",
              "\n",
              "    [theme=dark] .colab-df-convert {\n",
              "      background-color: #3B4455;\n",
              "      fill: #D2E3FC;\n",
              "    }\n",
              "\n",
              "    [theme=dark] .colab-df-convert:hover {\n",
              "      background-color: #434B5C;\n",
              "      box-shadow: 0px 1px 3px 1px rgba(0, 0, 0, 0.15);\n",
              "      filter: drop-shadow(0px 1px 2px rgba(0, 0, 0, 0.3));\n",
              "      fill: #FFFFFF;\n",
              "    }\n",
              "  </style>\n",
              "\n",
              "      <script>\n",
              "        const buttonEl =\n",
              "          document.querySelector('#df-ef751d98-5650-4eb4-b769-e1b16b279931 button.colab-df-convert');\n",
              "        buttonEl.style.display =\n",
              "          google.colab.kernel.accessAllowed ? 'block' : 'none';\n",
              "\n",
              "        async function convertToInteractive(key) {\n",
              "          const element = document.querySelector('#df-ef751d98-5650-4eb4-b769-e1b16b279931');\n",
              "          const dataTable =\n",
              "            await google.colab.kernel.invokeFunction('convertToInteractive',\n",
              "                                                     [key], {});\n",
              "          if (!dataTable) return;\n",
              "\n",
              "          const docLinkHtml = 'Like what you see? Visit the ' +\n",
              "            '<a target=\"_blank\" href=https://colab.research.google.com/notebooks/data_table.ipynb>data table notebook</a>'\n",
              "            + ' to learn more about interactive tables.';\n",
              "          element.innerHTML = '';\n",
              "          dataTable['output_type'] = 'display_data';\n",
              "          await google.colab.output.renderOutput(dataTable, element);\n",
              "          const docLink = document.createElement('div');\n",
              "          docLink.innerHTML = docLinkHtml;\n",
              "          element.appendChild(docLink);\n",
              "        }\n",
              "      </script>\n",
              "    </div>\n",
              "  </div>\n",
              "  "
            ]
          },
          "metadata": {},
          "execution_count": 9
        }
      ]
    },
    {
      "cell_type": "code",
      "source": [
        "#Placing the target variable to the last column\n",
        "data=data.assign(syndromic=data.pop('syndromic'))\n",
        "data"
      ],
      "metadata": {
        "colab": {
          "base_uri": "https://localhost:8080/",
          "height": 423
        },
        "id": "5DO9mHfO6zoP",
        "outputId": "9c5e1535-9287-4dd7-ec5c-f55494d91799"
      },
      "execution_count": 10,
      "outputs": [
        {
          "output_type": "execute_result",
          "data": {
            "text/plain": [
              "      status                                          gene-name chromosome  \\\n",
              "0          9                   4-aminobutyrate aminotransferase         16   \n",
              "1          9  ATP-binding cassette, sub-family A (ABC1), mem...         17   \n",
              "2          9         ATP binding cassette subfamily A member 13          7   \n",
              "3          9  ATP-binding cassette, sub-family A (ABC1), mem...         19   \n",
              "4          9                    angiotensin I converting enzyme         17   \n",
              "...      ...                                                ...        ...   \n",
              "1018       9                  zinc finger MYM-type containing 2         13   \n",
              "1019       9                 zinc finger MYND-type containing 8         20   \n",
              "1020       9                            Zinc finger protein 827          4   \n",
              "1021       9                 zinc finger SWIM-type containing 6          5   \n",
              "1022       9                          zwilchkinetochore protein         15   \n",
              "\n",
              "                                    genetic-category  gene-score  \\\n",
              "0     Rare Single Gene Mutation, Genetic Association         3.0   \n",
              "1                          Rare Single Gene Mutation         3.0   \n",
              "2              Rare Single Gene Mutation, Functional         3.0   \n",
              "3                          Rare Single Gene Mutation         3.0   \n",
              "4     Rare Single Gene Mutation, Genetic Association         3.0   \n",
              "...                                              ...         ...   \n",
              "1018            Rare Single Gene Mutation, Syndromic         2.0   \n",
              "1019                       Rare Single Gene Mutation         1.0   \n",
              "1020                             Genetic Association         3.0   \n",
              "1021                  Syndromic, Genetic Association         NaN   \n",
              "1022                       Rare Single Gene Mutation         3.0   \n",
              "\n",
              "      number-of-reports  syndromic  \n",
              "0                     5          0  \n",
              "1                     1          0  \n",
              "2                     6          0  \n",
              "3                     4          0  \n",
              "4                     3          0  \n",
              "...                 ...        ...  \n",
              "1018                  6          1  \n",
              "1019                  4          0  \n",
              "1020                  1          0  \n",
              "1021                  3          1  \n",
              "1022                  4          0  \n",
              "\n",
              "[1023 rows x 7 columns]"
            ],
            "text/html": [
              "\n",
              "  <div id=\"df-a0a61ede-272b-4d96-a74d-b31403d03ca9\">\n",
              "    <div class=\"colab-df-container\">\n",
              "      <div>\n",
              "<style scoped>\n",
              "    .dataframe tbody tr th:only-of-type {\n",
              "        vertical-align: middle;\n",
              "    }\n",
              "\n",
              "    .dataframe tbody tr th {\n",
              "        vertical-align: top;\n",
              "    }\n",
              "\n",
              "    .dataframe thead th {\n",
              "        text-align: right;\n",
              "    }\n",
              "</style>\n",
              "<table border=\"1\" class=\"dataframe\">\n",
              "  <thead>\n",
              "    <tr style=\"text-align: right;\">\n",
              "      <th></th>\n",
              "      <th>status</th>\n",
              "      <th>gene-name</th>\n",
              "      <th>chromosome</th>\n",
              "      <th>genetic-category</th>\n",
              "      <th>gene-score</th>\n",
              "      <th>number-of-reports</th>\n",
              "      <th>syndromic</th>\n",
              "    </tr>\n",
              "  </thead>\n",
              "  <tbody>\n",
              "    <tr>\n",
              "      <th>0</th>\n",
              "      <td>9</td>\n",
              "      <td>4-aminobutyrate aminotransferase</td>\n",
              "      <td>16</td>\n",
              "      <td>Rare Single Gene Mutation, Genetic Association</td>\n",
              "      <td>3.0</td>\n",
              "      <td>5</td>\n",
              "      <td>0</td>\n",
              "    </tr>\n",
              "    <tr>\n",
              "      <th>1</th>\n",
              "      <td>9</td>\n",
              "      <td>ATP-binding cassette, sub-family A (ABC1), mem...</td>\n",
              "      <td>17</td>\n",
              "      <td>Rare Single Gene Mutation</td>\n",
              "      <td>3.0</td>\n",
              "      <td>1</td>\n",
              "      <td>0</td>\n",
              "    </tr>\n",
              "    <tr>\n",
              "      <th>2</th>\n",
              "      <td>9</td>\n",
              "      <td>ATP binding cassette subfamily A member 13</td>\n",
              "      <td>7</td>\n",
              "      <td>Rare Single Gene Mutation, Functional</td>\n",
              "      <td>3.0</td>\n",
              "      <td>6</td>\n",
              "      <td>0</td>\n",
              "    </tr>\n",
              "    <tr>\n",
              "      <th>3</th>\n",
              "      <td>9</td>\n",
              "      <td>ATP-binding cassette, sub-family A (ABC1), mem...</td>\n",
              "      <td>19</td>\n",
              "      <td>Rare Single Gene Mutation</td>\n",
              "      <td>3.0</td>\n",
              "      <td>4</td>\n",
              "      <td>0</td>\n",
              "    </tr>\n",
              "    <tr>\n",
              "      <th>4</th>\n",
              "      <td>9</td>\n",
              "      <td>angiotensin I converting enzyme</td>\n",
              "      <td>17</td>\n",
              "      <td>Rare Single Gene Mutation, Genetic Association</td>\n",
              "      <td>3.0</td>\n",
              "      <td>3</td>\n",
              "      <td>0</td>\n",
              "    </tr>\n",
              "    <tr>\n",
              "      <th>...</th>\n",
              "      <td>...</td>\n",
              "      <td>...</td>\n",
              "      <td>...</td>\n",
              "      <td>...</td>\n",
              "      <td>...</td>\n",
              "      <td>...</td>\n",
              "      <td>...</td>\n",
              "    </tr>\n",
              "    <tr>\n",
              "      <th>1018</th>\n",
              "      <td>9</td>\n",
              "      <td>zinc finger MYM-type containing 2</td>\n",
              "      <td>13</td>\n",
              "      <td>Rare Single Gene Mutation, Syndromic</td>\n",
              "      <td>2.0</td>\n",
              "      <td>6</td>\n",
              "      <td>1</td>\n",
              "    </tr>\n",
              "    <tr>\n",
              "      <th>1019</th>\n",
              "      <td>9</td>\n",
              "      <td>zinc finger MYND-type containing 8</td>\n",
              "      <td>20</td>\n",
              "      <td>Rare Single Gene Mutation</td>\n",
              "      <td>1.0</td>\n",
              "      <td>4</td>\n",
              "      <td>0</td>\n",
              "    </tr>\n",
              "    <tr>\n",
              "      <th>1020</th>\n",
              "      <td>9</td>\n",
              "      <td>Zinc finger protein 827</td>\n",
              "      <td>4</td>\n",
              "      <td>Genetic Association</td>\n",
              "      <td>3.0</td>\n",
              "      <td>1</td>\n",
              "      <td>0</td>\n",
              "    </tr>\n",
              "    <tr>\n",
              "      <th>1021</th>\n",
              "      <td>9</td>\n",
              "      <td>zinc finger SWIM-type containing 6</td>\n",
              "      <td>5</td>\n",
              "      <td>Syndromic, Genetic Association</td>\n",
              "      <td>NaN</td>\n",
              "      <td>3</td>\n",
              "      <td>1</td>\n",
              "    </tr>\n",
              "    <tr>\n",
              "      <th>1022</th>\n",
              "      <td>9</td>\n",
              "      <td>zwilchkinetochore protein</td>\n",
              "      <td>15</td>\n",
              "      <td>Rare Single Gene Mutation</td>\n",
              "      <td>3.0</td>\n",
              "      <td>4</td>\n",
              "      <td>0</td>\n",
              "    </tr>\n",
              "  </tbody>\n",
              "</table>\n",
              "<p>1023 rows × 7 columns</p>\n",
              "</div>\n",
              "      <button class=\"colab-df-convert\" onclick=\"convertToInteractive('df-a0a61ede-272b-4d96-a74d-b31403d03ca9')\"\n",
              "              title=\"Convert this dataframe to an interactive table.\"\n",
              "              style=\"display:none;\">\n",
              "        \n",
              "  <svg xmlns=\"http://www.w3.org/2000/svg\" height=\"24px\"viewBox=\"0 0 24 24\"\n",
              "       width=\"24px\">\n",
              "    <path d=\"M0 0h24v24H0V0z\" fill=\"none\"/>\n",
              "    <path d=\"M18.56 5.44l.94 2.06.94-2.06 2.06-.94-2.06-.94-.94-2.06-.94 2.06-2.06.94zm-11 1L8.5 8.5l.94-2.06 2.06-.94-2.06-.94L8.5 2.5l-.94 2.06-2.06.94zm10 10l.94 2.06.94-2.06 2.06-.94-2.06-.94-.94-2.06-.94 2.06-2.06.94z\"/><path d=\"M17.41 7.96l-1.37-1.37c-.4-.4-.92-.59-1.43-.59-.52 0-1.04.2-1.43.59L10.3 9.45l-7.72 7.72c-.78.78-.78 2.05 0 2.83L4 21.41c.39.39.9.59 1.41.59.51 0 1.02-.2 1.41-.59l7.78-7.78 2.81-2.81c.8-.78.8-2.07 0-2.86zM5.41 20L4 18.59l7.72-7.72 1.47 1.35L5.41 20z\"/>\n",
              "  </svg>\n",
              "      </button>\n",
              "      \n",
              "  <style>\n",
              "    .colab-df-container {\n",
              "      display:flex;\n",
              "      flex-wrap:wrap;\n",
              "      gap: 12px;\n",
              "    }\n",
              "\n",
              "    .colab-df-convert {\n",
              "      background-color: #E8F0FE;\n",
              "      border: none;\n",
              "      border-radius: 50%;\n",
              "      cursor: pointer;\n",
              "      display: none;\n",
              "      fill: #1967D2;\n",
              "      height: 32px;\n",
              "      padding: 0 0 0 0;\n",
              "      width: 32px;\n",
              "    }\n",
              "\n",
              "    .colab-df-convert:hover {\n",
              "      background-color: #E2EBFA;\n",
              "      box-shadow: 0px 1px 2px rgba(60, 64, 67, 0.3), 0px 1px 3px 1px rgba(60, 64, 67, 0.15);\n",
              "      fill: #174EA6;\n",
              "    }\n",
              "\n",
              "    [theme=dark] .colab-df-convert {\n",
              "      background-color: #3B4455;\n",
              "      fill: #D2E3FC;\n",
              "    }\n",
              "\n",
              "    [theme=dark] .colab-df-convert:hover {\n",
              "      background-color: #434B5C;\n",
              "      box-shadow: 0px 1px 3px 1px rgba(0, 0, 0, 0.15);\n",
              "      filter: drop-shadow(0px 1px 2px rgba(0, 0, 0, 0.3));\n",
              "      fill: #FFFFFF;\n",
              "    }\n",
              "  </style>\n",
              "\n",
              "      <script>\n",
              "        const buttonEl =\n",
              "          document.querySelector('#df-a0a61ede-272b-4d96-a74d-b31403d03ca9 button.colab-df-convert');\n",
              "        buttonEl.style.display =\n",
              "          google.colab.kernel.accessAllowed ? 'block' : 'none';\n",
              "\n",
              "        async function convertToInteractive(key) {\n",
              "          const element = document.querySelector('#df-a0a61ede-272b-4d96-a74d-b31403d03ca9');\n",
              "          const dataTable =\n",
              "            await google.colab.kernel.invokeFunction('convertToInteractive',\n",
              "                                                     [key], {});\n",
              "          if (!dataTable) return;\n",
              "\n",
              "          const docLinkHtml = 'Like what you see? Visit the ' +\n",
              "            '<a target=\"_blank\" href=https://colab.research.google.com/notebooks/data_table.ipynb>data table notebook</a>'\n",
              "            + ' to learn more about interactive tables.';\n",
              "          element.innerHTML = '';\n",
              "          dataTable['output_type'] = 'display_data';\n",
              "          await google.colab.output.renderOutput(dataTable, element);\n",
              "          const docLink = document.createElement('div');\n",
              "          docLink.innerHTML = docLinkHtml;\n",
              "          element.appendChild(docLink);\n",
              "        }\n",
              "      </script>\n",
              "    </div>\n",
              "  </div>\n",
              "  "
            ]
          },
          "metadata": {},
          "execution_count": 10
        }
      ]
    },
    {
      "cell_type": "code",
      "source": [
        "#Checking for null values\n",
        "data.isna().sum()"
      ],
      "metadata": {
        "colab": {
          "base_uri": "https://localhost:8080/"
        },
        "id": "3yIa0Pqj6w7x",
        "outputId": "f6474430-77f0-4dae-e2f4-6eac86da2f0e"
      },
      "execution_count": 11,
      "outputs": [
        {
          "output_type": "execute_result",
          "data": {
            "text/plain": [
              "status                0\n",
              "gene-name             1\n",
              "chromosome            0\n",
              "genetic-category      2\n",
              "gene-score           81\n",
              "number-of-reports     0\n",
              "syndromic             0\n",
              "dtype: int64"
            ]
          },
          "metadata": {},
          "execution_count": 11
        }
      ]
    },
    {
      "cell_type": "code",
      "source": [
        "#Handling null values using SimpleImputer\n",
        "from sklearn.impute import SimpleImputer\n",
        "imputer=SimpleImputer(missing_values=np.nan,strategy='most_frequent')\n",
        "data['gene-score']=imputer.fit_transform(data[['gene-score']])"
      ],
      "metadata": {
        "id": "2RwbFxzj651G"
      },
      "execution_count": 12,
      "outputs": []
    },
    {
      "cell_type": "code",
      "source": [
        "#Checking for null values\n",
        "data.isna().sum()"
      ],
      "metadata": {
        "colab": {
          "base_uri": "https://localhost:8080/"
        },
        "id": "d-3LyWXX7yBZ",
        "outputId": "3cdd021e-c6bd-4d4c-a216-20feedfef784"
      },
      "execution_count": 13,
      "outputs": [
        {
          "output_type": "execute_result",
          "data": {
            "text/plain": [
              "status               0\n",
              "gene-name            1\n",
              "chromosome           0\n",
              "genetic-category     2\n",
              "gene-score           0\n",
              "number-of-reports    0\n",
              "syndromic            0\n",
              "dtype: int64"
            ]
          },
          "metadata": {},
          "execution_count": 13
        }
      ]
    },
    {
      "cell_type": "code",
      "source": [
        "#Removing the null values\n",
        "df1=data.dropna()"
      ],
      "metadata": {
        "id": "Wrphk6SXASZR"
      },
      "execution_count": 14,
      "outputs": []
    },
    {
      "cell_type": "code",
      "source": [
        "#checking for duplicate rows\n",
        "df1.duplicated().sum()"
      ],
      "metadata": {
        "colab": {
          "base_uri": "https://localhost:8080/"
        },
        "id": "JwOICDR5SeOi",
        "outputId": "79fc73b8-e9c5-4d91-fb84-0ff0e6c2d8c0"
      },
      "execution_count": 15,
      "outputs": [
        {
          "output_type": "execute_result",
          "data": {
            "text/plain": [
              "0"
            ]
          },
          "metadata": {},
          "execution_count": 15
        }
      ]
    },
    {
      "cell_type": "code",
      "source": [
        "#Checking for null values\n",
        "df1.isna().sum()"
      ],
      "metadata": {
        "colab": {
          "base_uri": "https://localhost:8080/"
        },
        "id": "t9kRpGYLAbt8",
        "outputId": "b9276d8f-a873-4b93-f479-cba118ddd1b1"
      },
      "execution_count": 16,
      "outputs": [
        {
          "output_type": "execute_result",
          "data": {
            "text/plain": [
              "status               0\n",
              "gene-name            0\n",
              "chromosome           0\n",
              "genetic-category     0\n",
              "gene-score           0\n",
              "number-of-reports    0\n",
              "syndromic            0\n",
              "dtype: int64"
            ]
          },
          "metadata": {},
          "execution_count": 16
        }
      ]
    },
    {
      "cell_type": "code",
      "source": [
        "df1.info()"
      ],
      "metadata": {
        "colab": {
          "base_uri": "https://localhost:8080/"
        },
        "id": "0ABZAKIYToHQ",
        "outputId": "d4b33e51-7a41-414f-ab37-d0a9ba53a678"
      },
      "execution_count": 17,
      "outputs": [
        {
          "output_type": "stream",
          "name": "stdout",
          "text": [
            "<class 'pandas.core.frame.DataFrame'>\n",
            "Int64Index: 1020 entries, 0 to 1022\n",
            "Data columns (total 7 columns):\n",
            " #   Column             Non-Null Count  Dtype  \n",
            "---  ------             --------------  -----  \n",
            " 0   status             1020 non-null   int64  \n",
            " 1   gene-name          1020 non-null   object \n",
            " 2   chromosome         1020 non-null   object \n",
            " 3   genetic-category   1020 non-null   object \n",
            " 4   gene-score         1020 non-null   float64\n",
            " 5   number-of-reports  1020 non-null   int64  \n",
            " 6   syndromic          1020 non-null   int64  \n",
            "dtypes: float64(1), int64(3), object(3)\n",
            "memory usage: 63.8+ KB\n"
          ]
        }
      ]
    },
    {
      "cell_type": "code",
      "source": [
        "#checking the unique values for each features in the dataset\n",
        "df1.nunique()"
      ],
      "metadata": {
        "colab": {
          "base_uri": "https://localhost:8080/"
        },
        "id": "XVDMLmzzTy1M",
        "outputId": "437239f2-336b-4cf3-d639-4b4b4e09973b"
      },
      "execution_count": 18,
      "outputs": [
        {
          "output_type": "execute_result",
          "data": {
            "text/plain": [
              "status                  1\n",
              "gene-name            1020\n",
              "chromosome             25\n",
              "genetic-category       14\n",
              "gene-score              3\n",
              "number-of-reports      57\n",
              "syndromic               2\n",
              "dtype: int64"
            ]
          },
          "metadata": {},
          "execution_count": 18
        }
      ]
    },
    {
      "cell_type": "code",
      "source": [
        "#Size of the dataset\n",
        "print(\"Size of Dataset: {} rows , {} columns\".format(df.shape[0],df.shape[1]))"
      ],
      "metadata": {
        "colab": {
          "base_uri": "https://localhost:8080/"
        },
        "id": "Q0FMsW7w8AOA",
        "outputId": "b0e53f4d-db7a-493a-9565-7944abbc5ede"
      },
      "execution_count": 19,
      "outputs": [
        {
          "output_type": "stream",
          "name": "stdout",
          "text": [
            "Size of Dataset: 1023 rows , 9 columns\n"
          ]
        }
      ]
    },
    {
      "cell_type": "code",
      "source": [
        "#checking the unique values under 'chromosome'\n",
        "df1['chromosome'].unique()"
      ],
      "metadata": {
        "colab": {
          "base_uri": "https://localhost:8080/"
        },
        "id": "ZZhdrLvqy4mr",
        "outputId": "475b6dbd-3c0e-4c2b-ccb4-61475507ff56"
      },
      "execution_count": 20,
      "outputs": [
        {
          "output_type": "execute_result",
          "data": {
            "text/plain": [
              "array(['16', '17', '7', '19', '3', '20', '2', '10', '1', '22', 'X', '12',\n",
              "       '6', '15', '4', '8', '11', '9', '14', 'X,Y', '18', '5', '13', '21',\n",
              "       'Y'], dtype=object)"
            ]
          },
          "metadata": {},
          "execution_count": 20
        }
      ]
    },
    {
      "cell_type": "code",
      "source": [
        "#count of values under 'syndromic'\n",
        "df1['syndromic'].value_counts()"
      ],
      "metadata": {
        "colab": {
          "base_uri": "https://localhost:8080/"
        },
        "id": "hgdAnr7SCu4t",
        "outputId": "9b1f4918-6c78-49cc-867a-9774bbca833e"
      },
      "execution_count": 21,
      "outputs": [
        {
          "output_type": "execute_result",
          "data": {
            "text/plain": [
              "0    790\n",
              "1    230\n",
              "Name: syndromic, dtype: int64"
            ]
          },
          "metadata": {},
          "execution_count": 21
        }
      ]
    },
    {
      "cell_type": "code",
      "source": [
        "# plot heatmap to check the correlation\n",
        "plt.figure(figsize = (10, 5))\n",
        "sns.heatmap(df1.corr(), annot = True, cmap=\"inferno\")\n",
        "plt.show()"
      ],
      "metadata": {
        "colab": {
          "base_uri": "https://localhost:8080/",
          "height": 451
        },
        "id": "reLZ5Q9EJfRa",
        "outputId": "a8e0ff77-9133-4cfe-d8c7-2f066e5db308"
      },
      "execution_count": 22,
      "outputs": [
        {
          "output_type": "display_data",
          "data": {
            "text/plain": [
              "<Figure size 1000x500 with 2 Axes>"
            ],
            "image/png": "[encoded data removed]"
          },
          "metadata": {}
        }
      ]
    },
    {
      "cell_type": "markdown",
      "source": [
        "# **FEATURE ENCODING**"
      ],
      "metadata": {
        "id": "r8Kp50Vf9h9V"
      }
    },
    {
      "cell_type": "code",
      "source": [
        "#Transform categorical data into numerical data\n",
        "from sklearn.preprocessing import LabelEncoder\n",
        "le = LabelEncoder()\n",
        "cat_col = ['gene-name', 'chromosome', 'genetic-category']\n",
        "for col in cat_col:\n",
        "    df1[col] = le.fit_transform(df1[col])\n",
        "print(df1)"
      ],
      "metadata": {
        "colab": {
          "base_uri": "https://localhost:8080/"
        },
        "id": "Sx4SiD7S0xFf",
        "outputId": "38c23be8-208b-4128-aeae-e894107f419f"
      },
      "execution_count": 23,
      "outputs": [
        {
          "output_type": "stream",
          "name": "stdout",
          "text": [
            "      status  gene-name  chromosome  genetic-category  gene-score  \\\n",
            "0          9          0           7                 5         3.0   \n",
            "1          9         14           8                 3         3.0   \n",
            "2          9         13          19                 4         3.0   \n",
            "3          9         15          10                 3         3.0   \n",
            "4          9        461           8                 5         3.0   \n",
            "...      ...        ...         ...               ...         ...   \n",
            "1018       9       1012           4                 7         2.0   \n",
            "1019       9       1013          12                 3         1.0   \n",
            "1020       9        436          16                 1         3.0   \n",
            "1021       9       1014          17                13         3.0   \n",
            "1022       9       1019           6                 3         3.0   \n",
            "\n",
            "      number-of-reports  syndromic  \n",
            "0                     5          0  \n",
            "1                     1          0  \n",
            "2                     6          0  \n",
            "3                     4          0  \n",
            "4                     3          0  \n",
            "...                 ...        ...  \n",
            "1018                  6          1  \n",
            "1019                  4          0  \n",
            "1020                  1          0  \n",
            "1021                  3          1  \n",
            "1022                  4          0  \n",
            "\n",
            "[1020 rows x 7 columns]\n"
          ]
        }
      ]
    },
    {
      "cell_type": "code",
      "source": [
        "#Choosing the independent variables\n",
        "x=df1.iloc[:,:-1]\n",
        "\n",
        "#Choosing the target variable\n",
        "y=df1.iloc[:,-1].values"
      ],
      "metadata": {
        "id": "McPt6dJ6KWBl"
      },
      "execution_count": 24,
      "outputs": []
    },
    {
      "cell_type": "markdown",
      "source": [
        "# **TRAIN VALIDATION AND TEST SETS**"
      ],
      "metadata": {
        "id": "tue1chn2-DyJ"
      }
    },
    {
      "cell_type": "code",
      "source": [
        "from sklearn.model_selection import train_test_split\n",
        "x_train,x_test,y_train,y_test = train_test_split(x, y, test_size = 0.2, random_state = 1)"
      ],
      "metadata": {
        "id": "l5CF7vyj0NB1"
      },
      "execution_count": 25,
      "outputs": []
    },
    {
      "cell_type": "markdown",
      "source": [
        "### **HANDLING IMBALANCED DATA**"
      ],
      "metadata": {
        "id": "A8hZv3-1-iLH"
      }
    },
    {
      "cell_type": "code",
      "source": [
        "from imblearn.over_sampling import SMOTE\n",
        "smote = SMOTE()\n",
        "x_train, y_train = smote.fit_resample(x_train, y_train)"
      ],
      "metadata": {
        "id": "nIMzoC6wCkmA"
      },
      "execution_count": 26,
      "outputs": []
    },
    {
      "cell_type": "markdown",
      "source": [
        "# **FEATURE SELECTION**\n",
        "\n",
        "Feature selection methods are intended to reduce the number of input variables to those that are believed to be most useful to a model in order to predict the target variable."
      ],
      "metadata": {
        "id": "BpfGKh63_LJW"
      }
    },
    {
      "cell_type": "markdown",
      "source": [
        "### **T-TEST**\n",
        "\n",
        "* T-tests are parametric tests for determining correlations between two samples of data.\n",
        "\n",
        "* It is a type of inferential statistic used to determine if there is a significant difference between the means of two groups, which may be related in certain features."
      ],
      "metadata": {
        "id": "A9iMZdYUmCuE"
      }
    },
    {
      "cell_type": "code",
      "source": [
        "import scipy.stats as stats\n",
        "t_values, p_values = stats.ttest_ind(x, y)\n",
        "results = pd.DataFrame({'feature': data.columns[:-1], 't-value': t_values, 'p-value': p_values})\n",
        "results = results.sort_values(by='t-value', ascending=False)\n",
        "k = 5\n",
        "selected_features = results.head(k)['feature'].tolist()\n",
        "selected_features"
      ],
      "metadata": {
        "colab": {
          "base_uri": "https://localhost:8080/"
        },
        "id": "wip8frp97YH3",
        "outputId": "7ecbcbac-89eb-4520-9a0b-fcbfb37f1a40"
      },
      "execution_count": 27,
      "outputs": [
        {
          "output_type": "execute_result",
          "data": {
            "text/plain": [
              "['status', 'gene-score', 'genetic-category', 'gene-name', 'chromosome']"
            ]
          },
          "metadata": {},
          "execution_count": 27
        }
      ]
    },
    {
      "cell_type": "markdown",
      "source": [
        "The top five important features that are selected:\n",
        "\n",
        "* status\n",
        "* gene-score\n",
        "* genetic-category\n",
        "* gene-name\n",
        "* chromosome"
      ],
      "metadata": {
        "id": "X7QMyvmXwgnH"
      }
    },
    {
      "cell_type": "markdown",
      "source": [
        "# **MODEL BUILDING**"
      ],
      "metadata": {
        "id": "ubEtsPSBbHpR"
      }
    },
    {
      "cell_type": "markdown",
      "source": [
        "### **LOGISTIC REGRESSION**\n",
        "\n",
        "* Logistic regression is used for solving the classification problems.\n",
        "\n",
        "* It is used for predicting the categorical dependent variable using a given set of independent variables.\n",
        "\n",
        "* Logistic regression predicts the output of a categorical dependent variable. Therefore the outcome must be a categorical or discrete value. It can be either Yes or No, 0 or 1, true or False, etc.."
      ],
      "metadata": {
        "id": "CIJNaxHPlNCj"
      }
    },
    {
      "cell_type": "code",
      "source": [
        "from sklearn.linear_model import LogisticRegression\n",
        "lrModel = LogisticRegression()"
      ],
      "metadata": {
        "id": "PHDGWUaTlHuE"
      },
      "execution_count": 28,
      "outputs": []
    },
    {
      "cell_type": "markdown",
      "source": [
        "### **K-NEAREST NEIGHBOR**\n",
        "\n",
        "* K-NN algorithm assumes the similarity between the new case/data and available cases and put the new case into the category that is most similar to the available categories.\n",
        "\n",
        "* K-NN algorithm stores all the available data and classifies a new data point based on the similarity. This means when new data appears then it can be easily classified into a well suite category by using K- NN algorithm.\n",
        "\n",
        "* It is also called a lazy learner algorithm because it does not learn from the training set immediately instead it stores the dataset and at the time of classification, it performs an action on the dataset."
      ],
      "metadata": {
        "id": "ud2vMDAKluF1"
      }
    },
    {
      "cell_type": "code",
      "source": [
        "from sklearn.neighbors import KNeighborsClassifier\n",
        "KnModel = KNeighborsClassifier()"
      ],
      "metadata": {
        "id": "lmffwNgilI4M"
      },
      "execution_count": 29,
      "outputs": []
    },
    {
      "cell_type": "markdown",
      "source": [
        "### **RANDOM FOREST CLASSIFIER**\n",
        "\n",
        "* Random Forest is a classifier that contains a number of decision trees on various subsets of the given dataset and takes the average to improve the predictive accuracy of that dataset.\n",
        "\n",
        "* The greater number of trees in the forest leads to higher accuracy and prevents the problem of overfitting."
      ],
      "metadata": {
        "id": "LT07nMsVly3F"
      }
    },
    {
      "cell_type": "code",
      "source": [
        "from sklearn.ensemble import RandomForestClassifier\n",
        "RfModel = RandomForestClassifier()"
      ],
      "metadata": {
        "id": "xdAEaTe7lKI8"
      },
      "execution_count": 30,
      "outputs": []
    },
    {
      "cell_type": "markdown",
      "source": [
        "### **DECISION TREE CLASSIFIER**\n",
        "\n",
        "* It is a graphical representation for getting all the possible solutions to a problem/decision based on given conditions.\n",
        "\n",
        "* It is a tree-structured classifier, where internal nodes represent the features of a dataset, branches represent the decision rules and each leaf node represents the outcome."
      ],
      "metadata": {
        "id": "IwjWxdMTl080"
      }
    },
    {
      "cell_type": "code",
      "source": [
        "from sklearn.tree import DecisionTreeClassifier\n",
        "DtModel = DecisionTreeClassifier()"
      ],
      "metadata": {
        "id": "UDb6FrqrlLQc"
      },
      "execution_count": 31,
      "outputs": []
    },
    {
      "cell_type": "markdown",
      "source": [
        "### **SUPPORT VECTOR CLASSIFIER**\n",
        "\n",
        "* The goal of the SVM algorithm is to create the best line or decision boundary that can segregate n-dimensional space into classes so that can easily put the new data point in the correct category in the future. This best decision boundary is called a hyperplane.\n",
        "\n",
        "* SVM chooses the extreme points/vectors that help in creating the hyperplane.\n",
        "* These extreme cases are called as support vectors, and hence algorithm is termed as Support Vector Machine."
      ],
      "metadata": {
        "id": "msRhLuw9l2--"
      }
    },
    {
      "cell_type": "code",
      "source": [
        "from sklearn.svm import SVC\n",
        "SvmModel = SVC()"
      ],
      "metadata": {
        "id": "lBSSJh5G-0DR"
      },
      "execution_count": 32,
      "outputs": []
    },
    {
      "cell_type": "markdown",
      "source": [
        "## **KFOLD CROSS VALIDATION FOR VARIOUS MACHINE LEARNING MODELS**"
      ],
      "metadata": {
        "id": "2hz_vZ0slA8s"
      }
    },
    {
      "cell_type": "code",
      "source": [
        "from sklearn.model_selection import cross_val_score, KFold\n",
        "cv=KFold(n_splits=5, random_state=0, shuffle=True)\n",
        "\n",
        "scores = cross_val_score(lrModel, x_train, y_train, cv = cv,scoring='accuracy')\n",
        "print(\"Logistics Regression Average CV Score: \",scores.mean())\n",
        "\n",
        "scores = cross_val_score(KnModel, x_train, y_train, cv = cv,scoring='accuracy')\n",
        "print(\"KNeighbors Average CV Score: \",scores.mean())\n",
        "\n",
        "scores = cross_val_score(DtModel, x_train, y_train, cv = cv,scoring='accuracy')\n",
        "print(\"Decision Tree Average CV Score: \",scores.mean())\n",
        "\n",
        "scores = cross_val_score(RfModel, x_train, y_train, cv = cv,scoring='accuracy')\n",
        "print(\"Random Forest Average CV Score: \",scores.mean())\n",
        "\n",
        "scores = cross_val_score(SvmModel, x_train, y_train, cv = cv,scoring='accuracy')\n",
        "print(\"Support Vector Machine Average CV Score: \",scores.mean())"
      ],
      "metadata": {
        "id": "CmVWY-ir_UvT",
        "colab": {
          "base_uri": "https://localhost:8080/"
        },
        "outputId": "919026ab-f2da-46d6-f85d-5583e8404e7f"
      },
      "execution_count": 33,
      "outputs": [
        {
          "output_type": "stream",
          "name": "stdout",
          "text": [
            "Logistics Regression Average CV Score:  0.8837097684923773\n",
            "KNeighbors Average CV Score:  0.7389139845661585\n",
            "Decision Tree Average CV Score:  0.8868435911914172\n",
            "Random Forest Average CV Score:  0.9074345943911162\n",
            "Support Vector Machine Average CV Score:  0.5198004893657068\n"
          ]
        }
      ]
    },
    {
      "cell_type": "markdown",
      "source": [
        "### **ACCURACY OF MACHINE LEARNING MODELS**"
      ],
      "metadata": {
        "id": "6K00lf6flj-k"
      }
    },
    {
      "cell_type": "code",
      "source": [
        "models = ['Logistic Regression', 'KNN', 'Decision Tree', 'Random Forest', 'SVM']\n",
        "accuracy = [0.886, 0.756, 0.874, 0.907, 0.503]\n",
        "\n",
        "fig, ax = plt.subplots()\n",
        "ax.bar(models, accuracy)\n",
        "\n",
        "# Set the figure size\n",
        "fig.set_size_inches(8, 5)  # Adjust the width and height as desired\n",
        "\n",
        "for index, value in enumerate(accuracy):\n",
        "    plt.text(index, value,\n",
        "             str(value))\n",
        "\n",
        "# Add labels and titles\n",
        "ax.set_xlabel('Models')\n",
        "ax.set_ylabel('Accuracy')\n",
        "ax.set_title('Accuracy of Machine Learning Models')\n",
        "\n",
        "# Display the plot\n",
        "plt.show()"
      ],
      "metadata": {
        "colab": {
          "base_uri": "https://localhost:8080/",
          "height": 487
        },
        "id": "b3QVeterqmq5",
        "outputId": "c5aa2021-4eed-4f6a-854a-e1f0126b45e7"
      },
      "execution_count": 34,
      "outputs": [
        {
          "output_type": "display_data",
          "data": {
            "text/plain": [
              "<Figure size 800x500 with 1 Axes>"
            ],
            "image/png": "[encoded data removed]"
          },
          "metadata": {}
        }
      ]
    },
    {
      "cell_type": "markdown",
      "source": [
        "### **Random forest performs with the highest accuracy**"
      ],
      "metadata": {
        "id": "a3PrWDVRKWLb"
      }
    },
    {
      "cell_type": "code",
      "source": [
        "#Building the random forest classifier model\n",
        "from sklearn.ensemble import RandomForestClassifier\n",
        "rfc = RandomForestClassifier()\n",
        "rfc.fit(x_train, y_train)\n",
        "y_pred = rfc.predict(x_test)\n",
        "\n",
        "#Evaluation of the model\n",
        "from sklearn.metrics import confusion_matrix, f1_score, recall_score, precision_score, r2_score, accuracy_score\n",
        "print(\"Accuracy score : \",accuracy_score(y_pred,y_test))\n",
        "print(\"precision score : \",precision_score(y_pred,y_test,average='micro'))\n",
        "print(\"recall score : \",recall_score(y_pred,y_test,average='micro'))\n",
        "print(\"f1 score : \",f1_score(y_pred,y_test,average='micro'))\n",
        "sns.heatmap(confusion_matrix(y_pred,y_test), annot = True)\n",
        "plt.show()"
      ],
      "metadata": {
        "colab": {
          "base_uri": "https://localhost:8080/",
          "height": 499
        },
        "id": "UfiEKdNXYxKG",
        "outputId": "dd1c0d60-db95-4d02-c133-72aaebdb2451"
      },
      "execution_count": 35,
      "outputs": [
        {
          "output_type": "stream",
          "name": "stdout",
          "text": [
            "Accuracy score :  0.8725490196078431\n",
            "precision score :  0.8725490196078431\n",
            "recall score :  0.8725490196078431\n",
            "f1 score :  0.8725490196078431\n"
          ]
        },
        {
          "output_type": "display_data",
          "data": {
            "text/plain": [
              "<Figure size 640x480 with 2 Axes>"
            ],
            "image/png": "[encoded data removed]"
          },
          "metadata": {}
        }
      ]
    },
    {
      "cell_type": "markdown",
      "source": [
        "# **HYPERPARAMETER TUNING**"
      ],
      "metadata": {
        "id": "nelyKydtPHxt"
      }
    },
    {
      "cell_type": "code",
      "source": [
        "#Parameters for random forest classifier\n",
        "param_grid = {'n_estimators': [50, 100, 200],\n",
        "              'max_depth': [None, 5, 10],\n",
        "              'max_features': [None, 'sqrt', 'log2'],\n",
        "              'criterion': ['entropy', 'gini', 'log_loss']}\n",
        "\n",
        "#Import and imitialize GridSearchCV\n",
        "from sklearn.model_selection import GridSearchCV\n",
        "grid_search = GridSearchCV(estimator=RfModel, param_grid=param_grid, cv=5, scoring='accuracy')\n",
        "\n",
        "# Fit GridSearchCV to training data\n",
        "grid_search.fit(x,y)\n",
        "\n",
        "# Print best parameters and score\n",
        "print(\"Best Parameters: \", grid_search.best_params_)\n",
        "print(\"Best Score: \", grid_search.best_score_)"
      ],
      "metadata": {
        "colab": {
          "base_uri": "https://localhost:8080/"
        },
        "id": "G1Q3FIO9A_HC",
        "outputId": "74953e7e-3c7b-40f6-9ead-dfe8a9e78ed5"
      },
      "execution_count": 36,
      "outputs": [
        {
          "output_type": "stream",
          "name": "stdout",
          "text": [
            "Best Parameters:  {'criterion': 'log_loss', 'max_depth': 5, 'max_features': 'log2', 'n_estimators': 50}\n",
            "Best Score:  0.8794117647058822\n"
          ]
        }
      ]
    },
    {
      "cell_type": "markdown",
      "source": [
        "# **FINAL MODEL**"
      ],
      "metadata": {
        "id": "b6dlB4MgYuAv"
      }
    },
    {
      "cell_type": "code",
      "source": [
        "from sklearn.ensemble import RandomForestClassifier\n",
        "rfc = RandomForestClassifier(n_estimators=100, criterion='entropy', max_depth=5, max_features='sqrt')\n",
        "rfc.fit(x_train, y_train)"
      ],
      "metadata": {
        "id": "f11-gBNzPzL5",
        "colab": {
          "base_uri": "https://localhost:8080/",
          "height": 74
        },
        "outputId": "07180fff-730b-4ef0-b435-8193541d13ea"
      },
      "execution_count": 37,
      "outputs": [
        {
          "output_type": "execute_result",
          "data": {
            "text/plain": [
              "RandomForestClassifier(criterion='entropy', max_depth=5)"
            ],
            "text/html": [
              "<style>#sk-container-id-1 {color: black;background-color: white;}#sk-container-id-1 pre{padding: 0;}#sk-container-id-1 div.sk-toggleable {background-color: white;}#sk-container-id-1 label.sk-toggleable__label {cursor: pointer;display: block;width: 100%;margin-bottom: 0;padding: 0.3em;box-sizing: border-box;text-align: center;}#sk-container-id-1 label.sk-toggleable__label-arrow:before {content: \"▸\";float: left;margin-right: 0.25em;color: #696969;}#sk-container-id-1 label.sk-toggleable__label-arrow:hover:before {color: black;}#sk-container-id-1 div.sk-estimator:hover label.sk-toggleable__label-arrow:before {color: black;}#sk-container-id-1 div.sk-toggleable__content {max-height: 0;max-width: 0;overflow: hidden;text-align: left;background-color: #f0f8ff;}#sk-container-id-1 div.sk-toggleable__content pre {margin: 0.2em;color: black;border-radius: 0.25em;background-color: #f0f8ff;}#sk-container-id-1 input.sk-toggleable__control:checked~div.sk-toggleable__content {max-height: 200px;max-width: 100%;overflow: auto;}#sk-container-id-1 input.sk-toggleable__control:checked~label.sk-toggleable__label-arrow:before {content: \"▾\";}#sk-container-id-1 div.sk-estimator input.sk-toggleable__control:checked~label.sk-toggleable__label {background-color: #d4ebff;}#sk-container-id-1 div.sk-label input.sk-toggleable__control:checked~label.sk-toggleable__label {background-color: #d4ebff;}#sk-container-id-1 input.sk-hidden--visually {border: 0;clip: rect(1px 1px 1px 1px);clip: rect(1px, 1px, 1px, 1px);height: 1px;margin: -1px;overflow: hidden;padding: 0;position: absolute;width: 1px;}#sk-container-id-1 div.sk-estimator {font-family: monospace;background-color: #f0f8ff;border: 1px dotted black;border-radius: 0.25em;box-sizing: border-box;margin-bottom: 0.5em;}#sk-container-id-1 div.sk-estimator:hover {background-color: #d4ebff;}#sk-container-id-1 div.sk-parallel-item::after {content: \"\";width: 100%;border-bottom: 1px solid gray;flex-grow: 1;}#sk-container-id-1 div.sk-label:hover label.sk-toggleable__label {background-color: #d4ebff;}#sk-container-id-1 div.sk-serial::before {content: \"\";position: absolute;border-left: 1px solid gray;box-sizing: border-box;top: 0;bottom: 0;left: 50%;z-index: 0;}#sk-container-id-1 div.sk-serial {display: flex;flex-direction: column;align-items: center;background-color: white;padding-right: 0.2em;padding-left: 0.2em;position: relative;}#sk-container-id-1 div.sk-item {position: relative;z-index: 1;}#sk-container-id-1 div.sk-parallel {display: flex;align-items: stretch;justify-content: center;background-color: white;position: relative;}#sk-container-id-1 div.sk-item::before, #sk-container-id-1 div.sk-parallel-item::before {content: \"\";position: absolute;border-left: 1px solid gray;box-sizing: border-box;top: 0;bottom: 0;left: 50%;z-index: -1;}#sk-container-id-1 div.sk-parallel-item {display: flex;flex-direction: column;z-index: 1;position: relative;background-color: white;}#sk-container-id-1 div.sk-parallel-item:first-child::after {align-self: flex-end;width: 50%;}#sk-container-id-1 div.sk-parallel-item:last-child::after {align-self: flex-start;width: 50%;}#sk-container-id-1 div.sk-parallel-item:only-child::after {width: 0;}#sk-container-id-1 div.sk-dashed-wrapped {border: 1px dashed gray;margin: 0 0.4em 0.5em 0.4em;box-sizing: border-box;padding-bottom: 0.4em;background-color: white;}#sk-container-id-1 div.sk-label label {font-family: monospace;font-weight: bold;display: inline-block;line-height: 1.2em;}#sk-container-id-1 div.sk-label-container {text-align: center;}#sk-container-id-1 div.sk-container {/* jupyter's `normalize.less` sets `[hidden] { display: none; }` but bootstrap.min.css set `[hidden] { display: none !important; }` so we also need the `!important` here to be able to override the default hidden behavior on the sphinx rendered scikit-learn.org. See: https://github.com/scikit-learn/scikit-learn/issues/21755 */display: inline-block !important;position: relative;}#sk-container-id-1 div.sk-text-repr-fallback {display: none;}</style><div id=\"sk-container-id-1\" class=\"sk-top-container\"><div class=\"sk-text-repr-fallback\"><pre>RandomForestClassifier(criterion=&#x27;entropy&#x27;, max_depth=5)</pre><b>In a Jupyter environment, please rerun this cell to show the HTML representation or trust the notebook. <br />On GitHub, the HTML representation is unable to render, please try loading this page with nbviewer.org.</b></div><div class=\"sk-container\" hidden><div class=\"sk-item\"><div class=\"sk-estimator sk-toggleable\"><input class=\"sk-toggleable__control sk-hidden--visually\" id=\"sk-estimator-id-1\" type=\"checkbox\" checked><label for=\"sk-estimator-id-1\" class=\"sk-toggleable__label sk-toggleable__label-arrow\">RandomForestClassifier</label><div class=\"sk-toggleable__content\"><pre>RandomForestClassifier(criterion=&#x27;entropy&#x27;, max_depth=5)</pre></div></div></div></div></div>"
            ]
          },
          "metadata": {},
          "execution_count": 37
        }
      ]
    },
    {
      "cell_type": "code",
      "source": [
        "y_pred_rfc = rfc.predict(x_test)"
      ],
      "metadata": {
        "id": "N4j9GBe0QefV"
      },
      "execution_count": 38,
      "outputs": []
    },
    {
      "cell_type": "markdown",
      "source": [
        "### **EVALUATION METRICS**\n",
        "\n",
        "* The confusion matrix provides insights into the correct and incorrect predictions for each class, allowing for a detailed analysis of accuracy.\n",
        "\n",
        "* The classification report includes metrics such as F1 score, precision, recall, and accuracy for each class, providing a comprehensive analysis of performance metrics for classification models.\n",
        "\n",
        "**Accuracy:** Accuracy is an evaluation metric that allows you to measure the total number of predictions a model gets right.\n",
        "\n",
        "**Precision:** It measures the proportion of correctly predicted positive instances (TP) out of the total instances predicted as positive (TP + FP). It represents the model's ability to minimize false positives.\n",
        "\n",
        "**Recall (Sensitivity or True Positive Rate):** It measures the proportion of correctly predicted positive instances (TP) out of the total actual positive instances (TP + FN). It represents the model's ability to minimize false negatives.\n",
        "\n",
        "**F1 Score:** It is the harmonic mean of precision and recall, providing a balanced measure of the model's accuracy. It is particularly useful when dealing with imbalanced datasets.\n",
        "\n",
        "**Confusion Matrix:**\n",
        "\n",
        "* The confusion matrix is a table that shows the performance of a classification model by summarizing the counts of true positive (TP), true negative (TN), false positive (FP), and false negative (FN) predictions.\n",
        "\n",
        "* It provides a detailed breakdown of the model's predictions for each class, allowing us to evaluate its performance on different classes separately.\n",
        "\n",
        "* The rows of the matrix represent the actual classes, while the columns represent the predicted classes.\n",
        "\n",
        "* The diagonal elements of the matrix represent the correct predictions, while the off-diagonal elements represent the incorrect predictions.\n",
        "\n",
        "* By analyzing the confusion matrix, we can assess the model's accuracy, precision, recall, and other metrics for each class.\n",
        "\n",
        "**Classification Report:**\n",
        "\n",
        "The classification report provides a comprehensive evaluation of a classification model's performance, including metrics such as precision, recall, F1 score, and support.\n",
        "\n",
        "**Support:** It represents the number of instances in each class, indicating the distribution of the classes in the dataset.\n",
        "\n",
        "By examining the confusion matrix and classification report, we can gain insights into a model's overall performance, identify potential areas of improvement, and compare the performance of different models based on various metrics.\n",
        "\n"
      ],
      "metadata": {
        "id": "r2UWf9oiWa53"
      }
    },
    {
      "cell_type": "code",
      "source": [
        "from sklearn.metrics import accuracy_score\n",
        "print('The accuracy of random forest classifier: ', accuracy_score(y_test,y_pred_rfc))"
      ],
      "metadata": {
        "colab": {
          "base_uri": "https://localhost:8080/"
        },
        "id": "meAKcrmiQPtg",
        "outputId": "ac760f47-665f-46ac-9b83-304e192031c9"
      },
      "execution_count": 39,
      "outputs": [
        {
          "output_type": "stream",
          "name": "stdout",
          "text": [
            "The accuracy of random forest classifier:  0.8382352941176471\n"
          ]
        }
      ]
    },
    {
      "cell_type": "code",
      "source": [
        "from sklearn.metrics import confusion_matrix, f1_score, recall_score, precision_score\n",
        "print('The confusion matrix of random forest classifier: ', confusion_matrix(y_test,y_pred_rfc))\n",
        "print('The f1 score of random forest classifier: ', f1_score(y_test,y_pred_rfc))\n",
        "print('The recall score of random forest classifier: ', recall_score(y_test,y_pred_rfc))\n",
        "print('The precision score of random forest classifier: ', precision_score(y_test,y_pred_rfc))"
      ],
      "metadata": {
        "id": "o3WVR0_GesZ9",
        "colab": {
          "base_uri": "https://localhost:8080/"
        },
        "outputId": "2649b773-2685-4247-fe14-391d4d628382"
      },
      "execution_count": 40,
      "outputs": [
        {
          "output_type": "stream",
          "name": "stdout",
          "text": [
            "The confusion matrix of random forest classifier:  [[129  29]\n",
            " [  4  42]]\n",
            "The f1 score of random forest classifier:  0.717948717948718\n",
            "The recall score of random forest classifier:  0.9130434782608695\n",
            "The precision score of random forest classifier:  0.5915492957746479\n"
          ]
        }
      ]
    },
    {
      "cell_type": "code",
      "source": [
        "from sklearn.metrics import classification_report\n",
        "print(classification_report(y_test,y_pred_rfc))"
      ],
      "metadata": {
        "colab": {
          "base_uri": "https://localhost:8080/"
        },
        "id": "4Aie4Oymmkoi",
        "outputId": "22f2d1f1-2ddb-457a-ed09-c3bb463145e5"
      },
      "execution_count": 41,
      "outputs": [
        {
          "output_type": "stream",
          "name": "stdout",
          "text": [
            "              precision    recall  f1-score   support\n",
            "\n",
            "           0       0.97      0.82      0.89       158\n",
            "           1       0.59      0.91      0.72        46\n",
            "\n",
            "    accuracy                           0.84       204\n",
            "   macro avg       0.78      0.86      0.80       204\n",
            "weighted avg       0.88      0.84      0.85       204\n",
            "\n"
          ]
        }
      ]
    },
    {
      "cell_type": "markdown",
      "source": [
        "### **MOST INFLUENTIAL FEATURE**"
      ],
      "metadata": {
        "id": "ByMjdeO8wKQ-"
      }
    },
    {
      "cell_type": "code",
      "source": [
        "# Create a random forest classifier\n",
        "rfc = RandomForestClassifier()\n",
        "\n",
        "# Fit the classifier to the data\n",
        "rfc.fit(x, y)\n",
        "\n",
        "# Get feature importances\n",
        "importances = rfc.feature_importances_\n",
        "\n",
        "# Create a DataFrame to store feature importance information\n",
        "feature_importance = pd.DataFrame({'Feature': x.columns, 'Importance': importances})\n",
        "\n",
        "# Sort the features based on their importance\n",
        "sorted_features = feature_importance.sort_values(by='Importance', ascending=False)\n",
        "\n",
        "# Print the important features in order\n",
        "print(sorted_features)\n",
        "\n",
        "# Plot the feature importances using a barplot\n",
        "plt.figure(figsize=(8, 6))\n",
        "plt.bar(sorted_features['Feature'], sorted_features['Importance'])\n",
        "plt.xticks(rotation='vertical')\n",
        "plt.xlabel('Features')\n",
        "plt.ylabel('Importance')\n",
        "plt.title('Feature Importance')\n",
        "plt.tight_layout()\n",
        "plt.show()"
      ],
      "metadata": {
        "colab": {
          "base_uri": "https://localhost:8080/",
          "height": 728
        },
        "id": "chFHYCEpwNz_",
        "outputId": "9d1613fc-0ecb-49da-d8b8-d4d6b48fa224"
      },
      "execution_count": 42,
      "outputs": [
        {
          "output_type": "stream",
          "name": "stdout",
          "text": [
            "             Feature  Importance\n",
            "3   genetic-category    0.460978\n",
            "1          gene-name    0.191150\n",
            "5  number-of-reports    0.169273\n",
            "2         chromosome    0.114611\n",
            "4         gene-score    0.063989\n",
            "0             status    0.000000\n"
          ]
        },
        {
          "output_type": "display_data",
          "data": {
            "text/plain": [
              "<Figure size 800x600 with 1 Axes>"
            ],
            "image/png": "[encoded data removed]"
          },
          "metadata": {}
        }
      ]
    },
    {
      "cell_type": "markdown",
      "source": [
        "### **INFERENCE**\n",
        "\n",
        "* Therefore, I infer that the feature 'genetic-category' influences the most to detect the presence of Autism Spectrum Disorder(ASD) in human mutated gene.\n",
        "\n",
        "* Random forest performs the highest accuracy of 86%"
      ],
      "metadata": {
        "id": "Ov5ZeiQy0Eda"
      }
    }
  ]
}